{
 "cells": [
  {
   "cell_type": "code",
   "execution_count": 5,
   "metadata": {},
   "outputs": [],
   "source": [
    "import numpy as np\n",
    "import pandas as pd\n",
    "import seaborn as sns; sns.set()\n",
    "import matplotlib.pyplot as plt\n",
    "from mpl_toolkits.mplot3d import Axes3D\n",
    "from datetime import time\n",
    "import matplotlib.dates as mdates\n",
    "%matplotlib notebook\n",
    "%matplotlib inline\n",
    "plt.style.use('seaborn')\n",
    "sns.set_palette(\"muted\")"
   ]
  },
  {
   "cell_type": "code",
   "execution_count": 3,
   "metadata": {},
   "outputs": [],
   "source": [
    "filePath = 'data/july-2017-thru-june-2018.txt'"
   ]
  },
  {
   "cell_type": "code",
   "execution_count": 4,
   "metadata": {},
   "outputs": [],
   "source": [
    "accre_data = pd.read_csv(filePath, delimiter='|',dtype='str')"
   ]
  },
  {
   "cell_type": "markdown",
   "metadata": {},
   "source": [
    "## Q1: What is the relationship between queue time and (a) amount of memory requested, (b) amount of computing time requested? (Glenna)"
   ]
  },
  {
   "cell_type": "markdown",
   "metadata": {},
   "source": [
    "### Restrict data to just jobs run from the production queue"
   ]
  },
  {
   "cell_type": "code",
   "execution_count": 6,
   "metadata": {},
   "outputs": [],
   "source": [
    "accre_data = accre_data.loc[accre_data.Partition == 'production']"
   ]
  },
  {
   "cell_type": "markdown",
   "metadata": {},
   "source": [
    "### Recast date/time columns as datetime format"
   ]
  },
  {
   "cell_type": "code",
   "execution_count": 7,
   "metadata": {},
   "outputs": [],
   "source": [
    "accre_data.Submit = pd.to_datetime(accre_data.Submit)\n",
    "accre_data.Start = pd.to_datetime(accre_data.Start)"
   ]
  },
  {
   "cell_type": "markdown",
   "metadata": {},
   "source": [
    "### Calculate WaitTime and assign to new column"
   ]
  },
  {
   "cell_type": "code",
   "execution_count": 8,
   "metadata": {},
   "outputs": [],
   "source": [
    "accre_data['WaitTime'] = accre_data.Start - accre_data.Submit"
   ]
  },
  {
   "cell_type": "markdown",
   "metadata": {},
   "source": [
    "### Strip off the last two characters of ReqMem and pass to new columns"
   ]
  },
  {
   "cell_type": "code",
   "execution_count": 9,
   "metadata": {},
   "outputs": [
    {
     "data": {
      "text/plain": [
       "M    7866493\n",
       "G    4434926\n",
       "Name: MemUnits, dtype: int64"
      ]
     },
     "execution_count": 9,
     "metadata": {},
     "output_type": "execute_result"
    }
   ],
   "source": [
    "accre_data['NorC'] = accre_data.ReqMem.str[-1]\n",
    "accre_data['MemUnits'] = accre_data.ReqMem.str[-2]\n",
    "accre_data['ReqMemInBytes'] = accre_data.ReqMem.str[:-2]\n",
    "accre_data['ReqMemInBytes'] = pd.to_numeric(accre_data.ReqMemInBytes, errors='ignore')\n",
    "#accre_data.MemUnits.value_counts()"
   ]
  },
  {
   "cell_type": "code",
   "execution_count": 10,
   "metadata": {},
   "outputs": [],
   "source": [
    "accre_data.NNodes = pd.to_numeric(accre_data.NNodes, errors = 'ignore')\n",
    "accre_data.NCPUS = pd.to_numeric(accre_data.NCPUS, errors = 'ignore')"
   ]
  },
  {
   "cell_type": "markdown",
   "metadata": {},
   "source": [
    "### Convert ReqMem to useable units (bytes)"
   ]
  },
  {
   "cell_type": "code",
   "execution_count": 11,
   "metadata": {},
   "outputs": [],
   "source": [
    "mask = (accre_data.NorC == 'n')\n",
    "accre_data.loc[mask,'ReqMemInBytes'] = accre_data.loc[mask,'ReqMemInBytes']*accre_data.loc[mask,'NNodes']\n",
    "accre_data.loc[~mask,'ReqMemInBytes'] = accre_data.loc[~mask,'ReqMemInBytes']*accre_data.loc[~mask,'NCPUS']\n",
    "maskG = (accre_data.MemUnits == 'G')\n",
    "accre_data.loc[maskG,'ReqMemInBytes'] = accre_data.loc[maskG,'ReqMemInBytes']*(10.**9.)\n",
    "maskM = (accre_data.MemUnits == 'M')\n",
    "accre_data.loc[maskM,'ReqMemInBytes'] = accre_data.loc[maskM,'ReqMemInBytes']*(10.**6.)"
   ]
  },
  {
   "cell_type": "markdown",
   "metadata": {},
   "source": [
    "### Reformat the Timelimit series"
   ]
  },
  {
   "cell_type": "code",
   "execution_count": 12,
   "metadata": {},
   "outputs": [],
   "source": [
    "accre_data['ReqD'] = pd.to_numeric(accre_data.Timelimit.str[:-9]).fillna(value=0)*24. # in units of hours\n",
    "accre_data['ReqHMS'] = pd.to_timedelta(accre_data.Timelimit.str[-7::]).astype('timedelta64[s]')/(3600.) # in units of hours"
   ]
  },
  {
   "cell_type": "code",
   "execution_count": 11,
   "metadata": {},
   "outputs": [
    {
     "data": {
      "text/plain": [
       "0    91981.0\n",
       "1    92350.0\n",
       "2    93615.0\n",
       "3    94255.0\n",
       "4        1.0\n",
       "Name: WaitTime, dtype: float64"
      ]
     },
     "execution_count": 11,
     "metadata": {},
     "output_type": "execute_result"
    }
   ],
   "source": [
    "#accre_data.WaitTime.astype('timedelta64[s]').head()"
   ]
  },
  {
   "cell_type": "markdown",
   "metadata": {},
   "source": [
    "### Is there a relationship between the amount of computing time requested by a user and the queue time?"
   ]
  },
  {
   "cell_type": "code",
   "execution_count": 18,
   "metadata": {},
   "outputs": [
    {
     "data": {
      "text/plain": [
       "[]"
      ]
     },
     "execution_count": 18,
     "metadata": {},
     "output_type": "execute_result"
    },
    {
     "data": {
      "image/png": "[encoded data removed]",
      "text/plain": [
       "<Figure size 1080x576 with 1 Axes>"
      ]
     },
     "metadata": {},
     "output_type": "display_data"
    }
   ],
   "source": [
    "plt.figure(figsize=(15,8))\n",
    "sns.distplot(accre_data.ReqD+accre_data.ReqHMS,kde=False,bins=50,hist_kws={\"histtype\": \"bar\", \"linewidth\": 3,\"alpha\": 0.5, \"edgecolor\": \"blue\", \"facecolor\": \"None\"})\n",
    "plt.xlabel('Requested computing time [hours]',fontsize=16)\n",
    "plt.ylabel('Number of jobs',fontsize=16)\n",
    "plt.semilogy()"
   ]
  },
  {
   "cell_type": "code",
   "execution_count": null,
   "metadata": {},
   "outputs": [
    {
     "data": {
      "text/plain": [
       "Text(0,0.5,'Wait Time [Hours]')"
      ]
     },
     "execution_count": 13,
     "metadata": {},
     "output_type": "execute_result"
    }
   ],
   "source": [
    "plt.figure(figsize=(15,8))\n",
    "sns.scatterplot(x=accre_data.ReqD+accre_data.ReqHMS,y=accre_data.WaitTime.astype('timedelta64[s]')/3600.,data=accre_data,palette='muted',edgecolor='b',facecolor='None')\n",
    "#plt.semilogx()\n",
    "#plt.semilogy()\n",
    "plt.xlabel('Requested Computing Time [Hours]',fontsize=16)\n",
    "plt.ylabel('Wait Time [Hours]',fontsize=16)"
   ]
  },
  {
   "cell_type": "markdown",
   "metadata": {},
   "source": [
    "### Now let's consider a single group of users that have the same fairshare.  CMS submitted the most jobs in this dataset."
   ]
  },
  {
   "cell_type": "code",
   "execution_count": null,
   "metadata": {},
   "outputs": [
    {
     "data": {
      "text/plain": [
       "Text(0,0.5,'Wait Time [Hours]')"
      ]
     },
     "execution_count": 22,
     "metadata": {},
     "output_type": "execute_result"
    }
   ],
   "source": [
    "plt.figure(figsize=(15,8))\n",
    "subset = accre_data.loc[accre_data.Group=='cms']\n",
    "sns.scatterplot(x=subset.ReqD+subset.ReqHMS,y=subset.WaitTime.astype('timedelta64[s]')/3600.,s=subset.ReqMemInBytes)\n",
    "#plt.semilogy()\n",
    "plt.xlabel('Requested Computing Time [Hours]',fontsize=16)\n",
    "plt.ylabel('Wait Time [Hours]',fontsize=16)"
   ]
  },
  {
   "cell_type": "markdown",
   "metadata": {},
   "source": [
    "## Does a relationship exist between the amount of memory requested by a user and their wait time in the queue?"
   ]
  },
  {
   "cell_type": "code",
   "execution_count": 14,
   "metadata": {},
   "outputs": [
    {
     "data": {
      "text/plain": [
       "[]"
      ]
     },
     "execution_count": 14,
     "metadata": {},
     "output_type": "execute_result"
    },
    {
     "data": {
      "image/png": "[encoded data removed]",
      "text/plain": [
       "<Figure size 1080x576 with 1 Axes>"
      ]
     },
     "metadata": {},
     "output_type": "display_data"
    }
   ],
   "source": [
    "plt.figure(figsize=(15,8))\n",
    "sns.distplot(np.log10(accre_data.ReqMemInBytes.dropna()/(10.**9)), kde=False, bins=20, hist_kws={\"histtype\": \"bar\", \"linewidth\": 3,\"alpha\": 0.5, \"edgecolor\": \"blue\", \"facecolor\": \"None\"})\n",
    "plt.xlabel('log Requested Memory [GB]',fontsize=16)\n",
    "plt.ylabel('Number of jobs',fontsize=16)\n",
    "plt.semilogy()"
   ]
  },
  {
   "cell_type": "code",
   "execution_count": 16,
   "metadata": {},
   "outputs": [
    {
     "ename": "TypeError",
     "evalue": "ufunc 'sqrt' not supported for the input types, and the inputs could not be safely coerced to any supported types according to the casting rule ''safe''",
     "output_type": "error",
     "traceback": [
      "\u001b[0;31m---------------------------------------------------------------------------\u001b[0m",
      "\u001b[0;31mTypeError\u001b[0m                                 Traceback (most recent call last)",
      "\u001b[0;32m<ipython-input-16-8b8b0ded4e27>\u001b[0m in \u001b[0;36m<module>\u001b[0;34m()\u001b[0m\n\u001b[1;32m      1\u001b[0m \u001b[0mplt\u001b[0m\u001b[0;34m.\u001b[0m\u001b[0mfigure\u001b[0m\u001b[0;34m(\u001b[0m\u001b[0mfigsize\u001b[0m\u001b[0;34m=\u001b[0m\u001b[0;34m(\u001b[0m\u001b[0;36m15\u001b[0m\u001b[0;34m,\u001b[0m\u001b[0;36m8\u001b[0m\u001b[0;34m)\u001b[0m\u001b[0;34m)\u001b[0m\u001b[0;34m\u001b[0m\u001b[0m\n\u001b[0;32m----> 2\u001b[0;31m \u001b[0mplt\u001b[0m\u001b[0;34m.\u001b[0m\u001b[0mscatter\u001b[0m\u001b[0;34m(\u001b[0m\u001b[0maccre_data\u001b[0m\u001b[0;34m.\u001b[0m\u001b[0mReqMemInBytes\u001b[0m\u001b[0;34m/\u001b[0m\u001b[0;34m(\u001b[0m\u001b[0;36m10.\u001b[0m\u001b[0;34m**\u001b[0m\u001b[0;36m9.\u001b[0m\u001b[0;34m)\u001b[0m\u001b[0;34m,\u001b[0m\u001b[0maccre_data\u001b[0m\u001b[0;34m.\u001b[0m\u001b[0mWaitTime\u001b[0m\u001b[0;34m.\u001b[0m\u001b[0mastype\u001b[0m\u001b[0;34m(\u001b[0m\u001b[0;34m'timedelta64[s]'\u001b[0m\u001b[0;34m)\u001b[0m\u001b[0;34m/\u001b[0m\u001b[0;36m3600.\u001b[0m\u001b[0;34m,\u001b[0m\u001b[0;34m'.'\u001b[0m\u001b[0;34m)\u001b[0m\u001b[0;34m\u001b[0m\u001b[0m\n\u001b[0m\u001b[1;32m      3\u001b[0m \u001b[0mplt\u001b[0m\u001b[0;34m.\u001b[0m\u001b[0msemilogx\u001b[0m\u001b[0;34m(\u001b[0m\u001b[0;34m)\u001b[0m\u001b[0;34m\u001b[0m\u001b[0m\n\u001b[1;32m      4\u001b[0m \u001b[0mplt\u001b[0m\u001b[0;34m.\u001b[0m\u001b[0mxlabel\u001b[0m\u001b[0;34m(\u001b[0m\u001b[0;34m'Requested Memory [GB]'\u001b[0m\u001b[0;34m,\u001b[0m\u001b[0mfontsize\u001b[0m\u001b[0;34m=\u001b[0m\u001b[0;36m16\u001b[0m\u001b[0;34m)\u001b[0m\u001b[0;34m\u001b[0m\u001b[0m\n\u001b[1;32m      5\u001b[0m \u001b[0mplt\u001b[0m\u001b[0;34m.\u001b[0m\u001b[0mylabel\u001b[0m\u001b[0;34m(\u001b[0m\u001b[0;34m'Wait Time [Hour]'\u001b[0m\u001b[0;34m,\u001b[0m\u001b[0mfontsize\u001b[0m\u001b[0;34m=\u001b[0m\u001b[0;36m16\u001b[0m\u001b[0;34m)\u001b[0m\u001b[0;34m\u001b[0m\u001b[0m\n",
      "\u001b[0;32m~/anaconda3/lib/python3.6/site-packages/matplotlib/pyplot.py\u001b[0m in \u001b[0;36mscatter\u001b[0;34m(x, y, s, c, marker, cmap, norm, vmin, vmax, alpha, linewidths, verts, edgecolors, hold, data, **kwargs)\u001b[0m\n\u001b[1;32m   3468\u001b[0m                          \u001b[0mvmin\u001b[0m\u001b[0;34m=\u001b[0m\u001b[0mvmin\u001b[0m\u001b[0;34m,\u001b[0m \u001b[0mvmax\u001b[0m\u001b[0;34m=\u001b[0m\u001b[0mvmax\u001b[0m\u001b[0;34m,\u001b[0m \u001b[0malpha\u001b[0m\u001b[0;34m=\u001b[0m\u001b[0malpha\u001b[0m\u001b[0;34m,\u001b[0m\u001b[0;34m\u001b[0m\u001b[0m\n\u001b[1;32m   3469\u001b[0m                          \u001b[0mlinewidths\u001b[0m\u001b[0;34m=\u001b[0m\u001b[0mlinewidths\u001b[0m\u001b[0;34m,\u001b[0m \u001b[0mverts\u001b[0m\u001b[0;34m=\u001b[0m\u001b[0mverts\u001b[0m\u001b[0;34m,\u001b[0m\u001b[0;34m\u001b[0m\u001b[0m\n\u001b[0;32m-> 3470\u001b[0;31m                          edgecolors=edgecolors, data=data, **kwargs)\n\u001b[0m\u001b[1;32m   3471\u001b[0m     \u001b[0;32mfinally\u001b[0m\u001b[0;34m:\u001b[0m\u001b[0;34m\u001b[0m\u001b[0m\n\u001b[1;32m   3472\u001b[0m         \u001b[0max\u001b[0m\u001b[0;34m.\u001b[0m\u001b[0m_hold\u001b[0m \u001b[0;34m=\u001b[0m \u001b[0mwashold\u001b[0m\u001b[0;34m\u001b[0m\u001b[0m\n",
      "\u001b[0;32m~/anaconda3/lib/python3.6/site-packages/matplotlib/__init__.py\u001b[0m in \u001b[0;36minner\u001b[0;34m(ax, *args, **kwargs)\u001b[0m\n\u001b[1;32m   1853\u001b[0m                         \u001b[0;34m\"the Matplotlib list!)\"\u001b[0m \u001b[0;34m%\u001b[0m \u001b[0;34m(\u001b[0m\u001b[0mlabel_namer\u001b[0m\u001b[0;34m,\u001b[0m \u001b[0mfunc\u001b[0m\u001b[0;34m.\u001b[0m\u001b[0m__name__\u001b[0m\u001b[0;34m)\u001b[0m\u001b[0;34m,\u001b[0m\u001b[0;34m\u001b[0m\u001b[0m\n\u001b[1;32m   1854\u001b[0m                         RuntimeWarning, stacklevel=2)\n\u001b[0;32m-> 1855\u001b[0;31m             \u001b[0;32mreturn\u001b[0m \u001b[0mfunc\u001b[0m\u001b[0;34m(\u001b[0m\u001b[0max\u001b[0m\u001b[0;34m,\u001b[0m \u001b[0;34m*\u001b[0m\u001b[0margs\u001b[0m\u001b[0;34m,\u001b[0m \u001b[0;34m**\u001b[0m\u001b[0mkwargs\u001b[0m\u001b[0;34m)\u001b[0m\u001b[0;34m\u001b[0m\u001b[0m\n\u001b[0m\u001b[1;32m   1856\u001b[0m \u001b[0;34m\u001b[0m\u001b[0m\n\u001b[1;32m   1857\u001b[0m         inner.__doc__ = _add_data_doc(inner.__doc__,\n",
      "\u001b[0;32m~/anaconda3/lib/python3.6/site-packages/matplotlib/axes/_axes.py\u001b[0m in \u001b[0;36mscatter\u001b[0;34m(self, x, y, s, c, marker, cmap, norm, vmin, vmax, alpha, linewidths, verts, edgecolors, **kwargs)\u001b[0m\n\u001b[1;32m   4318\u001b[0m                 \u001b[0moffsets\u001b[0m\u001b[0;34m=\u001b[0m\u001b[0moffsets\u001b[0m\u001b[0;34m,\u001b[0m\u001b[0;34m\u001b[0m\u001b[0m\n\u001b[1;32m   4319\u001b[0m                 \u001b[0mtransOffset\u001b[0m\u001b[0;34m=\u001b[0m\u001b[0mkwargs\u001b[0m\u001b[0;34m.\u001b[0m\u001b[0mpop\u001b[0m\u001b[0;34m(\u001b[0m\u001b[0;34m'transform'\u001b[0m\u001b[0;34m,\u001b[0m \u001b[0mself\u001b[0m\u001b[0;34m.\u001b[0m\u001b[0mtransData\u001b[0m\u001b[0;34m)\u001b[0m\u001b[0;34m,\u001b[0m\u001b[0;34m\u001b[0m\u001b[0m\n\u001b[0;32m-> 4320\u001b[0;31m                 \u001b[0malpha\u001b[0m\u001b[0;34m=\u001b[0m\u001b[0malpha\u001b[0m\u001b[0;34m\u001b[0m\u001b[0m\n\u001b[0m\u001b[1;32m   4321\u001b[0m                 )\n\u001b[1;32m   4322\u001b[0m         \u001b[0mcollection\u001b[0m\u001b[0;34m.\u001b[0m\u001b[0mset_transform\u001b[0m\u001b[0;34m(\u001b[0m\u001b[0mmtransforms\u001b[0m\u001b[0;34m.\u001b[0m\u001b[0mIdentityTransform\u001b[0m\u001b[0;34m(\u001b[0m\u001b[0;34m)\u001b[0m\u001b[0;34m)\u001b[0m\u001b[0;34m\u001b[0m\u001b[0m\n",
      "\u001b[0;32m~/anaconda3/lib/python3.6/site-packages/matplotlib/collections.py\u001b[0m in \u001b[0;36m__init__\u001b[0;34m(self, paths, sizes, **kwargs)\u001b[0m\n\u001b[1;32m    927\u001b[0m         \u001b[0mCollection\u001b[0m\u001b[0;34m.\u001b[0m\u001b[0m__init__\u001b[0m\u001b[0;34m(\u001b[0m\u001b[0mself\u001b[0m\u001b[0;34m,\u001b[0m \u001b[0;34m**\u001b[0m\u001b[0mkwargs\u001b[0m\u001b[0;34m)\u001b[0m\u001b[0;34m\u001b[0m\u001b[0m\n\u001b[1;32m    928\u001b[0m         \u001b[0mself\u001b[0m\u001b[0;34m.\u001b[0m\u001b[0mset_paths\u001b[0m\u001b[0;34m(\u001b[0m\u001b[0mpaths\u001b[0m\u001b[0;34m)\u001b[0m\u001b[0;34m\u001b[0m\u001b[0m\n\u001b[0;32m--> 929\u001b[0;31m         \u001b[0mself\u001b[0m\u001b[0;34m.\u001b[0m\u001b[0mset_sizes\u001b[0m\u001b[0;34m(\u001b[0m\u001b[0msizes\u001b[0m\u001b[0;34m)\u001b[0m\u001b[0;34m\u001b[0m\u001b[0m\n\u001b[0m\u001b[1;32m    930\u001b[0m         \u001b[0mself\u001b[0m\u001b[0;34m.\u001b[0m\u001b[0mstale\u001b[0m \u001b[0;34m=\u001b[0m \u001b[0;32mTrue\u001b[0m\u001b[0;34m\u001b[0m\u001b[0m\n\u001b[1;32m    931\u001b[0m \u001b[0;34m\u001b[0m\u001b[0m\n",
      "\u001b[0;32m~/anaconda3/lib/python3.6/site-packages/matplotlib/collections.py\u001b[0m in \u001b[0;36mset_sizes\u001b[0;34m(self, sizes, dpi)\u001b[0m\n\u001b[1;32m    900\u001b[0m             \u001b[0mself\u001b[0m\u001b[0;34m.\u001b[0m\u001b[0m_sizes\u001b[0m \u001b[0;34m=\u001b[0m \u001b[0mnp\u001b[0m\u001b[0;34m.\u001b[0m\u001b[0masarray\u001b[0m\u001b[0;34m(\u001b[0m\u001b[0msizes\u001b[0m\u001b[0;34m)\u001b[0m\u001b[0;34m\u001b[0m\u001b[0m\n\u001b[1;32m    901\u001b[0m             \u001b[0mself\u001b[0m\u001b[0;34m.\u001b[0m\u001b[0m_transforms\u001b[0m \u001b[0;34m=\u001b[0m \u001b[0mnp\u001b[0m\u001b[0;34m.\u001b[0m\u001b[0mzeros\u001b[0m\u001b[0;34m(\u001b[0m\u001b[0;34m(\u001b[0m\u001b[0mlen\u001b[0m\u001b[0;34m(\u001b[0m\u001b[0mself\u001b[0m\u001b[0;34m.\u001b[0m\u001b[0m_sizes\u001b[0m\u001b[0;34m)\u001b[0m\u001b[0;34m,\u001b[0m \u001b[0;36m3\u001b[0m\u001b[0;34m,\u001b[0m \u001b[0;36m3\u001b[0m\u001b[0;34m)\u001b[0m\u001b[0;34m)\u001b[0m\u001b[0;34m\u001b[0m\u001b[0m\n\u001b[0;32m--> 902\u001b[0;31m             \u001b[0mscale\u001b[0m \u001b[0;34m=\u001b[0m \u001b[0mnp\u001b[0m\u001b[0;34m.\u001b[0m\u001b[0msqrt\u001b[0m\u001b[0;34m(\u001b[0m\u001b[0mself\u001b[0m\u001b[0;34m.\u001b[0m\u001b[0m_sizes\u001b[0m\u001b[0;34m)\u001b[0m \u001b[0;34m*\u001b[0m \u001b[0mdpi\u001b[0m \u001b[0;34m/\u001b[0m \u001b[0;36m72.0\u001b[0m \u001b[0;34m*\u001b[0m \u001b[0mself\u001b[0m\u001b[0;34m.\u001b[0m\u001b[0m_factor\u001b[0m\u001b[0;34m\u001b[0m\u001b[0m\n\u001b[0m\u001b[1;32m    903\u001b[0m             \u001b[0mself\u001b[0m\u001b[0;34m.\u001b[0m\u001b[0m_transforms\u001b[0m\u001b[0;34m[\u001b[0m\u001b[0;34m:\u001b[0m\u001b[0;34m,\u001b[0m \u001b[0;36m0\u001b[0m\u001b[0;34m,\u001b[0m \u001b[0;36m0\u001b[0m\u001b[0;34m]\u001b[0m \u001b[0;34m=\u001b[0m \u001b[0mscale\u001b[0m\u001b[0;34m\u001b[0m\u001b[0m\n\u001b[1;32m    904\u001b[0m             \u001b[0mself\u001b[0m\u001b[0;34m.\u001b[0m\u001b[0m_transforms\u001b[0m\u001b[0;34m[\u001b[0m\u001b[0;34m:\u001b[0m\u001b[0;34m,\u001b[0m \u001b[0;36m1\u001b[0m\u001b[0;34m,\u001b[0m \u001b[0;36m1\u001b[0m\u001b[0;34m]\u001b[0m \u001b[0;34m=\u001b[0m \u001b[0mscale\u001b[0m\u001b[0;34m\u001b[0m\u001b[0m\n",
      "\u001b[0;31mTypeError\u001b[0m: ufunc 'sqrt' not supported for the input types, and the inputs could not be safely coerced to any supported types according to the casting rule ''safe''"
     ]
    },
    {
     "data": {
      "image/png": "[encoded data removed]",
      "text/plain": [
       "<Figure size 1080x576 with 1 Axes>"
      ]
     },
     "metadata": {},
     "output_type": "display_data"
    }
   ],
   "source": [
    "plt.figure(figsize=(15,8))\n",
    "plt.scatter(accre_data.ReqMemInBytes/(10.**9.),accre_data.WaitTime.astype('timedelta64[s]')/3600.,'.')\n",
    "plt.semilogx()\n",
    "plt.xlabel('Requested Memory [GB]',fontsize=16)\n",
    "plt.ylabel('Wait Time [Hour]',fontsize=16)"
   ]
  },
  {
   "cell_type": "markdown",
   "metadata": {},
   "source": [
    "### Let's look at a single group, which all have the same fair-share rank.  The CMS group submits the most jobs."
   ]
  },
  {
   "cell_type": "code",
   "execution_count": 17,
   "metadata": {},
   "outputs": [
    {
     "data": {
      "text/plain": [
       "Text(0,0.5,'Wait Time [Hour]')"
      ]
     },
     "execution_count": 17,
     "metadata": {},
     "output_type": "execute_result"
    },
    {
     "data": {
      "image/png": "[encoded data removed]",
      "text/plain": [
       "<Figure size 1080x576 with 1 Axes>"
      ]
     },
     "metadata": {},
     "output_type": "display_data"
    }
   ],
   "source": [
    "plt.figure(figsize=(15,8))\n",
    "subset = accre_data.loc[accre_data.Group=='cms']\n",
    "plt.scatter(subset.ReqMemInBytes/(10.**9.),subset.WaitTime.astype('timedelta64[s]')/3600.)\n",
    "plt.semilogx()\n",
    "plt.xlabel('Requested Memory [GB]',fontsize=16)\n",
    "plt.ylabel('Wait Time [Hour]',fontsize=16)"
   ]
  },
  {
   "cell_type": "markdown",
   "metadata": {},
   "source": [
    "### Let's subset this further by looking at a time when the queue is busy."
   ]
  },
  {
   "cell_type": "code",
   "execution_count": 202,
   "metadata": {},
   "outputs": [],
   "source": [
    "#subset.sort_values('Submit', inplace=True)\n",
    "#subset = subset.groupby('User').rolling('14400s', on='Submit').JobIDRaw.count()\n",
    "#subset.head()"
   ]
  },
  {
   "cell_type": "code",
   "execution_count": 203,
   "metadata": {},
   "outputs": [],
   "source": [
    "#subset = accre_data.loc[accre_data.NCPUS == 1]\n",
    "#plt.scatter(subset.ReqMemInBytes/(10.**9.),subset.WaitTime.astype('timedelta64[s]')/3600.,label=r'$N_{\\rm CPUs} = 1$')\n",
    "#plt.semilogx()\n",
    "#plt.semilogy()\n",
    "#plt.legend()\n",
    "#plt.ylim(0.1,1000.)\n",
    "#plt.xlabel('Requested Memory [GB]')\n",
    "#plt.ylabel('Wait Time [Hour]')"
   ]
  },
  {
   "cell_type": "code",
   "execution_count": 204,
   "metadata": {},
   "outputs": [],
   "source": [
    "#subset = accre_data.loc[accre_data.NCPUS == 2]\n",
    "#plt.scatter(subset.ReqMemInBytes/(10.**9.),subset.WaitTime.astype('timedelta64[s]')/3600.,label=r'$N_{\\rm CPUs} = 2$')\n",
    "#plt.semilogx()\n",
    "#plt.semilogy()\n",
    "#plt.legend()\n",
    "#plt.ylim(0.1,1000.)\n",
    "#plt.xlabel('Requested Memory [GB]')\n",
    "#plt.ylabel('Wait Time [Hour]')"
   ]
  },
  {
   "cell_type": "code",
   "execution_count": 205,
   "metadata": {},
   "outputs": [],
   "source": [
    "#subset = accre_data.loc[accre_data.NCPUS == 8]\n",
    "#plt.scatter(subset.ReqMemInBytes/(10.**9.),subset.WaitTime.astype('timedelta64[s]')/3600.,label=r'$N_{\\rm CPUs} = 8$')\n",
    "#plt.semilogx()\n",
    "#plt.semilogy()\n",
    "#plt.legend()\n",
    "#plt.ylim(0.1,1000.)\n",
    "#plt.xlabel('Requested Memory [GB]')\n",
    "#plt.ylabel('Wait Time [Hour]')"
   ]
  },
  {
   "cell_type": "code",
   "execution_count": 206,
   "metadata": {},
   "outputs": [],
   "source": [
    "#subset = accre_data.loc[accre_data.NCPUS > 8]\n",
    "#plt.scatter(subset.ReqMemInBytes/(10.**6.),subset.WaitTime.astype('timedelta64[s]')/3600.,label=r'$N_{\\rm CPUs} > 8$')\n",
    "#plt.semilogx()\n",
    "#plt.semilogy()\n",
    "#plt.legend()\n",
    "#plt.ylim(0.1,1000.)\n",
    "#plt.xlabel('Requested Memory [MB]')\n",
    "#plt.ylabel('Wait Time [Hour]')"
   ]
  },
  {
   "cell_type": "code",
   "execution_count": 207,
   "metadata": {},
   "outputs": [],
   "source": [
    "#subset = accre_data.loc[accre_data.NNodes > 1]\n",
    "#plt.scatter(subset.ReqMemInBytes/(10.**6.),subset.WaitTime.astype('timedelta64[s]')/3600.,label=r'$N_{\\rm nodes} > 1$')\n",
    "#plt.semilogx()\n",
    "#plt.semilogy()\n",
    "#plt.legend()\n",
    "##plt.ylim(0.1,1000.)\n",
    "#plt.xlabel('Requested Memory [MB]')\n",
    "#plt.ylabel('Wait Time [Hour]')"
   ]
  },
  {
   "cell_type": "markdown",
   "metadata": {},
   "source": [
    "## Does a relationship exist between the number of CPUs requested by a user and their wait time in the queue?"
   ]
  },
  {
   "cell_type": "code",
   "execution_count": 69,
   "metadata": {},
   "outputs": [
    {
     "data": {
      "text/plain": [
       "[]"
      ]
     },
     "execution_count": 69,
     "metadata": {},
     "output_type": "execute_result"
    },
    {
     "data": {
      "image/png": "[encoded data removed]",
      "text/plain": [
       "<Figure size 648x432 with 1 Axes>"
      ]
     },
     "metadata": {},
     "output_type": "display_data"
    }
   ],
   "source": [
    "plt.figure(figsize=(15,8))\n",
    "plt.hist(accre_data.NCPUS,bins=17,histtype='bar',fill=False,edgecolor='blue')\n",
    "plt.xlabel('Number of CPUS',fontsize=16)\n",
    "plt.ylabel('Number of jobs',fontsize=16)\n",
    "plt.semilogy()"
   ]
  },
  {
   "cell_type": "code",
   "execution_count": 68,
   "metadata": {},
   "outputs": [
    {
     "data": {
      "text/plain": [
       "Text(0,0.5,'Wait Time [Hour]')"
      ]
     },
     "execution_count": 68,
     "metadata": {},
     "output_type": "execute_result"
    },
    {
     "data": {
      "image/png": "[encoded data removed]",
      "text/plain": [
       "<Figure size 648x432 with 1 Axes>"
      ]
     },
     "metadata": {},
     "output_type": "display_data"
    }
   ],
   "source": [
    "plt.figure(figsize=(15,8))\n",
    "#print(accre_data.WaitTime)\n",
    "#accre_data.WaitTime = pd.to_numeric(accre_data.WaitTime)\n",
    "#print(accre_data.WaitTime)\n",
    "plt.scatter(accre_data.NCPUS,accre_data.WaitTime.astype('timedelta64[s]')/3600.)\n",
    "plt.semilogx()\n",
    "#sns.kdeplot(accre_data.NCPUS,accre_data.WaitTime.astype('timedelta64[s]')/3600.)\n",
    "#plt.semilogy()\n",
    "#plt.legend()\n",
    "#plt.ylim(0.1,1000.)\n",
    "plt.xlabel('Requested CPUs',fontsize=16)\n",
    "plt.ylabel('Wait Time [Hour]',fontsize=16)"
   ]
  },
  {
   "cell_type": "markdown",
   "metadata": {},
   "source": [
    "## Common lore in my department is that your jobs will experience a shorter queue time if you submit them at 3 AM.  Is this true?  Is there a relationship between the time of day of job submission and wait time in the queue?"
   ]
  },
  {
   "cell_type": "code",
   "execution_count": 81,
   "metadata": {
    "scrolled": true
   },
   "outputs": [
    {
     "data": {
      "image/png": "[encoded data removed]",
      "text/plain": [
       "<Figure size 432x288 with 1 Axes>"
      ]
     },
     "metadata": {},
     "output_type": "display_data"
    }
   ],
   "source": [
    "plt.figure(figsize=(15,8))\n",
    "fig,ax = plt.subplots()\n",
    "ax.plot(subset.Submit.dt.time,subset.WaitTime.astype('timedelta64[s]')/3600.,'.')\n",
    "ax.set_ylabel('Wait time [hours]')\n",
    "ax.set_xlabel('Submission time of day')\n",
    "fig.autofmt_xdate(rotation=30)"
   ]
  },
  {
   "cell_type": "markdown",
   "metadata": {},
   "source": [
    "#### Possible future work: Can we parameterize a user's efficiency?  Elapsed time/wait time? What if wait time is 0 seconds?  make a floor of 1 second of wait time?  If I wait 5 seconds to launch a 14 day job, I'm efficient.  If I wait 24 hours to submit a job that runs for less than a minute, maybe I should reconsider my life choices.  Calculate for each job and then give each user an average rating?"
   ]
  },
  {
   "cell_type": "markdown",
   "metadata": {},
   "source": [
    "## Q2: Identify problem nodes that have an above-average fail rate. (Chris)"
   ]
  },
  {
   "cell_type": "markdown",
   "metadata": {},
   "source": [
    "### Before we answer that question, we will only consider jobs that used 1 node (which is about 91% of all jobs)."
   ]
  },
  {
   "cell_type": "code",
   "execution_count": null,
   "metadata": {},
   "outputs": [],
   "source": [
    "accre_data['NNodes'].value_counts()"
   ]
  },
  {
   "cell_type": "code",
   "execution_count": null,
   "metadata": {},
   "outputs": [],
   "source": [
    "One_Node= accre_data[accre_data['NNodes'] == 1]"
   ]
  },
  {
   "cell_type": "markdown",
   "metadata": {},
   "source": [
    "### Let's look at the failure rate of the most used node--vmp1409--before we look at all nodes."
   ]
  },
  {
   "cell_type": "code",
   "execution_count": null,
   "metadata": {},
   "outputs": [],
   "source": [
    "accre_data[(accre_data['State'] == \"NODE_FAIL\") & (accre_data[\"NodeList\"] == \"vmp1409\")]"
   ]
  },
  {
   "cell_type": "code",
   "execution_count": null,
   "metadata": {},
   "outputs": [],
   "source": [
    "print(len(accre_data[accre_data[\"NodeList\"]==\"vmp1409\"]))"
   ]
  },
  {
   "cell_type": "code",
   "execution_count": null,
   "metadata": {},
   "outputs": [],
   "source": [
    "len(accre_data[(accre_data['State'] == \"NODE_FAIL\") & (accre_data[\"NodeList\"] == \"vmp1409\")])"
   ]
  },
  {
   "cell_type": "code",
   "execution_count": null,
   "metadata": {},
   "outputs": [],
   "source": [
    "len(accre_data[(accre_data['State'] == \"NODE_FAIL\") & (accre_data[\"NodeList\"] == \"vmp1409\")])/len(accre_data[accre_data[\"NodeList\"]==\"vmp1409\"])"
   ]
  },
  {
   "cell_type": "markdown",
   "metadata": {},
   "source": [
    "### Node vmp1409 was used to execute 92,419 jobs. It had 1 node failure. The frequency of failure was basically 0% (YAY!)."
   ]
  },
  {
   "cell_type": "markdown",
   "metadata": {},
   "source": [
    "### Let's create a separate dataframe that calculates node failure for each node."
   ]
  },
  {
   "cell_type": "code",
   "execution_count": null,
   "metadata": {},
   "outputs": [],
   "source": [
    "bad_nodes = accre_data.loc[(accre_data['State']=='NODE_FAIL') & (accre_data['NNodes']==1)]"
   ]
  },
  {
   "cell_type": "code",
   "execution_count": null,
   "metadata": {},
   "outputs": [],
   "source": [
    "node_df= pd.DataFrame(accre_data.NodeList.value_counts(ascending=False)).reset_index()\n",
    "node_df = node_df.rename(index = str, columns = {'index': 'Node Code', 'NodeList': 'Total Jobs'})"
   ]
  },
  {
   "cell_type": "code",
   "execution_count": null,
   "metadata": {},
   "outputs": [],
   "source": [
    "node_failure_df = pd.DataFrame(bad_nodes.NodeList.value_counts(ascending=False)).reset_index()\n",
    "node_failure_df = node_failure_df.rename(index = str, columns = {'index' : 'Node Code', 'NodeList': 'Failed Jobs'})"
   ]
  },
  {
   "cell_type": "code",
   "execution_count": null,
   "metadata": {},
   "outputs": [],
   "source": [
    "combined_df = pd.merge(node_df, node_failure_df, on =\"Node Code\", how = \"inner\")"
   ]
  },
  {
   "cell_type": "code",
   "execution_count": null,
   "metadata": {},
   "outputs": [],
   "source": [
    "combined_df['Frequency'] = combined_df['Failed Jobs']/combined_df['Total Jobs']"
   ]
  },
  {
   "cell_type": "code",
   "execution_count": null,
   "metadata": {},
   "outputs": [],
   "source": [
    "combined_df.sort_values(by=['Frequency'], ascending=False)"
   ]
  },
  {
   "cell_type": "markdown",
   "metadata": {},
   "source": [
    "### Forunately, the most commonly used node (vmp 1409) had the lowest failure rate."
   ]
  },
  {
   "cell_type": "code",
   "execution_count": null,
   "metadata": {},
   "outputs": [],
   "source": [
    "combined_df['Frequency'].mean()"
   ]
  },
  {
   "cell_type": "markdown",
   "metadata": {},
   "source": [
    "### The mean node failure rate is about .07%."
   ]
  },
  {
   "cell_type": "code",
   "execution_count": null,
   "metadata": {},
   "outputs": [],
   "source": [
    "combined_df['Frequency'].median()"
   ]
  },
  {
   "cell_type": "markdown",
   "metadata": {},
   "source": [
    "### The median failure rate is about 0.03%."
   ]
  },
  {
   "cell_type": "code",
   "execution_count": null,
   "metadata": {},
   "outputs": [],
   "source": [
    "combined_df[\"Frequency\"].std()"
   ]
  },
  {
   "cell_type": "markdown",
   "metadata": {},
   "source": [
    "### One standard deviation is about 0.7%."
   ]
  },
  {
   "cell_type": "markdown",
   "metadata": {},
   "source": [
    "### Let's look at the distribution of failure rates with a histogram."
   ]
  },
  {
   "cell_type": "code",
   "execution_count": null,
   "metadata": {},
   "outputs": [],
   "source": [
    "combined_df.hist(column='Frequency', bins=100, grid=False, figsize=(16,12), color='#86bf91', zorder=2, rwidth=0.5,)\n",
    "plt.xlabel(\"Rate of Failure 0.1 = 10%\", fontsize=16)\n",
    "plt.semilogx()\n",
    "plt.semilogy()\n",
    "plt.title(\"Failure Rate Histogram\",fontsize=16)\n",
    "plt.ylabel(\"Frequency of Failure\",fontsize=16)"
   ]
  },
  {
   "cell_type": "code",
   "execution_count": null,
   "metadata": {},
   "outputs": [],
   "source": [
    "combined_df[\"Frequency\"].plot(kind='box', figsize=(6,10))\n",
    "plt.semilogy()\n",
    "plt.xlabel(\"Frequency of Failure\",fontsize=16)"
   ]
  },
  {
   "cell_type": "markdown",
   "metadata": {},
   "source": [
    "### The boxplot and histogram shows the data is skewed right b/c of some high frequency node failure outliers. Let's figure out exactly which nodes have these high failure rates, and determine how they compare to the median."
   ]
  },
  {
   "cell_type": "code",
   "execution_count": null,
   "metadata": {},
   "outputs": [],
   "source": [
    "q = [0.25, 0.75]\n",
    "combined_df[\"Frequency\"].quantile(q)"
   ]
  },
  {
   "cell_type": "markdown",
   "metadata": {},
   "source": [
    "### Depending on how we define an \"outlier,\" any node with a failure rate above the 75% percentile (0.05% fail rate) we may consider to have a disproportionately high fail rate."
   ]
  },
  {
   "cell_type": "code",
   "execution_count": null,
   "metadata": {},
   "outputs": [],
   "source": [
    "combined_df.nlargest(5, \"Frequency\")"
   ]
  },
  {
   "cell_type": "markdown",
   "metadata": {},
   "source": [
    "### Node vm-qa-node004 has the highest failure rate, about 17%. This is more than 24 standard deviations from the mean. We can safely say that this a \"bad node\" because it is such an extreme outlier. It should be pointed out that it was only used for 6 total jobs--so this high fail rate may not necessarily be relevant."
   ]
  },
  {
   "cell_type": "markdown",
   "metadata": {},
   "source": [
    "### The next highest frequency of failures were as follows: Node vmp595 has a 0.79% failure rate, node vmp598 has a 0.67% failure rate, node vmp592 has a 0.65% failure rate, and node vmp692 has a 0.62% failure rate. We can safely consider the top 5 node failure rates outliers because they well outside the inner-quartile range--which has about an 0.05% failure rate cut at the 75th percentile."
   ]
  },
  {
   "cell_type": "markdown",
   "metadata": {},
   "source": [
    "### Let's focus in on the top quartile (149 nodes) to see if the distribution of failure rates looks different from the general dataset."
   ]
  },
  {
   "cell_type": "code",
   "execution_count": null,
   "metadata": {},
   "outputs": [],
   "source": [
    "subset_filter = combined_df.loc[combined_df['Frequency']>= combined_df[\"Frequency\"].quantile(0.75)]"
   ]
  },
  {
   "cell_type": "code",
   "execution_count": null,
   "metadata": {},
   "outputs": [],
   "source": [
    "subset_filter.nlargest(5, \"Frequency\")"
   ]
  },
  {
   "cell_type": "code",
   "execution_count": null,
   "metadata": {},
   "outputs": [],
   "source": [
    "subset_filter[\"Frequency\"].plot(kind='box',figsize=(6,8))\n",
    "plt.semilogy()\n",
    "plt.xlabel('Top Quartile Failure Relative Comparison', fontsize=16)"
   ]
  },
  {
   "cell_type": "code",
   "execution_count": null,
   "metadata": {},
   "outputs": [],
   "source": [
    "subset_filter.hist(column='Frequency', bins=100, grid=False, figsize=(16,12), color='#86bf91', zorder=2, rwidth=0.5,)\n",
    "plt.xlabel(\"Rate of Failure 0.1 = 10%\", fontsize=16)\n",
    "plt.semilogx()\n",
    "plt.semilogy()\n",
    "plt.ylabel(\"Frequency of Failure\", fontsize=16)\n",
    "plt.title(\"Frequency of Failure Histogram for the Top Quartile\", fontsize=16)"
   ]
  },
  {
   "cell_type": "code",
   "execution_count": null,
   "metadata": {},
   "outputs": [],
   "source": [
    "plt.figure(figsize=(15,8))\n",
    "ax = sns.regplot(x= \"Total Jobs\", y = \"Failed Jobs\", data=subset_filter)\n",
    "plt.xlabel('Top Quartile Total Jobs', fontsize=16)\n",
    "plt.ylabel('Top Quartile Failed Jobs', fontsize=16)"
   ]
  },
  {
   "cell_type": "code",
   "execution_count": null,
   "metadata": {},
   "outputs": [],
   "source": [
    "subset_filter['Frequency'].median()"
   ]
  },
  {
   "cell_type": "markdown",
   "metadata": {},
   "source": [
    "### This boxplot and the historgram tell us that most data in the top quartile has a failure rate of around 0.07% (less than a tenth of a percent). This explains why the histogram is unimodal. AKA the spread is relatively tight, even among the top quartile. There are handful of nodes outside of the 75th percentile within the top quartile that buck this trend (aks above the 94th percentile). Thus, we will safely consider any node above the 94th percentile a \"bad node,\" as opposed to all nodes in the top quartile."
   ]
  },
  {
   "cell_type": "markdown",
   "metadata": {},
   "source": [
    "## Q3: Identify problem users who submit more than 500 jobs that run for less than 5 minutes in a four hour window.  (UrLeaka)"
   ]
  },
  {
   "cell_type": "code",
   "execution_count": null,
   "metadata": {},
   "outputs": [],
   "source": [
    "accre_data['RunCalc'] = accre_data.End - accre_data.Start"
   ]
  },
  {
   "cell_type": "code",
   "execution_count": null,
   "metadata": {},
   "outputs": [],
   "source": [
    "days=accre_data.RunCalc.dt.days"
   ]
  },
  {
   "cell_type": "code",
   "execution_count": null,
   "metadata": {},
   "outputs": [],
   "source": [
    "completed=accre_data[accre_data.State == 'COMPLETED']\n",
    "completed['days']=days\n",
    "less24hrs = completed[completed.days< 1]"
   ]
  },
  {
   "cell_type": "code",
   "execution_count": null,
   "metadata": {},
   "outputs": [],
   "source": [
    "secs_RunCalc=less24hrs.RunCalc.dt.seconds\n",
    "less24hrs['secs_RunCalc'] = secs_RunCalc"
   ]
  },
  {
   "cell_type": "code",
   "execution_count": null,
   "metadata": {},
   "outputs": [],
   "source": [
    "secs_RunCalc300s = less24hrs[less24hrs.secs_RunCalc<=300]"
   ]
  },
  {
   "cell_type": "code",
   "execution_count": null,
   "metadata": {},
   "outputs": [],
   "source": [
    "prob_jobs=secs_RunCalc300s"
   ]
  },
  {
   "cell_type": "markdown",
   "metadata": {},
   "source": [
    "#### Out of 100 cases selected in intial download, 74 cases may be problematic due to short run time.  Narrow down jobs within 4 hours later..."
   ]
  },
  {
   "cell_type": "code",
   "execution_count": null,
   "metadata": {},
   "outputs": [],
   "source": [
    "prob_users=prob_jobs.User.value_counts()"
   ]
  },
  {
   "cell_type": "code",
   "execution_count": null,
   "metadata": {},
   "outputs": [],
   "source": [
    "pu1=prob_users>50\n",
    "pu2=pu1.to_dict()"
   ]
  },
  {
   "cell_type": "code",
   "execution_count": null,
   "metadata": {},
   "outputs": [],
   "source": [
    "prob_jobs['greater500']=prob_jobs['User'].map(pu2)"
   ]
  },
  {
   "cell_type": "code",
   "execution_count": null,
   "metadata": {},
   "outputs": [],
   "source": []
  }
 ],
 "metadata": {
  "kernelspec": {
   "display_name": "Python 3",
   "language": "python",
   "name": "python3"
  },
  "language_info": {
   "codemirror_mode": {
    "name": "ipython",
    "version": 3
   },
   "file_extension": ".py",
   "mimetype": "text/x-python",
   "name": "python",
   "nbconvert_exporter": "python",
   "pygments_lexer": "ipython3",
   "version": "3.6.5"
  }
 },
 "nbformat": 4,
 "nbformat_minor": 2
}
