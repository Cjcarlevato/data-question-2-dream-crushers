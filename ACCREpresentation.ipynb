{
 "cells": [
  {
   "cell_type": "markdown",
   "metadata": {},
   "source": [
    "## Exploring ACCRE data with Glenna Dunn, Chris Carlevato, & UrLeaka Newsome"
   ]
  },
  {
   "cell_type": "code",
   "execution_count": 269,
   "metadata": {},
   "outputs": [],
   "source": [
    "import numpy as np\n",
    "import pandas as pd\n",
    "import seaborn as sns #; sns.set()\n",
    "import matplotlib.pyplot as plt\n",
    "import datetime as dt\n",
    "from mpl_toolkits.mplot3d import Axes3D\n",
    "from datetime import time\n",
    "import matplotlib.dates as mdates\n",
    "%matplotlib notebook\n",
    "%matplotlib inline\n",
    "#plt.style.use('seaborn')\n",
    "sns.set_palette(\"muted\")I \n",
    "import warnings\n",
    "warnings.filterwarnings('ignore')"
   ]
  },
  {
   "cell_type": "code",
   "execution_count": 270,
   "metadata": {},
   "outputs": [],
   "source": [
    "filePath = 'data/july-2017-thru-june-2018.txt'"
   ]
  },
  {
   "cell_type": "code",
   "execution_count": 271,
   "metadata": {},
   "outputs": [],
   "source": [
    "accre_data = pd.read_csv(filePath, delimiter='|')"
   ]
  },
  {
   "cell_type": "markdown",
   "metadata": {},
   "source": [
    "## Q1: What is the relationship between queue time and (a) amount of memory requested, (b) amount of computing time requested? (Glenna)"
   ]
  },
  {
   "cell_type": "markdown",
   "metadata": {},
   "source": [
    "### Restrict data to just jobs run from the production queue and jobs that were not cancelled"
   ]
  },
  {
   "cell_type": "code",
   "execution_count": 272,
   "metadata": {},
   "outputs": [],
   "source": [
    "accre_data = accre_data.loc[(accre_data.Partition == 'production') & ~(accre_data.State.str.contains('CANCELLED'))]"
   ]
  },
  {
   "cell_type": "code",
   "execution_count": 273,
   "metadata": {},
   "outputs": [
    {
     "data": {
      "text/plain": [
       "Index(['JobID', 'JobIDRaw', 'Cluster', 'Partition', 'Account', 'Group', 'GID',\n",
       "       'User', 'UID', 'Submit', 'Eligible', 'Start', 'End', 'Elapsed',\n",
       "       'ExitCode', 'State', 'NNodes', 'NCPUS', 'ReqCPUS', 'ReqMem', 'ReqGRES',\n",
       "       'ReqTRES', 'Timelimit', 'NodeList', 'JobName'],\n",
       "      dtype='object')"
      ]
     },
     "execution_count": 273,
     "metadata": {},
     "output_type": "execute_result"
    }
   ],
   "source": [
    "accre_data.columns"
   ]
  },
  {
   "cell_type": "markdown",
   "metadata": {},
   "source": [
    "### Recast date/time columns as datetime format"
   ]
  },
  {
   "cell_type": "code",
   "execution_count": 274,
   "metadata": {},
   "outputs": [],
   "source": [
    "accre_data.Submit = pd.to_datetime(accre_data.Submit)\n",
    "accre_data.Start = pd.to_datetime(accre_data.Start)"
   ]
  },
  {
   "cell_type": "markdown",
   "metadata": {},
   "source": [
    "### Calculate WaitTime and assign to new column"
   ]
  },
  {
   "cell_type": "code",
   "execution_count": 275,
   "metadata": {},
   "outputs": [],
   "source": [
    "accre_data['WaitTime'] = accre_data.Start - accre_data.Submit"
   ]
  },
  {
   "cell_type": "markdown",
   "metadata": {},
   "source": [
    "### Strip off the last two characters of ReqMem and pass to new columns"
   ]
  },
  {
   "cell_type": "code",
   "execution_count": 276,
   "metadata": {},
   "outputs": [],
   "source": [
    "accre_data['NorC'] = accre_data.ReqMem.str[-1]\n",
    "accre_data['MemUnits'] = accre_data.ReqMem.str[-2]\n",
    "accre_data['ReqMemInBytes'] = accre_data.ReqMem.str[:-2]\n",
    "accre_data['ReqMemInBytes'] = pd.to_numeric(accre_data.ReqMemInBytes, errors='ignore')\n",
    "#accre_data.MemUnits.value_counts()"
   ]
  },
  {
   "cell_type": "code",
   "execution_count": 277,
   "metadata": {},
   "outputs": [],
   "source": [
    "accre_data.NNodes = pd.to_numeric(accre_data.NNodes, errors = 'ignore')\n",
    "accre_data.NCPUS = pd.to_numeric(accre_data.NCPUS, errors = 'ignore')"
   ]
  },
  {
   "cell_type": "markdown",
   "metadata": {},
   "source": [
    "### Convert ReqMem to useable units (bytes)"
   ]
  },
  {
   "cell_type": "code",
   "execution_count": 278,
   "metadata": {},
   "outputs": [],
   "source": [
    "mask = (accre_data.NorC == 'n')\n",
    "accre_data.loc[mask,'ReqMemInBytes'] = accre_data.loc[mask,'ReqMemInBytes']*accre_data.loc[mask,'NNodes']\n",
    "accre_data.loc[~mask,'ReqMemInBytes'] = accre_data.loc[~mask,'ReqMemInBytes']*accre_data.loc[~mask,'NCPUS']\n",
    "maskG = (accre_data.MemUnits == 'G')\n",
    "accre_data.loc[maskG,'ReqMemInBytes'] = accre_data.loc[maskG,'ReqMemInBytes']*(10.**9.)\n",
    "maskM = (accre_data.MemUnits == 'M')\n",
    "accre_data.loc[maskM,'ReqMemInBytes'] = accre_data.loc[maskM,'ReqMemInBytes']*(10.**6.)"
   ]
  },
  {
   "cell_type": "markdown",
   "metadata": {},
   "source": [
    "### Reformat the Timelimit series"
   ]
  },
  {
   "cell_type": "code",
   "execution_count": 279,
   "metadata": {},
   "outputs": [],
   "source": [
    "accre_data['ReqD'] = pd.to_numeric(accre_data.Timelimit.str[:-9]).fillna(value=0)*24. # in units of hours\n",
    "accre_data['ReqHMS'] = pd.to_timedelta(accre_data.Timelimit.str[-7::]).astype('timedelta64[s]')/(3600.) # in units of hours"
   ]
  },
  {
   "cell_type": "markdown",
   "metadata": {},
   "source": [
    "### Is there a relationship between the amount of computing time requested by a user and the queue time?"
   ]
  },
  {
   "cell_type": "code",
   "execution_count": 280,
   "metadata": {},
   "outputs": [
    {
     "data": {
      "text/plain": [
       "[]"
      ]
     },
     "execution_count": 280,
     "metadata": {},
     "output_type": "execute_result"
    },
    {
     "data": {
      "image/png": "[encoded data removed]",
      "text/plain": [
       "<Figure size 1080x576 with 1 Axes>"
      ]
     },
     "metadata": {},
     "output_type": "display_data"
    }
   ],
   "source": [
    "plt.figure(figsize=(15,8))\n",
    "sns.distplot(accre_data.ReqD+accre_data.ReqHMS,kde=False,hist_kws={\"histtype\": \"bar\", \"linewidth\": 3,\"alpha\": 0.5, \"edgecolor\": \"#31668a\", \"facecolor\": \"None\"})\n",
    "plt.xlabel('Requested computing time [hours]',fontsize=16)\n",
    "plt.ylabel('Number of jobs',fontsize=16)\n",
    "plt.semilogy()"
   ]
  },
  {
   "cell_type": "markdown",
   "metadata": {},
   "source": [
    "### Let's drop the ACCRE admin jobs because they don't follow the same rules as everyone else!"
   ]
  },
  {
   "cell_type": "code",
   "execution_count": 281,
   "metadata": {},
   "outputs": [],
   "source": [
    "accre_data.drop(accre_data[accre_data.Account == 'accre'].index,inplace=True)"
   ]
  },
  {
   "cell_type": "code",
   "execution_count": 282,
   "metadata": {},
   "outputs": [
    {
     "data": {
      "text/plain": [
       "[]"
      ]
     },
     "execution_count": 282,
     "metadata": {},
     "output_type": "execute_result"
    },
    {
     "data": {
      "image/png": "[encoded data removed]",
      "text/plain": [
       "<Figure size 1080x576 with 1 Axes>"
      ]
     },
     "metadata": {},
     "output_type": "display_data"
    }
   ],
   "source": [
    "plt.figure(figsize=(15,8))\n",
    "sns.distplot(accre_data.ReqD+accre_data.ReqHMS,kde=False,bins=int(350/24),hist_kws={\"histtype\": \"bar\", \"linewidth\": 3,\"alpha\": 0.5, \"edgecolor\": \"#1d5dec\", \"facecolor\": \"None\",\"label\": \"bin width = 24h\"})\n",
    "plt.xlabel('Requested computing time [hours]',fontsize=16)\n",
    "plt.ylabel('Number of jobs',fontsize=16)\n",
    "plt.legend(fontsize=16)\n",
    "plt.semilogy()"
   ]
  },
  {
   "cell_type": "code",
   "execution_count": 283,
   "metadata": {
    "scrolled": false
   },
   "outputs": [
    {
     "data": {
      "text/plain": [
       "Text(0,0.5,'Wait Time [Hours]')"
      ]
     },
     "execution_count": 283,
     "metadata": {},
     "output_type": "execute_result"
    },
    {
     "data": {
      "image/png": "[encoded data removed]",
      "text/plain": [
       "<Figure size 1080x576 with 1 Axes>"
      ]
     },
     "metadata": {},
     "output_type": "display_data"
    }
   ],
   "source": [
    "plt.figure(figsize=(15,8))\n",
    "plt.scatter(accre_data.ReqD+accre_data.ReqHMS,accre_data.WaitTime.astype('timedelta64[s]')/3600.,s=10,edgecolor='#6d5acf',facecolor='None')\n",
    "#plt.semilogx()\n",
    "#plt.semilogy()\n",
    "plt.xlabel('Requested Computing Time [Hours]',fontsize=16)\n",
    "plt.ylabel('Wait Time [Hours]',fontsize=16)"
   ]
  },
  {
   "cell_type": "markdown",
   "metadata": {},
   "source": [
    "### Let's look only at jobs that run for less than 24 hours."
   ]
  },
  {
   "cell_type": "code",
   "execution_count": 264,
   "metadata": {},
   "outputs": [
    {
     "data": {
      "text/plain": [
       "Text(0,0.5,'Wait Time [Hours]')"
      ]
     },
     "execution_count": 264,
     "metadata": {},
     "output_type": "execute_result"
    },
    {
     "data": {
      "image/png": "[encoded data removed]",
      "text/plain": [
       "<Figure size 1080x576 with 1 Axes>"
      ]
     },
     "metadata": {},
     "output_type": "display_data"
    }
   ],
   "source": [
    "subset = accre_data.loc[accre_data.ReqD+accre_data.ReqHMS <= 24.]\n",
    "plt.figure(figsize=(15,8))\n",
    "plt.scatter(subset.ReqD+subset.ReqHMS,subset.WaitTime.astype('timedelta64[s]')/3600.,s=10,edgecolor='#6d5acf',facecolor='None')\n",
    "#plt.semilogx()\n",
    "#plt.semilogy()\n",
    "plt.xlabel('Requested Computing Time [Hours]',fontsize=16)\n",
    "plt.ylabel('Wait Time [Hours]',fontsize=16)"
   ]
  },
  {
   "cell_type": "markdown",
   "metadata": {},
   "source": [
    "### Now let's consider a single group of users, N-Body, that have the same fairshare."
   ]
  },
  {
   "cell_type": "code",
   "execution_count": 265,
   "metadata": {},
   "outputs": [
    {
     "name": "stdout",
     "output_type": "stream",
     "text": [
      "(11049, 31)\n"
     ]
    },
    {
     "data": {
      "text/plain": [
       "Text(0,0.5,'Wait Time [Hours]')"
      ]
     },
     "execution_count": 265,
     "metadata": {},
     "output_type": "execute_result"
    },
    {
     "data": {
      "image/png": "[encoded data removed]",
      "text/plain": [
       "<Figure size 1080x576 with 1 Axes>"
      ]
     },
     "metadata": {},
     "output_type": "display_data"
    }
   ],
   "source": [
    "plt.figure(figsize=(15,8))\n",
    "subset = accre_data.loc[accre_data.Group=='nbody']\n",
    "print(subset.shape)\n",
    "plt.scatter(subset.ReqD+subset.ReqHMS,subset.WaitTime.astype('timedelta64[s]')/3600.,edgecolor='#06c2ac',facecolor='None')\n",
    "#plt.semilogy()\n",
    "plt.xlabel('Requested Computing Time [Hours]',fontsize=16)\n",
    "plt.ylabel('Wait Time [Hours]',fontsize=16)"
   ]
  },
  {
   "cell_type": "markdown",
   "metadata": {},
   "source": [
    "### Some thoughts on requested computing time and total queue time:\n",
    "* Jobs requesting less than about 24 hours or near the maximum wall time are associated with larger queue times\n",
    "* Increased queue times are also associated with integer number of days\n",
    "* These are popular requests, and so the increased queue time may be more directly tied to a large number of jobs with similar specs\n",
    "* Users would be advised to ask for only the amount of time that they need to optimize queue times!"
   ]
  },
  {
   "cell_type": "markdown",
   "metadata": {},
   "source": [
    "##### ----------------------------------------------------------------------------------------------------------------------------------------------------------------------------"
   ]
  },
  {
   "cell_type": "markdown",
   "metadata": {},
   "source": [
    "## Does a relationship exist between the amount of memory requested by a user and their wait time in the queue?"
   ]
  },
  {
   "cell_type": "code",
   "execution_count": 266,
   "metadata": {},
   "outputs": [
    {
     "data": {
      "text/plain": [
       "[]"
      ]
     },
     "execution_count": 266,
     "metadata": {},
     "output_type": "execute_result"
    },
    {
     "data": {
      "image/png": "[encoded data removed]",
      "text/plain": [
       "<Figure size 1080x576 with 1 Axes>"
      ]
     },
     "metadata": {},
     "output_type": "display_data"
    }
   ],
   "source": [
    "plt.figure(figsize=(15,8))\n",
    "sns.distplot(np.log10(accre_data.ReqMemInBytes.dropna()/(10.**9)), kde=False, bins=20, hist_kws={\"histtype\": \"bar\", \"linewidth\": 3,\"alpha\": 0.5, \"edgecolor\": \"#1d5dec\", \"facecolor\": \"None\"})\n",
    "plt.xlabel('log Requested Memory [GB]',fontsize=16)\n",
    "plt.ylabel('Number of jobs',fontsize=16)\n",
    "plt.semilogy()"
   ]
  },
  {
   "cell_type": "code",
   "execution_count": 284,
   "metadata": {},
   "outputs": [
    {
     "data": {
      "text/plain": [
       "Text(0,0.5,'Wait Time [Hour]')"
      ]
     },
     "execution_count": 284,
     "metadata": {},
     "output_type": "execute_result"
    },
    {
     "data": {
      "image/png": "[encoded data removed]",
      "text/plain": [
       "<Figure size 1080x576 with 1 Axes>"
      ]
     },
     "metadata": {},
     "output_type": "display_data"
    }
   ],
   "source": [
    "plt.figure(figsize=(15,8))\n",
    "plt.scatter(accre_data.ReqMemInBytes/(10.**9.),accre_data.WaitTime.astype('timedelta64[s]')/3600.)\n",
    "plt.semilogx()\n",
    "plt.xlabel('Requested Memory [GB]',fontsize=16)\n",
    "plt.ylabel('Wait Time [Hour]',fontsize=16)"
   ]
  },
  {
   "cell_type": "markdown",
   "metadata": {},
   "source": [
    "### Let's look at a single group, N-Body, which all have the same fair-share rank."
   ]
  },
  {
   "cell_type": "code",
   "execution_count": 182,
   "metadata": {},
   "outputs": [
    {
     "data": {
      "text/plain": [
       "1.024000e+09    9833\n",
       "2.000000e+09     855\n",
       "8.000000e+09     207\n",
       "1.000000e+09      57\n",
       "2.000000e+11      22\n",
       "5.000000e+08      13\n",
       "6.400000e+10       7\n",
       "5.000000e+10       5\n",
       "1.600000e+10       5\n",
       "1.280000e+11       5\n",
       "5.700000e+11       4\n",
       "8.740000e+11       4\n",
       "3.800000e+11       4\n",
       "4.560000e+11       3\n",
       "6.080000e+11       3\n",
       "6.000000e+09       3\n",
       "7.600000e+11       2\n",
       "1.026000e+12       2\n",
       "8.000000e+10       2\n",
       "1.102000e+12       1\n",
       "9.500000e+11       1\n",
       "5.320000e+11       1\n",
       "7.980000e+11       1\n",
       "1.140000e+12       1\n",
       "1.440000e+11       1\n",
       "1.920000e+11       1\n",
       "1.331200e+10       1\n",
       "6.460000e+11       1\n",
       "4.180000e+11       1\n",
       "6.840000e+11       1\n",
       "3.040000e+11       1\n",
       "7.220000e+11       1\n",
       "Name: ReqMemInBytes, dtype: int64"
      ]
     },
     "execution_count": 182,
     "metadata": {},
     "output_type": "execute_result"
    },
    {
     "data": {
      "image/png": "[encoded data removed]",
      "text/plain": [
       "<Figure size 1080x576 with 1 Axes>"
      ]
     },
     "metadata": {},
     "output_type": "display_data"
    }
   ],
   "source": [
    "plt.figure(figsize=(15,8))\n",
    "subset = accre_data.loc[accre_data.Group=='nbody']\n",
    "plt.scatter(subset.ReqMemInBytes/(10.**9.),subset.WaitTime.astype('timedelta64[s]')/3600.,edgecolor='#047495',facecolor='None')\n",
    "plt.semilogx()\n",
    "plt.xlabel('Requested Memory [GB]',fontsize=16)\n",
    "plt.ylabel('Wait Time [Hour]',fontsize=16)\n",
    "subset.ReqMemInBytes.value_counts()"
   ]
  },
  {
   "cell_type": "code",
   "execution_count": 172,
   "metadata": {},
   "outputs": [
    {
     "data": {
      "text/plain": [
       "Text(0,0.5,'Wait Time [Hour]')"
      ]
     },
     "execution_count": 172,
     "metadata": {},
     "output_type": "execute_result"
    },
    {
     "data": {
      "image/png": "[encoded data removed]",
      "text/plain": [
       "<Figure size 1080x576 with 1 Axes>"
      ]
     },
     "metadata": {},
     "output_type": "display_data"
    }
   ],
   "source": [
    "plt.figure(figsize=(15,8))\n",
    "plt.scatter(subset.ReqMemInBytes/(10.**9.),subset.WaitTime.astype('timedelta64[s]')/3600.,edgecolor='#6b7c85',facecolor='None')\n",
    "plt.semilogx()\n",
    "plt.xlabel('Requested Memory [GB]',fontsize=16)\n",
    "plt.ylabel('Wait Time [Hour]',fontsize=16)"
   ]
  },
  {
   "cell_type": "code",
   "execution_count": 190,
   "metadata": {},
   "outputs": [
    {
     "data": {
      "text/html": [
       "<div>\n",
       "<style scoped>\n",
       "    .dataframe tbody tr th:only-of-type {\n",
       "        vertical-align: middle;\n",
       "    }\n",
       "\n",
       "    .dataframe tbody tr th {\n",
       "        vertical-align: top;\n",
       "    }\n",
       "\n",
       "    .dataframe thead th {\n",
       "        text-align: right;\n",
       "    }\n",
       "</style>\n",
       "<table border=\"1\" class=\"dataframe\">\n",
       "  <thead>\n",
       "    <tr style=\"text-align: right;\">\n",
       "      <th></th>\n",
       "      <th>UID</th>\n",
       "      <th>Submit</th>\n",
       "      <th>WaitTime</th>\n",
       "      <th>ReqMem</th>\n",
       "      <th>Timelimit</th>\n",
       "      <th>NCPUS</th>\n",
       "      <th>Elapsed</th>\n",
       "      <th>State</th>\n",
       "    </tr>\n",
       "  </thead>\n",
       "  <tbody>\n",
       "    <tr>\n",
       "      <th>55331</th>\n",
       "      <td>103978.0</td>\n",
       "      <td>2017-07-05 22:13:06</td>\n",
       "      <td>0 days 00:02:30</td>\n",
       "      <td>1000Mc</td>\n",
       "      <td>4-00:00:00</td>\n",
       "      <td>200</td>\n",
       "      <td>23:21:13</td>\n",
       "      <td>NODE_FAIL</td>\n",
       "    </tr>\n",
       "    <tr>\n",
       "      <th>169783</th>\n",
       "      <td>103978.0</td>\n",
       "      <td>2017-07-10 16:23:26</td>\n",
       "      <td>4 days 00:28:04</td>\n",
       "      <td>1000Mc</td>\n",
       "      <td>4-00:00:00</td>\n",
       "      <td>200</td>\n",
       "      <td>4-00:01:41</td>\n",
       "      <td>TIMEOUT</td>\n",
       "    </tr>\n",
       "    <tr>\n",
       "      <th>1284252</th>\n",
       "      <td>103978.0</td>\n",
       "      <td>2017-08-09 18:48:26</td>\n",
       "      <td>0 days 00:00:01</td>\n",
       "      <td>1000Mc</td>\n",
       "      <td>4-00:00:00</td>\n",
       "      <td>200</td>\n",
       "      <td>4-00:00:16</td>\n",
       "      <td>TIMEOUT</td>\n",
       "    </tr>\n",
       "    <tr>\n",
       "      <th>1610252</th>\n",
       "      <td>103978.0</td>\n",
       "      <td>2017-08-16 21:17:43</td>\n",
       "      <td>2 days 09:51:11</td>\n",
       "      <td>1000Mc</td>\n",
       "      <td>4-00:00:00</td>\n",
       "      <td>200</td>\n",
       "      <td>4-00:00:13</td>\n",
       "      <td>TIMEOUT</td>\n",
       "    </tr>\n",
       "    <tr>\n",
       "      <th>1924691</th>\n",
       "      <td>103978.0</td>\n",
       "      <td>2017-08-29 20:21:58</td>\n",
       "      <td>6 days 17:24:50</td>\n",
       "      <td>1000Mc</td>\n",
       "      <td>4-00:00:00</td>\n",
       "      <td>200</td>\n",
       "      <td>00:02:14</td>\n",
       "      <td>FAILED</td>\n",
       "    </tr>\n",
       "    <tr>\n",
       "      <th>2031094</th>\n",
       "      <td>103978.0</td>\n",
       "      <td>2017-09-05 14:38:55</td>\n",
       "      <td>10 days 06:58:51</td>\n",
       "      <td>1000Mc</td>\n",
       "      <td>4-00:00:00</td>\n",
       "      <td>200</td>\n",
       "      <td>4-00:00:07</td>\n",
       "      <td>TIMEOUT</td>\n",
       "    </tr>\n",
       "    <tr>\n",
       "      <th>3145966</th>\n",
       "      <td>103978.0</td>\n",
       "      <td>2017-09-25 16:39:24</td>\n",
       "      <td>2 days 18:16:31</td>\n",
       "      <td>1000Mc</td>\n",
       "      <td>2-00:00:00</td>\n",
       "      <td>200</td>\n",
       "      <td>2-00:00:14</td>\n",
       "      <td>TIMEOUT</td>\n",
       "    </tr>\n",
       "    <tr>\n",
       "      <th>3583050</th>\n",
       "      <td>103978.0</td>\n",
       "      <td>2017-10-02 15:49:45</td>\n",
       "      <td>0 days 02:20:45</td>\n",
       "      <td>1000Mc</td>\n",
       "      <td>2-00:00:00</td>\n",
       "      <td>200</td>\n",
       "      <td>2-00:00:38</td>\n",
       "      <td>TIMEOUT</td>\n",
       "    </tr>\n",
       "    <tr>\n",
       "      <th>3692972</th>\n",
       "      <td>103978.0</td>\n",
       "      <td>2017-10-04 18:19:17</td>\n",
       "      <td>0 days 11:08:11</td>\n",
       "      <td>1000Mc</td>\n",
       "      <td>2-00:00:00</td>\n",
       "      <td>200</td>\n",
       "      <td>06:11:27</td>\n",
       "      <td>FAILED</td>\n",
       "    </tr>\n",
       "    <tr>\n",
       "      <th>3727007</th>\n",
       "      <td>103978.0</td>\n",
       "      <td>2017-10-05 13:40:07</td>\n",
       "      <td>0 days 05:58:49</td>\n",
       "      <td>1000Mc</td>\n",
       "      <td>2-00:00:00</td>\n",
       "      <td>200</td>\n",
       "      <td>00:07:42</td>\n",
       "      <td>FAILED</td>\n",
       "    </tr>\n",
       "    <tr>\n",
       "      <th>3737282</th>\n",
       "      <td>103978.0</td>\n",
       "      <td>2017-10-05 19:50:53</td>\n",
       "      <td>0 days 01:20:51</td>\n",
       "      <td>1000Mc</td>\n",
       "      <td>2-00:00:00</td>\n",
       "      <td>200</td>\n",
       "      <td>2-00:00:12</td>\n",
       "      <td>TIMEOUT</td>\n",
       "    </tr>\n",
       "    <tr>\n",
       "      <th>3882897</th>\n",
       "      <td>103978.0</td>\n",
       "      <td>2017-10-09 16:50:59</td>\n",
       "      <td>0 days 01:33:31</td>\n",
       "      <td>1000Mc</td>\n",
       "      <td>3-00:00:00</td>\n",
       "      <td>200</td>\n",
       "      <td>3-00:00:11</td>\n",
       "      <td>TIMEOUT</td>\n",
       "    </tr>\n",
       "    <tr>\n",
       "      <th>4046807</th>\n",
       "      <td>103978.0</td>\n",
       "      <td>2017-10-12 21:10:28</td>\n",
       "      <td>0 days 00:01:26</td>\n",
       "      <td>1000Mc</td>\n",
       "      <td>3-00:00:00</td>\n",
       "      <td>200</td>\n",
       "      <td>00:00:05</td>\n",
       "      <td>FAILED</td>\n",
       "    </tr>\n",
       "    <tr>\n",
       "      <th>4047122</th>\n",
       "      <td>103978.0</td>\n",
       "      <td>2017-10-12 21:16:27</td>\n",
       "      <td>0 days 00:01:30</td>\n",
       "      <td>1000Mc</td>\n",
       "      <td>3-00:00:00</td>\n",
       "      <td>200</td>\n",
       "      <td>00:00:00</td>\n",
       "      <td>FAILED</td>\n",
       "    </tr>\n",
       "    <tr>\n",
       "      <th>4047676</th>\n",
       "      <td>103978.0</td>\n",
       "      <td>2017-10-12 21:35:36</td>\n",
       "      <td>0 days 00:00:31</td>\n",
       "      <td>1000Mc</td>\n",
       "      <td>3-00:00:00</td>\n",
       "      <td>200</td>\n",
       "      <td>3-00:00:20</td>\n",
       "      <td>TIMEOUT</td>\n",
       "    </tr>\n",
       "    <tr>\n",
       "      <th>4198724</th>\n",
       "      <td>103978.0</td>\n",
       "      <td>2017-10-17 03:38:31</td>\n",
       "      <td>0 days 01:49:38</td>\n",
       "      <td>1000Mc</td>\n",
       "      <td>4-00:00:00</td>\n",
       "      <td>200</td>\n",
       "      <td>4-00:00:30</td>\n",
       "      <td>TIMEOUT</td>\n",
       "    </tr>\n",
       "    <tr>\n",
       "      <th>4482972</th>\n",
       "      <td>103978.0</td>\n",
       "      <td>2017-10-26 03:04:17</td>\n",
       "      <td>0 days 00:16:22</td>\n",
       "      <td>1000Mc</td>\n",
       "      <td>4-00:00:00</td>\n",
       "      <td>200</td>\n",
       "      <td>4-00:00:34</td>\n",
       "      <td>TIMEOUT</td>\n",
       "    </tr>\n",
       "    <tr>\n",
       "      <th>5064649</th>\n",
       "      <td>103978.0</td>\n",
       "      <td>2017-11-07 17:24:41</td>\n",
       "      <td>0 days 00:00:14</td>\n",
       "      <td>1000Mc</td>\n",
       "      <td>4-12:00:00</td>\n",
       "      <td>200</td>\n",
       "      <td>4-12:00:06</td>\n",
       "      <td>TIMEOUT</td>\n",
       "    </tr>\n",
       "    <tr>\n",
       "      <th>6131946</th>\n",
       "      <td>103978.0</td>\n",
       "      <td>2017-11-29 22:35:12</td>\n",
       "      <td>0 days 00:10:54</td>\n",
       "      <td>1000Mc</td>\n",
       "      <td>4-12:00:00</td>\n",
       "      <td>200</td>\n",
       "      <td>22:37:26</td>\n",
       "      <td>FAILED</td>\n",
       "    </tr>\n",
       "    <tr>\n",
       "      <th>6208613</th>\n",
       "      <td>103978.0</td>\n",
       "      <td>2017-12-01 20:45:09</td>\n",
       "      <td>0 days 00:00:23</td>\n",
       "      <td>1000Mc</td>\n",
       "      <td>5-04:00:00</td>\n",
       "      <td>200</td>\n",
       "      <td>3-22:37:15</td>\n",
       "      <td>FAILED</td>\n",
       "    </tr>\n",
       "    <tr>\n",
       "      <th>6566708</th>\n",
       "      <td>103978.0</td>\n",
       "      <td>2017-12-13 19:23:36</td>\n",
       "      <td>0 days 00:42:49</td>\n",
       "      <td>1000Mc</td>\n",
       "      <td>6-04:00:00</td>\n",
       "      <td>200</td>\n",
       "      <td>6-04:00:50</td>\n",
       "      <td>TIMEOUT</td>\n",
       "    </tr>\n",
       "    <tr>\n",
       "      <th>6857164</th>\n",
       "      <td>103978.0</td>\n",
       "      <td>2017-12-21 18:44:36</td>\n",
       "      <td>0 days 02:53:05</td>\n",
       "      <td>1000Mc</td>\n",
       "      <td>6-04:00:00</td>\n",
       "      <td>200</td>\n",
       "      <td>6-04:00:58</td>\n",
       "      <td>TIMEOUT</td>\n",
       "    </tr>\n",
       "  </tbody>\n",
       "</table>\n",
       "</div>"
      ],
      "text/plain": [
       "              UID              Submit         WaitTime  ReqMem   Timelimit  \\\n",
       "55331    103978.0 2017-07-05 22:13:06  0 days 00:02:30  1000Mc  4-00:00:00   \n",
       "169783   103978.0 2017-07-10 16:23:26  4 days 00:28:04  1000Mc  4-00:00:00   \n",
       "1284252  103978.0 2017-08-09 18:48:26  0 days 00:00:01  1000Mc  4-00:00:00   \n",
       "1610252  103978.0 2017-08-16 21:17:43  2 days 09:51:11  1000Mc  4-00:00:00   \n",
       "1924691  103978.0 2017-08-29 20:21:58  6 days 17:24:50  1000Mc  4-00:00:00   \n",
       "2031094  103978.0 2017-09-05 14:38:55 10 days 06:58:51  1000Mc  4-00:00:00   \n",
       "3145966  103978.0 2017-09-25 16:39:24  2 days 18:16:31  1000Mc  2-00:00:00   \n",
       "3583050  103978.0 2017-10-02 15:49:45  0 days 02:20:45  1000Mc  2-00:00:00   \n",
       "3692972  103978.0 2017-10-04 18:19:17  0 days 11:08:11  1000Mc  2-00:00:00   \n",
       "3727007  103978.0 2017-10-05 13:40:07  0 days 05:58:49  1000Mc  2-00:00:00   \n",
       "3737282  103978.0 2017-10-05 19:50:53  0 days 01:20:51  1000Mc  2-00:00:00   \n",
       "3882897  103978.0 2017-10-09 16:50:59  0 days 01:33:31  1000Mc  3-00:00:00   \n",
       "4046807  103978.0 2017-10-12 21:10:28  0 days 00:01:26  1000Mc  3-00:00:00   \n",
       "4047122  103978.0 2017-10-12 21:16:27  0 days 00:01:30  1000Mc  3-00:00:00   \n",
       "4047676  103978.0 2017-10-12 21:35:36  0 days 00:00:31  1000Mc  3-00:00:00   \n",
       "4198724  103978.0 2017-10-17 03:38:31  0 days 01:49:38  1000Mc  4-00:00:00   \n",
       "4482972  103978.0 2017-10-26 03:04:17  0 days 00:16:22  1000Mc  4-00:00:00   \n",
       "5064649  103978.0 2017-11-07 17:24:41  0 days 00:00:14  1000Mc  4-12:00:00   \n",
       "6131946  103978.0 2017-11-29 22:35:12  0 days 00:10:54  1000Mc  4-12:00:00   \n",
       "6208613  103978.0 2017-12-01 20:45:09  0 days 00:00:23  1000Mc  5-04:00:00   \n",
       "6566708  103978.0 2017-12-13 19:23:36  0 days 00:42:49  1000Mc  6-04:00:00   \n",
       "6857164  103978.0 2017-12-21 18:44:36  0 days 02:53:05  1000Mc  6-04:00:00   \n",
       "\n",
       "         NCPUS     Elapsed      State  \n",
       "55331      200    23:21:13  NODE_FAIL  \n",
       "169783     200  4-00:01:41    TIMEOUT  \n",
       "1284252    200  4-00:00:16    TIMEOUT  \n",
       "1610252    200  4-00:00:13    TIMEOUT  \n",
       "1924691    200    00:02:14     FAILED  \n",
       "2031094    200  4-00:00:07    TIMEOUT  \n",
       "3145966    200  2-00:00:14    TIMEOUT  \n",
       "3583050    200  2-00:00:38    TIMEOUT  \n",
       "3692972    200    06:11:27     FAILED  \n",
       "3727007    200    00:07:42     FAILED  \n",
       "3737282    200  2-00:00:12    TIMEOUT  \n",
       "3882897    200  3-00:00:11    TIMEOUT  \n",
       "4046807    200    00:00:05     FAILED  \n",
       "4047122    200    00:00:00     FAILED  \n",
       "4047676    200  3-00:00:20    TIMEOUT  \n",
       "4198724    200  4-00:00:30    TIMEOUT  \n",
       "4482972    200  4-00:00:34    TIMEOUT  \n",
       "5064649    200  4-12:00:06    TIMEOUT  \n",
       "6131946    200    22:37:26     FAILED  \n",
       "6208613    200  3-22:37:15     FAILED  \n",
       "6566708    200  6-04:00:50    TIMEOUT  \n",
       "6857164    200  6-04:00:58    TIMEOUT  "
      ]
     },
     "execution_count": 190,
     "metadata": {},
     "output_type": "execute_result"
    }
   ],
   "source": [
    "subset = subset.loc[subset.ReqMemInBytes == 2*10**11]\n",
    "subset[['UID','Submit','WaitTime','ReqMem','Timelimit','NCPUS','Elapsed','State']]"
   ]
  },
  {
   "cell_type": "code",
   "execution_count": 238,
   "metadata": {},
   "outputs": [
    {
     "data": {
      "text/plain": [
       "(844, 31)"
      ]
     },
     "execution_count": 238,
     "metadata": {},
     "output_type": "execute_result"
    }
   ],
   "source": [
    "badDay = (accre_data.Submit >= '2017-07-10 15:23:26') & (accre_data.Submit <= '2017-07-10 16:23:26')\n",
    "subset = accre_data.loc[(badDay)]\n",
    "subset.shape"
   ]
  },
  {
   "cell_type": "code",
   "execution_count": 239,
   "metadata": {},
   "outputs": [
    {
     "data": {
      "text/plain": [
       "(3, 31)"
      ]
     },
     "execution_count": 239,
     "metadata": {},
     "output_type": "execute_result"
    }
   ],
   "source": [
    "subset = accre_data.loc[(badDay) & (accre_data.Group=='nbody')]\n",
    "subset.shape"
   ]
  },
  {
   "cell_type": "code",
   "execution_count": 240,
   "metadata": {},
   "outputs": [
    {
     "data": {
      "text/html": [
       "<div>\n",
       "<style scoped>\n",
       "    .dataframe tbody tr th:only-of-type {\n",
       "        vertical-align: middle;\n",
       "    }\n",
       "\n",
       "    .dataframe tbody tr th {\n",
       "        vertical-align: top;\n",
       "    }\n",
       "\n",
       "    .dataframe thead th {\n",
       "        text-align: right;\n",
       "    }\n",
       "</style>\n",
       "<table border=\"1\" class=\"dataframe\">\n",
       "  <thead>\n",
       "    <tr style=\"text-align: right;\">\n",
       "      <th></th>\n",
       "      <th>UID</th>\n",
       "      <th>Submit</th>\n",
       "      <th>WaitTime</th>\n",
       "      <th>ReqMem</th>\n",
       "      <th>Timelimit</th>\n",
       "      <th>NCPUS</th>\n",
       "      <th>Elapsed</th>\n",
       "      <th>State</th>\n",
       "    </tr>\n",
       "  </thead>\n",
       "  <tbody>\n",
       "    <tr>\n",
       "      <th>169076</th>\n",
       "      <td>NaN</td>\n",
       "      <td>2017-07-10 15:37:20</td>\n",
       "      <td>0 days 00:00:01</td>\n",
       "      <td>1000Mc</td>\n",
       "      <td>5-00:00:00</td>\n",
       "      <td>128</td>\n",
       "      <td>4-06:34:22</td>\n",
       "      <td>COMPLETED</td>\n",
       "    </tr>\n",
       "    <tr>\n",
       "      <th>169684</th>\n",
       "      <td>103978.0</td>\n",
       "      <td>2017-07-10 16:13:46</td>\n",
       "      <td>0 days 00:00:19</td>\n",
       "      <td>38000Mn</td>\n",
       "      <td>5-00:00:00</td>\n",
       "      <td>120</td>\n",
       "      <td>4-23:43:02</td>\n",
       "      <td>COMPLETED</td>\n",
       "    </tr>\n",
       "    <tr>\n",
       "      <th>169783</th>\n",
       "      <td>103978.0</td>\n",
       "      <td>2017-07-10 16:23:26</td>\n",
       "      <td>4 days 00:28:04</td>\n",
       "      <td>1000Mc</td>\n",
       "      <td>4-00:00:00</td>\n",
       "      <td>200</td>\n",
       "      <td>4-00:01:41</td>\n",
       "      <td>TIMEOUT</td>\n",
       "    </tr>\n",
       "  </tbody>\n",
       "</table>\n",
       "</div>"
      ],
      "text/plain": [
       "             UID              Submit        WaitTime   ReqMem   Timelimit  \\\n",
       "169076       NaN 2017-07-10 15:37:20 0 days 00:00:01   1000Mc  5-00:00:00   \n",
       "169684  103978.0 2017-07-10 16:13:46 0 days 00:00:19  38000Mn  5-00:00:00   \n",
       "169783  103978.0 2017-07-10 16:23:26 4 days 00:28:04   1000Mc  4-00:00:00   \n",
       "\n",
       "        NCPUS     Elapsed      State  \n",
       "169076    128  4-06:34:22  COMPLETED  \n",
       "169684    120  4-23:43:02  COMPLETED  \n",
       "169783    200  4-00:01:41    TIMEOUT  "
      ]
     },
     "execution_count": 240,
     "metadata": {},
     "output_type": "execute_result"
    }
   ],
   "source": [
    "subset[['UID','Submit','WaitTime','ReqMem','Timelimit','NCPUS','Elapsed','State']]"
   ]
  },
  {
   "cell_type": "code",
   "execution_count": 241,
   "metadata": {},
   "outputs": [
    {
     "data": {
      "text/plain": [
       "(502, 31)"
      ]
     },
     "execution_count": 241,
     "metadata": {},
     "output_type": "execute_result"
    }
   ],
   "source": [
    "badDay = (accre_data.Submit >= '2017-09-05 13:38:55') & (accre_data.Submit <= '2017-09-05 14:38:55')\n",
    "subset = accre_data.loc[(badDay)]\n",
    "subset.shape"
   ]
  },
  {
   "cell_type": "code",
   "execution_count": 242,
   "metadata": {},
   "outputs": [
    {
     "data": {
      "text/plain": [
       "(2, 31)"
      ]
     },
     "execution_count": 242,
     "metadata": {},
     "output_type": "execute_result"
    }
   ],
   "source": [
    "subset = accre_data.loc[(badDay) & (accre_data.Group=='nbody')]\n",
    "subset.shape"
   ]
  },
  {
   "cell_type": "code",
   "execution_count": 243,
   "metadata": {},
   "outputs": [
    {
     "data": {
      "text/html": [
       "<div>\n",
       "<style scoped>\n",
       "    .dataframe tbody tr th:only-of-type {\n",
       "        vertical-align: middle;\n",
       "    }\n",
       "\n",
       "    .dataframe tbody tr th {\n",
       "        vertical-align: top;\n",
       "    }\n",
       "\n",
       "    .dataframe thead th {\n",
       "        text-align: right;\n",
       "    }\n",
       "</style>\n",
       "<table border=\"1\" class=\"dataframe\">\n",
       "  <thead>\n",
       "    <tr style=\"text-align: right;\">\n",
       "      <th></th>\n",
       "      <th>UID</th>\n",
       "      <th>Submit</th>\n",
       "      <th>WaitTime</th>\n",
       "      <th>ReqMem</th>\n",
       "      <th>Timelimit</th>\n",
       "      <th>NCPUS</th>\n",
       "      <th>Elapsed</th>\n",
       "      <th>State</th>\n",
       "    </tr>\n",
       "  </thead>\n",
       "  <tbody>\n",
       "    <tr>\n",
       "      <th>2031025</th>\n",
       "      <td>103978.0</td>\n",
       "      <td>2017-09-05 14:33:34</td>\n",
       "      <td>0 days 11:38:29</td>\n",
       "      <td>38000Mn</td>\n",
       "      <td>5-00:00:00</td>\n",
       "      <td>120</td>\n",
       "      <td>4-23:33:14</td>\n",
       "      <td>COMPLETED</td>\n",
       "    </tr>\n",
       "    <tr>\n",
       "      <th>2031094</th>\n",
       "      <td>103978.0</td>\n",
       "      <td>2017-09-05 14:38:55</td>\n",
       "      <td>10 days 06:58:51</td>\n",
       "      <td>1000Mc</td>\n",
       "      <td>4-00:00:00</td>\n",
       "      <td>200</td>\n",
       "      <td>4-00:00:07</td>\n",
       "      <td>TIMEOUT</td>\n",
       "    </tr>\n",
       "  </tbody>\n",
       "</table>\n",
       "</div>"
      ],
      "text/plain": [
       "              UID              Submit         WaitTime   ReqMem   Timelimit  \\\n",
       "2031025  103978.0 2017-09-05 14:33:34  0 days 11:38:29  38000Mn  5-00:00:00   \n",
       "2031094  103978.0 2017-09-05 14:38:55 10 days 06:58:51   1000Mc  4-00:00:00   \n",
       "\n",
       "         NCPUS     Elapsed      State  \n",
       "2031025    120  4-23:33:14  COMPLETED  \n",
       "2031094    200  4-00:00:07    TIMEOUT  "
      ]
     },
     "execution_count": 243,
     "metadata": {},
     "output_type": "execute_result"
    }
   ],
   "source": [
    "subset[['UID','Submit','WaitTime','ReqMem','Timelimit','NCPUS','Elapsed','State']]"
   ]
  },
  {
   "cell_type": "code",
   "execution_count": 227,
   "metadata": {},
   "outputs": [
    {
     "data": {
      "text/plain": [
       "(2350, 31)"
      ]
     },
     "execution_count": 227,
     "metadata": {},
     "output_type": "execute_result"
    }
   ],
   "source": [
    "goodDay = (accre_data.Submit >= '2017-07-05 21:13:06') & (accre_data.Submit <= '2017-07-05 22:13:06')\n",
    "subset = accre_data.loc[goodDay]\n",
    "subset.shape"
   ]
  },
  {
   "cell_type": "code",
   "execution_count": 228,
   "metadata": {},
   "outputs": [
    {
     "data": {
      "text/plain": [
       "(1, 31)"
      ]
     },
     "execution_count": 228,
     "metadata": {},
     "output_type": "execute_result"
    }
   ],
   "source": [
    "subset = accre_data.loc[goodDay & (accre_data.Group=='nbody')]\n",
    "subset.shape"
   ]
  },
  {
   "cell_type": "markdown",
   "metadata": {},
   "source": [
    "### Some thoughts on requested memory and queue time:\n",
    "* More popular, integer values of requested memory may lead to longer queue times\n",
    "* If you are a user who submits multiple jobs in a short window of time, later jobs may experience longer queue times"
   ]
  },
  {
   "cell_type": "markdown",
   "metadata": {},
   "source": [
    "### Possible future work: \n",
    "Is there any relationship between the time of day of submission and queue time?  Is it worthwhile to submit your jobs at 3 AM to avoid long wait times?"
   ]
  },
  {
   "cell_type": "markdown",
   "metadata": {},
   "source": [
    "##### ----------------------------------------------------------------------------------------------------------------------------------------------------------------------------"
   ]
  },
  {
   "cell_type": "markdown",
   "metadata": {},
   "source": [
    "## Q2: Identify problem nodes that have an above-average fail rate. (Chris)"
   ]
  },
  {
   "cell_type": "code",
   "execution_count": 12,
   "metadata": {},
   "outputs": [
    {
     "name": "stderr",
     "output_type": "stream",
     "text": [
      "/Users/gcdunn/anaconda3/lib/python3.6/site-packages/IPython/core/interactiveshell.py:2785: DtypeWarning: Columns (0,20) have mixed types. Specify dtype option on import or set low_memory=False.\n",
      "  interactivity=interactivity, compiler=compiler, result=result)\n"
     ]
    }
   ],
   "source": [
    "accre_data = pd.read_csv(filePath, delimiter='|')"
   ]
  },
  {
   "cell_type": "markdown",
   "metadata": {},
   "source": [
    "### Before we answer that question, we will only consider jobs that used 1 node (which is about 91% of all jobs)."
   ]
  },
  {
   "cell_type": "code",
   "execution_count": 13,
   "metadata": {},
   "outputs": [
    {
     "data": {
      "text/plain": [
       "1      12370952\n",
       "0        108668\n",
       "2          9344\n",
       "3          2746\n",
       "4          2357\n",
       "5           811\n",
       "100         741\n",
       "6           497\n",
       "8           488\n",
       "36          273\n",
       "50          237\n",
       "7           202\n",
       "10          157\n",
       "82          144\n",
       "16          131\n",
       "25          122\n",
       "64          112\n",
       "12          102\n",
       "32           82\n",
       "9            73\n",
       "20           62\n",
       "13           61\n",
       "11           60\n",
       "15           56\n",
       "14           52\n",
       "17           45\n",
       "19           45\n",
       "18           42\n",
       "30           37\n",
       "128          32\n",
       "         ...   \n",
       "96            2\n",
       "61            2\n",
       "76            2\n",
       "98            2\n",
       "83            2\n",
       "77            1\n",
       "89            1\n",
       "188           1\n",
       "136           1\n",
       "132           1\n",
       "131           1\n",
       "125           1\n",
       "124           1\n",
       "118           1\n",
       "117           1\n",
       "116           1\n",
       "115           1\n",
       "114           1\n",
       "111           1\n",
       "109           1\n",
       "84            1\n",
       "85            1\n",
       "104           1\n",
       "86            1\n",
       "97            1\n",
       "200           1\n",
       "95            1\n",
       "88            1\n",
       "93            1\n",
       "94            1\n",
       "Name: NNodes, Length: 122, dtype: int64"
      ]
     },
     "execution_count": 13,
     "metadata": {},
     "output_type": "execute_result"
    }
   ],
   "source": [
    "accre_data['NNodes'].value_counts()"
   ]
  },
  {
   "cell_type": "code",
   "execution_count": 14,
   "metadata": {},
   "outputs": [],
   "source": [
    "One_Node= accre_data[accre_data['NNodes'] == 1]"
   ]
  },
  {
   "cell_type": "markdown",
   "metadata": {},
   "source": [
    "### Let's look at the failure rate of the most used node--vmp1409--before we look at all nodes."
   ]
  },
  {
   "cell_type": "code",
   "execution_count": 15,
   "metadata": {},
   "outputs": [
    {
     "data": {
      "text/html": [
       "<div>\n",
       "<style scoped>\n",
       "    .dataframe tbody tr th:only-of-type {\n",
       "        vertical-align: middle;\n",
       "    }\n",
       "\n",
       "    .dataframe tbody tr th {\n",
       "        vertical-align: top;\n",
       "    }\n",
       "\n",
       "    .dataframe thead th {\n",
       "        text-align: right;\n",
       "    }\n",
       "</style>\n",
       "<table border=\"1\" class=\"dataframe\">\n",
       "  <thead>\n",
       "    <tr style=\"text-align: right;\">\n",
       "      <th></th>\n",
       "      <th>JobID</th>\n",
       "      <th>JobIDRaw</th>\n",
       "      <th>Cluster</th>\n",
       "      <th>Partition</th>\n",
       "      <th>Account</th>\n",
       "      <th>Group</th>\n",
       "      <th>GID</th>\n",
       "      <th>User</th>\n",
       "      <th>UID</th>\n",
       "      <th>Submit</th>\n",
       "      <th>...</th>\n",
       "      <th>State</th>\n",
       "      <th>NNodes</th>\n",
       "      <th>NCPUS</th>\n",
       "      <th>ReqCPUS</th>\n",
       "      <th>ReqMem</th>\n",
       "      <th>ReqGRES</th>\n",
       "      <th>ReqTRES</th>\n",
       "      <th>Timelimit</th>\n",
       "      <th>NodeList</th>\n",
       "      <th>JobName</th>\n",
       "    </tr>\n",
       "  </thead>\n",
       "  <tbody>\n",
       "    <tr>\n",
       "      <th>4586468</th>\n",
       "      <td>20415282</td>\n",
       "      <td>20415282</td>\n",
       "      <td>accre</td>\n",
       "      <td>production</td>\n",
       "      <td>root</td>\n",
       "      <td>root</td>\n",
       "      <td>0</td>\n",
       "      <td>root</td>\n",
       "      <td>0.0</td>\n",
       "      <td>2017-10-28T14:20:08</td>\n",
       "      <td>...</td>\n",
       "      <td>NODE_FAIL</td>\n",
       "      <td>1</td>\n",
       "      <td>16</td>\n",
       "      <td>1</td>\n",
       "      <td>5Gn</td>\n",
       "      <td>NaN</td>\n",
       "      <td>cpu=1,mem=5G,node=1</td>\n",
       "      <td>01:30:00</td>\n",
       "      <td>vmp1409</td>\n",
       "      <td>gpfs-upgrade.slurm</td>\n",
       "    </tr>\n",
       "  </tbody>\n",
       "</table>\n",
       "<p>1 rows × 25 columns</p>\n",
       "</div>"
      ],
      "text/plain": [
       "            JobID  JobIDRaw Cluster   Partition Account Group  GID  User  UID  \\\n",
       "4586468  20415282  20415282   accre  production    root  root    0  root  0.0   \n",
       "\n",
       "                      Submit         ...              State NNodes NCPUS  \\\n",
       "4586468  2017-10-28T14:20:08         ...          NODE_FAIL      1    16   \n",
       "\n",
       "        ReqCPUS ReqMem ReqGRES              ReqTRES  Timelimit  NodeList  \\\n",
       "4586468       1    5Gn     NaN  cpu=1,mem=5G,node=1   01:30:00   vmp1409   \n",
       "\n",
       "                    JobName  \n",
       "4586468  gpfs-upgrade.slurm  \n",
       "\n",
       "[1 rows x 25 columns]"
      ]
     },
     "execution_count": 15,
     "metadata": {},
     "output_type": "execute_result"
    }
   ],
   "source": [
    "accre_data[(accre_data['State'] == \"NODE_FAIL\") & (accre_data[\"NodeList\"] == \"vmp1409\")]"
   ]
  },
  {
   "cell_type": "code",
   "execution_count": 16,
   "metadata": {},
   "outputs": [
    {
     "name": "stdout",
     "output_type": "stream",
     "text": [
      "92419\n"
     ]
    }
   ],
   "source": [
    "print(len(accre_data[accre_data[\"NodeList\"]==\"vmp1409\"]))"
   ]
  },
  {
   "cell_type": "code",
   "execution_count": 17,
   "metadata": {},
   "outputs": [
    {
     "data": {
      "text/plain": [
       "1"
      ]
     },
     "execution_count": 17,
     "metadata": {},
     "output_type": "execute_result"
    }
   ],
   "source": [
    "len(accre_data[(accre_data['State'] == \"NODE_FAIL\") & (accre_data[\"NodeList\"] == \"vmp1409\")])"
   ]
  },
  {
   "cell_type": "code",
   "execution_count": 18,
   "metadata": {},
   "outputs": [
    {
     "data": {
      "text/plain": [
       "1.0820285871952737e-05"
      ]
     },
     "execution_count": 18,
     "metadata": {},
     "output_type": "execute_result"
    }
   ],
   "source": [
    "len(accre_data[(accre_data['State'] == \"NODE_FAIL\") & (accre_data[\"NodeList\"] == \"vmp1409\")])/len(accre_data[accre_data[\"NodeList\"]==\"vmp1409\"])"
   ]
  },
  {
   "cell_type": "markdown",
   "metadata": {},
   "source": [
    "### Node vmp1409 was used to execute 92,419 jobs. It had 1 node failure. The frequency of failure was basically 0% (YAY!)."
   ]
  },
  {
   "cell_type": "markdown",
   "metadata": {},
   "source": [
    "### Let's create a separate dataframe that calculates node failure for each node."
   ]
  },
  {
   "cell_type": "code",
   "execution_count": 19,
   "metadata": {},
   "outputs": [],
   "source": [
    "bad_nodes = accre_data.loc[(accre_data['State']=='NODE_FAIL') & (accre_data['NNodes']==1)]"
   ]
  },
  {
   "cell_type": "code",
   "execution_count": 20,
   "metadata": {},
   "outputs": [],
   "source": [
    "node_df= pd.DataFrame(accre_data.NodeList.value_counts(ascending=False)).reset_index()\n",
    "node_df = node_df.rename(index = str, columns = {'index': 'Node Code', 'NodeList': 'Total Jobs'})"
   ]
  },
  {
   "cell_type": "code",
   "execution_count": 21,
   "metadata": {},
   "outputs": [],
   "source": [
    "node_failure_df = pd.DataFrame(bad_nodes.NodeList.value_counts(ascending=False)).reset_index()\n",
    "node_failure_df = node_failure_df.rename(index = str, columns = {'index' : 'Node Code', 'NodeList': 'Failed Jobs'})"
   ]
  },
  {
   "cell_type": "code",
   "execution_count": 22,
   "metadata": {},
   "outputs": [],
   "source": [
    "combined_df = pd.merge(node_df, node_failure_df, on =\"Node Code\", how = \"inner\")"
   ]
  },
  {
   "cell_type": "code",
   "execution_count": 23,
   "metadata": {},
   "outputs": [],
   "source": [
    "combined_df['Frequency'] = combined_df['Failed Jobs']/combined_df['Total Jobs']"
   ]
  },
  {
   "cell_type": "code",
   "execution_count": 24,
   "metadata": {},
   "outputs": [
    {
     "data": {
      "text/html": [
       "<div>\n",
       "<style scoped>\n",
       "    .dataframe tbody tr th:only-of-type {\n",
       "        vertical-align: middle;\n",
       "    }\n",
       "\n",
       "    .dataframe tbody tr th {\n",
       "        vertical-align: top;\n",
       "    }\n",
       "\n",
       "    .dataframe thead th {\n",
       "        text-align: right;\n",
       "    }\n",
       "</style>\n",
       "<table border=\"1\" class=\"dataframe\">\n",
       "  <thead>\n",
       "    <tr style=\"text-align: right;\">\n",
       "      <th></th>\n",
       "      <th>Node Code</th>\n",
       "      <th>Total Jobs</th>\n",
       "      <th>Failed Jobs</th>\n",
       "      <th>Frequency</th>\n",
       "    </tr>\n",
       "  </thead>\n",
       "  <tbody>\n",
       "    <tr>\n",
       "      <th>592</th>\n",
       "      <td>vm-qa-node004</td>\n",
       "      <td>6</td>\n",
       "      <td>1</td>\n",
       "      <td>0.166667</td>\n",
       "    </tr>\n",
       "    <tr>\n",
       "      <th>588</th>\n",
       "      <td>vmp595</td>\n",
       "      <td>1018</td>\n",
       "      <td>8</td>\n",
       "      <td>0.007859</td>\n",
       "    </tr>\n",
       "    <tr>\n",
       "      <th>586</th>\n",
       "      <td>vmp598</td>\n",
       "      <td>1042</td>\n",
       "      <td>7</td>\n",
       "      <td>0.006718</td>\n",
       "    </tr>\n",
       "    <tr>\n",
       "      <th>584</th>\n",
       "      <td>vmp592</td>\n",
       "      <td>1084</td>\n",
       "      <td>7</td>\n",
       "      <td>0.006458</td>\n",
       "    </tr>\n",
       "    <tr>\n",
       "      <th>579</th>\n",
       "      <td>vmp692</td>\n",
       "      <td>1117</td>\n",
       "      <td>7</td>\n",
       "      <td>0.006267</td>\n",
       "    </tr>\n",
       "    <tr>\n",
       "      <th>578</th>\n",
       "      <td>vmp696</td>\n",
       "      <td>1118</td>\n",
       "      <td>7</td>\n",
       "      <td>0.006261</td>\n",
       "    </tr>\n",
       "    <tr>\n",
       "      <th>590</th>\n",
       "      <td>gpu0022</td>\n",
       "      <td>505</td>\n",
       "      <td>3</td>\n",
       "      <td>0.005941</td>\n",
       "    </tr>\n",
       "    <tr>\n",
       "      <th>582</th>\n",
       "      <td>gpu0010</td>\n",
       "      <td>1097</td>\n",
       "      <td>5</td>\n",
       "      <td>0.004558</td>\n",
       "    </tr>\n",
       "    <tr>\n",
       "      <th>581</th>\n",
       "      <td>vmp695</td>\n",
       "      <td>1097</td>\n",
       "      <td>5</td>\n",
       "      <td>0.004558</td>\n",
       "    </tr>\n",
       "    <tr>\n",
       "      <th>580</th>\n",
       "      <td>vmp597</td>\n",
       "      <td>1099</td>\n",
       "      <td>5</td>\n",
       "      <td>0.004550</td>\n",
       "    </tr>\n",
       "    <tr>\n",
       "      <th>577</th>\n",
       "      <td>vmp698</td>\n",
       "      <td>1147</td>\n",
       "      <td>5</td>\n",
       "      <td>0.004359</td>\n",
       "    </tr>\n",
       "    <tr>\n",
       "      <th>576</th>\n",
       "      <td>gpu0007</td>\n",
       "      <td>1198</td>\n",
       "      <td>5</td>\n",
       "      <td>0.004174</td>\n",
       "    </tr>\n",
       "    <tr>\n",
       "      <th>587</th>\n",
       "      <td>vmp594</td>\n",
       "      <td>1023</td>\n",
       "      <td>4</td>\n",
       "      <td>0.003910</td>\n",
       "    </tr>\n",
       "    <tr>\n",
       "      <th>585</th>\n",
       "      <td>vmp697</td>\n",
       "      <td>1078</td>\n",
       "      <td>4</td>\n",
       "      <td>0.003711</td>\n",
       "    </tr>\n",
       "    <tr>\n",
       "      <th>591</th>\n",
       "      <td>gpu0028</td>\n",
       "      <td>275</td>\n",
       "      <td>1</td>\n",
       "      <td>0.003636</td>\n",
       "    </tr>\n",
       "    <tr>\n",
       "      <th>571</th>\n",
       "      <td>gpu0008</td>\n",
       "      <td>1621</td>\n",
       "      <td>5</td>\n",
       "      <td>0.003085</td>\n",
       "    </tr>\n",
       "    <tr>\n",
       "      <th>541</th>\n",
       "      <td>vmp425</td>\n",
       "      <td>5442</td>\n",
       "      <td>13</td>\n",
       "      <td>0.002389</td>\n",
       "    </tr>\n",
       "    <tr>\n",
       "      <th>564</th>\n",
       "      <td>gpu0017</td>\n",
       "      <td>2926</td>\n",
       "      <td>5</td>\n",
       "      <td>0.001709</td>\n",
       "    </tr>\n",
       "    <tr>\n",
       "      <th>487</th>\n",
       "      <td>vmp1223</td>\n",
       "      <td>7203</td>\n",
       "      <td>11</td>\n",
       "      <td>0.001527</td>\n",
       "    </tr>\n",
       "    <tr>\n",
       "      <th>572</th>\n",
       "      <td>gpu0012</td>\n",
       "      <td>1529</td>\n",
       "      <td>2</td>\n",
       "      <td>0.001308</td>\n",
       "    </tr>\n",
       "    <tr>\n",
       "      <th>68</th>\n",
       "      <td>vmp1354</td>\n",
       "      <td>24104</td>\n",
       "      <td>31</td>\n",
       "      <td>0.001286</td>\n",
       "    </tr>\n",
       "    <tr>\n",
       "      <th>554</th>\n",
       "      <td>vmp422</td>\n",
       "      <td>3957</td>\n",
       "      <td>5</td>\n",
       "      <td>0.001264</td>\n",
       "    </tr>\n",
       "    <tr>\n",
       "      <th>405</th>\n",
       "      <td>vmp1218</td>\n",
       "      <td>7930</td>\n",
       "      <td>10</td>\n",
       "      <td>0.001261</td>\n",
       "    </tr>\n",
       "    <tr>\n",
       "      <th>317</th>\n",
       "      <td>vmp301</td>\n",
       "      <td>9193</td>\n",
       "      <td>11</td>\n",
       "      <td>0.001197</td>\n",
       "    </tr>\n",
       "    <tr>\n",
       "      <th>361</th>\n",
       "      <td>vmp441</td>\n",
       "      <td>8380</td>\n",
       "      <td>10</td>\n",
       "      <td>0.001193</td>\n",
       "    </tr>\n",
       "    <tr>\n",
       "      <th>442</th>\n",
       "      <td>vmp443</td>\n",
       "      <td>7602</td>\n",
       "      <td>9</td>\n",
       "      <td>0.001184</td>\n",
       "    </tr>\n",
       "    <tr>\n",
       "      <th>351</th>\n",
       "      <td>vmp1225</td>\n",
       "      <td>8504</td>\n",
       "      <td>10</td>\n",
       "      <td>0.001176</td>\n",
       "    </tr>\n",
       "    <tr>\n",
       "      <th>403</th>\n",
       "      <td>vmp401</td>\n",
       "      <td>7938</td>\n",
       "      <td>9</td>\n",
       "      <td>0.001134</td>\n",
       "    </tr>\n",
       "    <tr>\n",
       "      <th>132</th>\n",
       "      <td>vmp1350</td>\n",
       "      <td>21316</td>\n",
       "      <td>24</td>\n",
       "      <td>0.001126</td>\n",
       "    </tr>\n",
       "    <tr>\n",
       "      <th>327</th>\n",
       "      <td>vmp409</td>\n",
       "      <td>8952</td>\n",
       "      <td>10</td>\n",
       "      <td>0.001117</td>\n",
       "    </tr>\n",
       "    <tr>\n",
       "      <th>...</th>\n",
       "      <td>...</td>\n",
       "      <td>...</td>\n",
       "      <td>...</td>\n",
       "      <td>...</td>\n",
       "    </tr>\n",
       "    <tr>\n",
       "      <th>78</th>\n",
       "      <td>vmp1371</td>\n",
       "      <td>23793</td>\n",
       "      <td>1</td>\n",
       "      <td>0.000042</td>\n",
       "    </tr>\n",
       "    <tr>\n",
       "      <th>72</th>\n",
       "      <td>vmp1091</td>\n",
       "      <td>24034</td>\n",
       "      <td>1</td>\n",
       "      <td>0.000042</td>\n",
       "    </tr>\n",
       "    <tr>\n",
       "      <th>64</th>\n",
       "      <td>vmp1311</td>\n",
       "      <td>24366</td>\n",
       "      <td>1</td>\n",
       "      <td>0.000041</td>\n",
       "    </tr>\n",
       "    <tr>\n",
       "      <th>63</th>\n",
       "      <td>vmp1037</td>\n",
       "      <td>24507</td>\n",
       "      <td>1</td>\n",
       "      <td>0.000041</td>\n",
       "    </tr>\n",
       "    <tr>\n",
       "      <th>62</th>\n",
       "      <td>vmp1383</td>\n",
       "      <td>24517</td>\n",
       "      <td>1</td>\n",
       "      <td>0.000041</td>\n",
       "    </tr>\n",
       "    <tr>\n",
       "      <th>57</th>\n",
       "      <td>vmp1021</td>\n",
       "      <td>24964</td>\n",
       "      <td>1</td>\n",
       "      <td>0.000040</td>\n",
       "    </tr>\n",
       "    <tr>\n",
       "      <th>48</th>\n",
       "      <td>vmp1368</td>\n",
       "      <td>25506</td>\n",
       "      <td>1</td>\n",
       "      <td>0.000039</td>\n",
       "    </tr>\n",
       "    <tr>\n",
       "      <th>44</th>\n",
       "      <td>vmp1381</td>\n",
       "      <td>26287</td>\n",
       "      <td>1</td>\n",
       "      <td>0.000038</td>\n",
       "    </tr>\n",
       "    <tr>\n",
       "      <th>39</th>\n",
       "      <td>vmp1026</td>\n",
       "      <td>27184</td>\n",
       "      <td>1</td>\n",
       "      <td>0.000037</td>\n",
       "    </tr>\n",
       "    <tr>\n",
       "      <th>38</th>\n",
       "      <td>vmp1384</td>\n",
       "      <td>27216</td>\n",
       "      <td>1</td>\n",
       "      <td>0.000037</td>\n",
       "    </tr>\n",
       "    <tr>\n",
       "      <th>37</th>\n",
       "      <td>vmp1387</td>\n",
       "      <td>27752</td>\n",
       "      <td>1</td>\n",
       "      <td>0.000036</td>\n",
       "    </tr>\n",
       "    <tr>\n",
       "      <th>36</th>\n",
       "      <td>vmp1019</td>\n",
       "      <td>27847</td>\n",
       "      <td>1</td>\n",
       "      <td>0.000036</td>\n",
       "    </tr>\n",
       "    <tr>\n",
       "      <th>34</th>\n",
       "      <td>vmp1027</td>\n",
       "      <td>28219</td>\n",
       "      <td>1</td>\n",
       "      <td>0.000035</td>\n",
       "    </tr>\n",
       "    <tr>\n",
       "      <th>33</th>\n",
       "      <td>vmp1014</td>\n",
       "      <td>28458</td>\n",
       "      <td>1</td>\n",
       "      <td>0.000035</td>\n",
       "    </tr>\n",
       "    <tr>\n",
       "      <th>31</th>\n",
       "      <td>vmp1030</td>\n",
       "      <td>28709</td>\n",
       "      <td>1</td>\n",
       "      <td>0.000035</td>\n",
       "    </tr>\n",
       "    <tr>\n",
       "      <th>29</th>\n",
       "      <td>vmp1025</td>\n",
       "      <td>29206</td>\n",
       "      <td>1</td>\n",
       "      <td>0.000034</td>\n",
       "    </tr>\n",
       "    <tr>\n",
       "      <th>28</th>\n",
       "      <td>vmp1028</td>\n",
       "      <td>29465</td>\n",
       "      <td>1</td>\n",
       "      <td>0.000034</td>\n",
       "    </tr>\n",
       "    <tr>\n",
       "      <th>27</th>\n",
       "      <td>vmp1012</td>\n",
       "      <td>29471</td>\n",
       "      <td>1</td>\n",
       "      <td>0.000034</td>\n",
       "    </tr>\n",
       "    <tr>\n",
       "      <th>26</th>\n",
       "      <td>vmp1039</td>\n",
       "      <td>29480</td>\n",
       "      <td>1</td>\n",
       "      <td>0.000034</td>\n",
       "    </tr>\n",
       "    <tr>\n",
       "      <th>18</th>\n",
       "      <td>vmp1040</td>\n",
       "      <td>31954</td>\n",
       "      <td>1</td>\n",
       "      <td>0.000031</td>\n",
       "    </tr>\n",
       "    <tr>\n",
       "      <th>16</th>\n",
       "      <td>vmp1024</td>\n",
       "      <td>32465</td>\n",
       "      <td>1</td>\n",
       "      <td>0.000031</td>\n",
       "    </tr>\n",
       "    <tr>\n",
       "      <th>14</th>\n",
       "      <td>vmp1302</td>\n",
       "      <td>33143</td>\n",
       "      <td>1</td>\n",
       "      <td>0.000030</td>\n",
       "    </tr>\n",
       "    <tr>\n",
       "      <th>12</th>\n",
       "      <td>vmp1007</td>\n",
       "      <td>33786</td>\n",
       "      <td>1</td>\n",
       "      <td>0.000030</td>\n",
       "    </tr>\n",
       "    <tr>\n",
       "      <th>9</th>\n",
       "      <td>vmp1015</td>\n",
       "      <td>34384</td>\n",
       "      <td>1</td>\n",
       "      <td>0.000029</td>\n",
       "    </tr>\n",
       "    <tr>\n",
       "      <th>7</th>\n",
       "      <td>vmp1002</td>\n",
       "      <td>36047</td>\n",
       "      <td>1</td>\n",
       "      <td>0.000028</td>\n",
       "    </tr>\n",
       "    <tr>\n",
       "      <th>5</th>\n",
       "      <td>vmp1010</td>\n",
       "      <td>36912</td>\n",
       "      <td>1</td>\n",
       "      <td>0.000027</td>\n",
       "    </tr>\n",
       "    <tr>\n",
       "      <th>4</th>\n",
       "      <td>vmp1003</td>\n",
       "      <td>38681</td>\n",
       "      <td>1</td>\n",
       "      <td>0.000026</td>\n",
       "    </tr>\n",
       "    <tr>\n",
       "      <th>3</th>\n",
       "      <td>vmp1298</td>\n",
       "      <td>47568</td>\n",
       "      <td>1</td>\n",
       "      <td>0.000021</td>\n",
       "    </tr>\n",
       "    <tr>\n",
       "      <th>2</th>\n",
       "      <td>vmp1001</td>\n",
       "      <td>66221</td>\n",
       "      <td>1</td>\n",
       "      <td>0.000015</td>\n",
       "    </tr>\n",
       "    <tr>\n",
       "      <th>0</th>\n",
       "      <td>vmp1409</td>\n",
       "      <td>92419</td>\n",
       "      <td>1</td>\n",
       "      <td>0.000011</td>\n",
       "    </tr>\n",
       "  </tbody>\n",
       "</table>\n",
       "<p>593 rows × 4 columns</p>\n",
       "</div>"
      ],
      "text/plain": [
       "         Node Code  Total Jobs  Failed Jobs  Frequency\n",
       "592  vm-qa-node004           6            1   0.166667\n",
       "588         vmp595        1018            8   0.007859\n",
       "586         vmp598        1042            7   0.006718\n",
       "584         vmp592        1084            7   0.006458\n",
       "579         vmp692        1117            7   0.006267\n",
       "578         vmp696        1118            7   0.006261\n",
       "590        gpu0022         505            3   0.005941\n",
       "582        gpu0010        1097            5   0.004558\n",
       "581         vmp695        1097            5   0.004558\n",
       "580         vmp597        1099            5   0.004550\n",
       "577         vmp698        1147            5   0.004359\n",
       "576        gpu0007        1198            5   0.004174\n",
       "587         vmp594        1023            4   0.003910\n",
       "585         vmp697        1078            4   0.003711\n",
       "591        gpu0028         275            1   0.003636\n",
       "571        gpu0008        1621            5   0.003085\n",
       "541         vmp425        5442           13   0.002389\n",
       "564        gpu0017        2926            5   0.001709\n",
       "487        vmp1223        7203           11   0.001527\n",
       "572        gpu0012        1529            2   0.001308\n",
       "68         vmp1354       24104           31   0.001286\n",
       "554         vmp422        3957            5   0.001264\n",
       "405        vmp1218        7930           10   0.001261\n",
       "317         vmp301        9193           11   0.001197\n",
       "361         vmp441        8380           10   0.001193\n",
       "442         vmp443        7602            9   0.001184\n",
       "351        vmp1225        8504           10   0.001176\n",
       "403         vmp401        7938            9   0.001134\n",
       "132        vmp1350       21316           24   0.001126\n",
       "327         vmp409        8952           10   0.001117\n",
       "..             ...         ...          ...        ...\n",
       "78         vmp1371       23793            1   0.000042\n",
       "72         vmp1091       24034            1   0.000042\n",
       "64         vmp1311       24366            1   0.000041\n",
       "63         vmp1037       24507            1   0.000041\n",
       "62         vmp1383       24517            1   0.000041\n",
       "57         vmp1021       24964            1   0.000040\n",
       "48         vmp1368       25506            1   0.000039\n",
       "44         vmp1381       26287            1   0.000038\n",
       "39         vmp1026       27184            1   0.000037\n",
       "38         vmp1384       27216            1   0.000037\n",
       "37         vmp1387       27752            1   0.000036\n",
       "36         vmp1019       27847            1   0.000036\n",
       "34         vmp1027       28219            1   0.000035\n",
       "33         vmp1014       28458            1   0.000035\n",
       "31         vmp1030       28709            1   0.000035\n",
       "29         vmp1025       29206            1   0.000034\n",
       "28         vmp1028       29465            1   0.000034\n",
       "27         vmp1012       29471            1   0.000034\n",
       "26         vmp1039       29480            1   0.000034\n",
       "18         vmp1040       31954            1   0.000031\n",
       "16         vmp1024       32465            1   0.000031\n",
       "14         vmp1302       33143            1   0.000030\n",
       "12         vmp1007       33786            1   0.000030\n",
       "9          vmp1015       34384            1   0.000029\n",
       "7          vmp1002       36047            1   0.000028\n",
       "5          vmp1010       36912            1   0.000027\n",
       "4          vmp1003       38681            1   0.000026\n",
       "3          vmp1298       47568            1   0.000021\n",
       "2          vmp1001       66221            1   0.000015\n",
       "0          vmp1409       92419            1   0.000011\n",
       "\n",
       "[593 rows x 4 columns]"
      ]
     },
     "execution_count": 24,
     "metadata": {},
     "output_type": "execute_result"
    }
   ],
   "source": [
    "combined_df.sort_values(by=['Frequency'], ascending=False)"
   ]
  },
  {
   "cell_type": "markdown",
   "metadata": {},
   "source": [
    "### Forunately, the most commonly used node (vmp 1409) had the lowest failure rate."
   ]
  },
  {
   "cell_type": "code",
   "execution_count": 25,
   "metadata": {},
   "outputs": [
    {
     "data": {
      "text/plain": [
       "0.0007285941178738537"
      ]
     },
     "execution_count": 25,
     "metadata": {},
     "output_type": "execute_result"
    }
   ],
   "source": [
    "combined_df['Frequency'].mean()"
   ]
  },
  {
   "cell_type": "markdown",
   "metadata": {},
   "source": [
    "### The mean node failure rate is about .07%."
   ]
  },
  {
   "cell_type": "code",
   "execution_count": 26,
   "metadata": {},
   "outputs": [
    {
     "data": {
      "text/plain": [
       "0.0002610966057441253"
      ]
     },
     "execution_count": 26,
     "metadata": {},
     "output_type": "execute_result"
    }
   ],
   "source": [
    "combined_df['Frequency'].median()"
   ]
  },
  {
   "cell_type": "markdown",
   "metadata": {},
   "source": [
    "### The median failure rate is about 0.03%."
   ]
  },
  {
   "cell_type": "code",
   "execution_count": 27,
   "metadata": {},
   "outputs": [
    {
     "data": {
      "text/plain": [
       "0.0068755232336971"
      ]
     },
     "execution_count": 27,
     "metadata": {},
     "output_type": "execute_result"
    }
   ],
   "source": [
    "combined_df[\"Frequency\"].std()"
   ]
  },
  {
   "cell_type": "markdown",
   "metadata": {},
   "source": [
    "### One standard deviation is about 0.7%."
   ]
  },
  {
   "cell_type": "markdown",
   "metadata": {},
   "source": [
    "### Let's look at the distribution of failure rates with a histogram."
   ]
  },
  {
   "cell_type": "code",
   "execution_count": 28,
   "metadata": {},
   "outputs": [
    {
     "data": {
      "text/plain": [
       "Text(0,0.5,'Frequency of Failure')"
      ]
     },
     "execution_count": 28,
     "metadata": {},
     "output_type": "execute_result"
    },
    {
     "data": {
      "image/png": "[encoded data removed]",
      "text/plain": [
       "<Figure size 1152x864 with 1 Axes>"
      ]
     },
     "metadata": {},
     "output_type": "display_data"
    }
   ],
   "source": [
    "combined_df.hist(column='Frequency', bins=100, grid=False, figsize=(16,12), color='#86bf91', zorder=2, rwidth=0.5,)\n",
    "plt.xlabel(\"Rate of Failure 0.1 = 10%\", fontsize=16)\n",
    "plt.semilogx()\n",
    "plt.semilogy()\n",
    "plt.title(\"Failure Rate Histogram\",fontsize=16)\n",
    "plt.ylabel(\"Frequency of Failure\",fontsize=16)"
   ]
  },
  {
   "cell_type": "code",
   "execution_count": 29,
   "metadata": {},
   "outputs": [
    {
     "data": {
      "text/plain": [
       "Text(0.5,0,'Frequency of Failure')"
      ]
     },
     "execution_count": 29,
     "metadata": {},
     "output_type": "execute_result"
    },
    {
     "data": {
      "image/png": "[encoded data removed]",
      "text/plain": [
       "<Figure size 432x720 with 1 Axes>"
      ]
     },
     "metadata": {},
     "output_type": "display_data"
    }
   ],
   "source": [
    "combined_df[\"Frequency\"].plot(kind='box', figsize=(6,10))\n",
    "plt.semilogy()\n",
    "plt.xlabel(\"Frequency of Failure\",fontsize=16)"
   ]
  },
  {
   "cell_type": "markdown",
   "metadata": {},
   "source": [
    "### The boxplot and histogram shows the data is skewed right b/c of some high frequency node failure outliers. Let's figure out exactly which nodes have these high failure rates, and determine how they compare to the median."
   ]
  },
  {
   "cell_type": "code",
   "execution_count": 30,
   "metadata": {},
   "outputs": [
    {
     "data": {
      "text/plain": [
       "0.25    0.000108\n",
       "0.75    0.000499\n",
       "Name: Frequency, dtype: float64"
      ]
     },
     "execution_count": 30,
     "metadata": {},
     "output_type": "execute_result"
    }
   ],
   "source": [
    "q = [0.25, 0.75]\n",
    "combined_df[\"Frequency\"].quantile(q)"
   ]
  },
  {
   "cell_type": "markdown",
   "metadata": {},
   "source": [
    "### Depending on how we define an \"outlier,\" any node with a failure rate above the 75% percentile (0.05% fail rate) we may consider to have a disproportionately high fail rate."
   ]
  },
  {
   "cell_type": "code",
   "execution_count": 31,
   "metadata": {},
   "outputs": [
    {
     "data": {
      "text/html": [
       "<div>\n",
       "<style scoped>\n",
       "    .dataframe tbody tr th:only-of-type {\n",
       "        vertical-align: middle;\n",
       "    }\n",
       "\n",
       "    .dataframe tbody tr th {\n",
       "        vertical-align: top;\n",
       "    }\n",
       "\n",
       "    .dataframe thead th {\n",
       "        text-align: right;\n",
       "    }\n",
       "</style>\n",
       "<table border=\"1\" class=\"dataframe\">\n",
       "  <thead>\n",
       "    <tr style=\"text-align: right;\">\n",
       "      <th></th>\n",
       "      <th>Node Code</th>\n",
       "      <th>Total Jobs</th>\n",
       "      <th>Failed Jobs</th>\n",
       "      <th>Frequency</th>\n",
       "    </tr>\n",
       "  </thead>\n",
       "  <tbody>\n",
       "    <tr>\n",
       "      <th>592</th>\n",
       "      <td>vm-qa-node004</td>\n",
       "      <td>6</td>\n",
       "      <td>1</td>\n",
       "      <td>0.166667</td>\n",
       "    </tr>\n",
       "    <tr>\n",
       "      <th>588</th>\n",
       "      <td>vmp595</td>\n",
       "      <td>1018</td>\n",
       "      <td>8</td>\n",
       "      <td>0.007859</td>\n",
       "    </tr>\n",
       "    <tr>\n",
       "      <th>586</th>\n",
       "      <td>vmp598</td>\n",
       "      <td>1042</td>\n",
       "      <td>7</td>\n",
       "      <td>0.006718</td>\n",
       "    </tr>\n",
       "    <tr>\n",
       "      <th>584</th>\n",
       "      <td>vmp592</td>\n",
       "      <td>1084</td>\n",
       "      <td>7</td>\n",
       "      <td>0.006458</td>\n",
       "    </tr>\n",
       "    <tr>\n",
       "      <th>579</th>\n",
       "      <td>vmp692</td>\n",
       "      <td>1117</td>\n",
       "      <td>7</td>\n",
       "      <td>0.006267</td>\n",
       "    </tr>\n",
       "  </tbody>\n",
       "</table>\n",
       "</div>"
      ],
      "text/plain": [
       "         Node Code  Total Jobs  Failed Jobs  Frequency\n",
       "592  vm-qa-node004           6            1   0.166667\n",
       "588         vmp595        1018            8   0.007859\n",
       "586         vmp598        1042            7   0.006718\n",
       "584         vmp592        1084            7   0.006458\n",
       "579         vmp692        1117            7   0.006267"
      ]
     },
     "execution_count": 31,
     "metadata": {},
     "output_type": "execute_result"
    }
   ],
   "source": [
    "combined_df.nlargest(5, \"Frequency\")"
   ]
  },
  {
   "cell_type": "markdown",
   "metadata": {},
   "source": [
    "### Node vm-qa-node004 has the highest failure rate, about 17%. This is more than 24 standard deviations from the mean. We can safely say that this a \"bad node\" because it is such an extreme outlier. It should be pointed out that it was only used for 6 total jobs--so this high fail rate may not necessarily be relevant."
   ]
  },
  {
   "cell_type": "markdown",
   "metadata": {},
   "source": [
    "### The next highest frequency of failures were as follows: Node vmp595 has a 0.79% failure rate, node vmp598 has a 0.67% failure rate, node vmp592 has a 0.65% failure rate, and node vmp692 has a 0.62% failure rate. We can safely consider the top 5 node failure rates outliers because they well outside the inner-quartile range--which has about an 0.05% failure rate cut at the 75th percentile."
   ]
  },
  {
   "cell_type": "markdown",
   "metadata": {},
   "source": [
    "### Let's focus in on the top quartile (149 nodes) to see if the distribution of failure rates looks different from the general dataset."
   ]
  },
  {
   "cell_type": "code",
   "execution_count": 32,
   "metadata": {},
   "outputs": [],
   "source": [
    "subset_filter = combined_df.loc[combined_df['Frequency']>= combined_df[\"Frequency\"].quantile(0.75)]"
   ]
  },
  {
   "cell_type": "code",
   "execution_count": 33,
   "metadata": {},
   "outputs": [
    {
     "data": {
      "text/html": [
       "<div>\n",
       "<style scoped>\n",
       "    .dataframe tbody tr th:only-of-type {\n",
       "        vertical-align: middle;\n",
       "    }\n",
       "\n",
       "    .dataframe tbody tr th {\n",
       "        vertical-align: top;\n",
       "    }\n",
       "\n",
       "    .dataframe thead th {\n",
       "        text-align: right;\n",
       "    }\n",
       "</style>\n",
       "<table border=\"1\" class=\"dataframe\">\n",
       "  <thead>\n",
       "    <tr style=\"text-align: right;\">\n",
       "      <th></th>\n",
       "      <th>Node Code</th>\n",
       "      <th>Total Jobs</th>\n",
       "      <th>Failed Jobs</th>\n",
       "      <th>Frequency</th>\n",
       "    </tr>\n",
       "  </thead>\n",
       "  <tbody>\n",
       "    <tr>\n",
       "      <th>592</th>\n",
       "      <td>vm-qa-node004</td>\n",
       "      <td>6</td>\n",
       "      <td>1</td>\n",
       "      <td>0.166667</td>\n",
       "    </tr>\n",
       "    <tr>\n",
       "      <th>588</th>\n",
       "      <td>vmp595</td>\n",
       "      <td>1018</td>\n",
       "      <td>8</td>\n",
       "      <td>0.007859</td>\n",
       "    </tr>\n",
       "    <tr>\n",
       "      <th>586</th>\n",
       "      <td>vmp598</td>\n",
       "      <td>1042</td>\n",
       "      <td>7</td>\n",
       "      <td>0.006718</td>\n",
       "    </tr>\n",
       "    <tr>\n",
       "      <th>584</th>\n",
       "      <td>vmp592</td>\n",
       "      <td>1084</td>\n",
       "      <td>7</td>\n",
       "      <td>0.006458</td>\n",
       "    </tr>\n",
       "    <tr>\n",
       "      <th>579</th>\n",
       "      <td>vmp692</td>\n",
       "      <td>1117</td>\n",
       "      <td>7</td>\n",
       "      <td>0.006267</td>\n",
       "    </tr>\n",
       "  </tbody>\n",
       "</table>\n",
       "</div>"
      ],
      "text/plain": [
       "         Node Code  Total Jobs  Failed Jobs  Frequency\n",
       "592  vm-qa-node004           6            1   0.166667\n",
       "588         vmp595        1018            8   0.007859\n",
       "586         vmp598        1042            7   0.006718\n",
       "584         vmp592        1084            7   0.006458\n",
       "579         vmp692        1117            7   0.006267"
      ]
     },
     "execution_count": 33,
     "metadata": {},
     "output_type": "execute_result"
    }
   ],
   "source": [
    "subset_filter.nlargest(5, \"Frequency\")"
   ]
  },
  {
   "cell_type": "code",
   "execution_count": 34,
   "metadata": {},
   "outputs": [
    {
     "data": {
      "text/plain": [
       "Text(0.5,0,'Top Quartile Failure Relative Comparison')"
      ]
     },
     "execution_count": 34,
     "metadata": {},
     "output_type": "execute_result"
    },
    {
     "data": {
      "image/png": "[encoded data removed]",
      "text/plain": [
       "<Figure size 432x576 with 1 Axes>"
      ]
     },
     "metadata": {},
     "output_type": "display_data"
    }
   ],
   "source": [
    "subset_filter[\"Frequency\"].plot(kind='box',figsize=(6,8))\n",
    "plt.semilogy()\n",
    "plt.xlabel('Top Quartile Failure Relative Comparison', fontsize=16)"
   ]
  },
  {
   "cell_type": "code",
   "execution_count": 35,
   "metadata": {},
   "outputs": [
    {
     "data": {
      "text/plain": [
       "Text(0.5,1,'Frequency of Failure Histogram for the Top Quartile')"
      ]
     },
     "execution_count": 35,
     "metadata": {},
     "output_type": "execute_result"
    },
    {
     "data": {
      "image/png": "[encoded data removed]",
      "text/plain": [
       "<Figure size 1152x864 with 1 Axes>"
      ]
     },
     "metadata": {},
     "output_type": "display_data"
    }
   ],
   "source": [
    "subset_filter.hist(column='Frequency', bins=100, grid=False, figsize=(16,12), color='#86bf91', zorder=2, rwidth=0.5)\n",
    "plt.xlabel(\"Rate of Failure 0.1 = 10%\", fontsize=16)\n",
    "plt.semilogx()\n",
    "plt.semilogy()\n",
    "plt.ylabel(\"Frequency of Failure\", fontsize=16)\n",
    "plt.title(\"Frequency of Failure Histogram for the Top Quartile\", fontsize=16)"
   ]
  },
  {
   "cell_type": "code",
   "execution_count": 36,
   "metadata": {},
   "outputs": [
    {
     "data": {
      "text/plain": [
       "Text(0,0.5,'Top Quartile Failed Jobs')"
      ]
     },
     "execution_count": 36,
     "metadata": {},
     "output_type": "execute_result"
    },
    {
     "data": {
      "image/png": "[encoded data removed]",
      "text/plain": [
       "<Figure size 1080x576 with 1 Axes>"
      ]
     },
     "metadata": {},
     "output_type": "display_data"
    }
   ],
   "source": [
    "plt.figure(figsize=(15,8))\n",
    "ax = sns.regplot(x= \"Total Jobs\", y = \"Failed Jobs\", data=subset_filter)\n",
    "plt.xlabel('Top Quartile Total Jobs', fontsize=16)\n",
    "plt.ylabel('Top Quartile Failed Jobs', fontsize=16)"
   ]
  },
  {
   "cell_type": "code",
   "execution_count": 37,
   "metadata": {},
   "outputs": [
    {
     "data": {
      "text/plain": [
       "0.0006782419967444384"
      ]
     },
     "execution_count": 37,
     "metadata": {},
     "output_type": "execute_result"
    }
   ],
   "source": [
    "subset_filter['Frequency'].median()"
   ]
  },
  {
   "cell_type": "markdown",
   "metadata": {},
   "source": [
    "### This boxplot and the historgram tell us that most data in the top quartile has a failure rate of around 0.07% (less than a tenth of a percent). This explains why the histogram is unimodal. AKA the spread is relatively tight, even among the top quartile. There are handful of nodes outside of the 75th percentile within the top quartile that buck this trend (aks above the 94th percentile). Thus, we will safely consider any node above the 94th percentile a \"bad node,\" as opposed to all nodes in the top quartile."
   ]
  },
  {
   "cell_type": "markdown",
   "metadata": {},
   "source": [
    "##### ----------------------------------------------------------------------------------------------------------------------------------------------------------------------------"
   ]
  },
  {
   "cell_type": "markdown",
   "metadata": {},
   "source": [
    "## Q3: Identify problem users who submit more than 500 jobs that run for less than 5 minutes in a four hour window.  (UrLeaka)"
   ]
  },
  {
   "cell_type": "code",
   "execution_count": 38,
   "metadata": {},
   "outputs": [],
   "source": [
    "accre_data = pd.read_csv(filePath, delimiter='|',dtype='str')"
   ]
  },
  {
   "cell_type": "markdown",
   "metadata": {},
   "source": [
    "### Start and end times were analyzed and converted to datetime64 format in order to eventually determine and compare \"elapsed time\". "
   ]
  },
  {
   "cell_type": "code",
   "execution_count": 39,
   "metadata": {},
   "outputs": [],
   "source": [
    "accre_data.Start = pd.to_datetime(accre_data.Start)\n",
    "accre_data.End = pd.to_datetime(accre_data.End)"
   ]
  },
  {
   "cell_type": "code",
   "execution_count": 40,
   "metadata": {},
   "outputs": [],
   "source": [
    "accre_data['RunCalc'] = accre_data.End - accre_data.Start"
   ]
  },
  {
   "cell_type": "markdown",
   "metadata": {},
   "source": [
    "### Now we convert 'RunCalc' to number of days in order to filter out all elapsed times greater than 24 hours."
   ]
  },
  {
   "cell_type": "code",
   "execution_count": 41,
   "metadata": {},
   "outputs": [],
   "source": [
    "days=accre_data.RunCalc.dt.days"
   ]
  },
  {
   "cell_type": "markdown",
   "metadata": {},
   "source": [
    "### Here we filtered all cases that have not completed and cases that took more than 24 hrs."
   ]
  },
  {
   "cell_type": "code",
   "execution_count": 42,
   "metadata": {},
   "outputs": [
    {
     "name": "stderr",
     "output_type": "stream",
     "text": [
      "/Users/gcdunn/anaconda3/lib/python3.6/site-packages/ipykernel_launcher.py:2: SettingWithCopyWarning: \n",
      "A value is trying to be set on a copy of a slice from a DataFrame.\n",
      "Try using .loc[row_indexer,col_indexer] = value instead\n",
      "\n",
      "See the caveats in the documentation: http://pandas.pydata.org/pandas-docs/stable/indexing.html#indexing-view-versus-copy\n",
      "  \n"
     ]
    }
   ],
   "source": [
    "completed=accre_data[accre_data.State == 'COMPLETED']\n",
    "completed['days']=days\n",
    "less24hrs = completed[completed.days< 1]"
   ]
  },
  {
   "cell_type": "markdown",
   "metadata": {},
   "source": [
    "### Converted times to secs in order to filter out \"RunCalc\" or \"Elapsed\" times that took more than 5 min.  "
   ]
  },
  {
   "cell_type": "code",
   "execution_count": 43,
   "metadata": {},
   "outputs": [
    {
     "name": "stderr",
     "output_type": "stream",
     "text": [
      "/Users/gcdunn/anaconda3/lib/python3.6/site-packages/ipykernel_launcher.py:2: SettingWithCopyWarning: \n",
      "A value is trying to be set on a copy of a slice from a DataFrame.\n",
      "Try using .loc[row_indexer,col_indexer] = value instead\n",
      "\n",
      "See the caveats in the documentation: http://pandas.pydata.org/pandas-docs/stable/indexing.html#indexing-view-versus-copy\n",
      "  \n"
     ]
    }
   ],
   "source": [
    "secs_RunCalc=less24hrs.RunCalc.dt.seconds\n",
    "less24hrs['secs_RunCalc'] = secs_RunCalc"
   ]
  },
  {
   "cell_type": "code",
   "execution_count": 44,
   "metadata": {},
   "outputs": [],
   "source": [
    "prob_jobs = less24hrs[less24hrs.secs_RunCalc<=300]"
   ]
  },
  {
   "cell_type": "markdown",
   "metadata": {},
   "source": [
    "### Reduced dataframes to necessary columns"
   ]
  },
  {
   "cell_type": "code",
   "execution_count": 45,
   "metadata": {},
   "outputs": [
    {
     "data": {
      "text/html": [
       "<div>\n",
       "<style scoped>\n",
       "    .dataframe tbody tr th:only-of-type {\n",
       "        vertical-align: middle;\n",
       "    }\n",
       "\n",
       "    .dataframe tbody tr th {\n",
       "        vertical-align: top;\n",
       "    }\n",
       "\n",
       "    .dataframe thead th {\n",
       "        text-align: right;\n",
       "    }\n",
       "</style>\n",
       "<table border=\"1\" class=\"dataframe\">\n",
       "  <thead>\n",
       "    <tr style=\"text-align: right;\">\n",
       "      <th></th>\n",
       "      <th>JobIDRaw</th>\n",
       "      <th>User</th>\n",
       "      <th>Submit</th>\n",
       "      <th>RunCalc</th>\n",
       "      <th>secs_RunCalc</th>\n",
       "    </tr>\n",
       "  </thead>\n",
       "  <tbody>\n",
       "    <tr>\n",
       "      <th>4</th>\n",
       "      <td>15811617</td>\n",
       "      <td>uscms010</td>\n",
       "      <td>2017-07-01T05:00:00</td>\n",
       "      <td>00:00:10</td>\n",
       "      <td>10</td>\n",
       "    </tr>\n",
       "    <tr>\n",
       "      <th>5</th>\n",
       "      <td>15811618</td>\n",
       "      <td>autocms</td>\n",
       "      <td>2017-07-01T05:00:01</td>\n",
       "      <td>00:03:18</td>\n",
       "      <td>198</td>\n",
       "    </tr>\n",
       "    <tr>\n",
       "      <th>6</th>\n",
       "      <td>15811619</td>\n",
       "      <td>tuos</td>\n",
       "      <td>2017-07-01T05:00:02</td>\n",
       "      <td>00:02:03</td>\n",
       "      <td>123</td>\n",
       "    </tr>\n",
       "    <tr>\n",
       "      <th>7</th>\n",
       "      <td>15811621</td>\n",
       "      <td>uscms010</td>\n",
       "      <td>2017-07-01T05:00:22</td>\n",
       "      <td>00:00:10</td>\n",
       "      <td>10</td>\n",
       "    </tr>\n",
       "    <tr>\n",
       "      <th>8</th>\n",
       "      <td>15811624</td>\n",
       "      <td>autocms</td>\n",
       "      <td>2017-07-01T05:01:01</td>\n",
       "      <td>00:04:47</td>\n",
       "      <td>287</td>\n",
       "    </tr>\n",
       "  </tbody>\n",
       "</table>\n",
       "</div>"
      ],
      "text/plain": [
       "   JobIDRaw      User               Submit  RunCalc  secs_RunCalc\n",
       "4  15811617  uscms010  2017-07-01T05:00:00 00:00:10            10\n",
       "5  15811618   autocms  2017-07-01T05:00:01 00:03:18           198\n",
       "6  15811619      tuos  2017-07-01T05:00:02 00:02:03           123\n",
       "7  15811621  uscms010  2017-07-01T05:00:22 00:00:10            10\n",
       "8  15811624   autocms  2017-07-01T05:01:01 00:04:47           287"
      ]
     },
     "execution_count": 45,
     "metadata": {},
     "output_type": "execute_result"
    }
   ],
   "source": [
    "prob_jobs2=prob_jobs[['JobIDRaw', 'User', 'Submit','RunCalc', 'secs_RunCalc']]\n",
    "prob_jobs2.head()"
   ]
  },
  {
   "cell_type": "code",
   "execution_count": 46,
   "metadata": {},
   "outputs": [],
   "source": [
    "prob_users=prob_jobs2.User.value_counts()"
   ]
  },
  {
   "cell_type": "markdown",
   "metadata": {},
   "source": [
    "### Now we will find users with more than 500 jobs"
   ]
  },
  {
   "cell_type": "code",
   "execution_count": 47,
   "metadata": {},
   "outputs": [],
   "source": [
    "pu1=prob_users>500"
   ]
  },
  {
   "cell_type": "markdown",
   "metadata": {},
   "source": [
    "### Convert the series to a dictionary where each user is associated with a boolean."
   ]
  },
  {
   "cell_type": "code",
   "execution_count": 48,
   "metadata": {},
   "outputs": [],
   "source": [
    "pu2=pu1.to_dict()"
   ]
  },
  {
   "cell_type": "code",
   "execution_count": 49,
   "metadata": {},
   "outputs": [],
   "source": [
    "badusers=[k for k,v in pu2.items() if v == True]"
   ]
  },
  {
   "cell_type": "markdown",
   "metadata": {},
   "source": [
    "### Compared new list to exisiting dataframe and selected appropiate users that have more than 500 jobs under 5 min."
   ]
  },
  {
   "cell_type": "code",
   "execution_count": 50,
   "metadata": {},
   "outputs": [],
   "source": [
    "prob_user_jobs=prob_jobs2.loc[prob_jobs2.User.isin(badusers)]"
   ]
  },
  {
   "cell_type": "code",
   "execution_count": 51,
   "metadata": {},
   "outputs": [
    {
     "name": "stderr",
     "output_type": "stream",
     "text": [
      "/Users/gcdunn/anaconda3/lib/python3.6/site-packages/pandas/core/indexing.py:543: SettingWithCopyWarning: \n",
      "A value is trying to be set on a copy of a slice from a DataFrame.\n",
      "Try using .loc[row_indexer,col_indexer] = value instead\n",
      "\n",
      "See the caveats in the documentation: http://pandas.pydata.org/pandas-docs/stable/indexing.html#indexing-view-versus-copy\n",
      "  self.obj[item] = s\n"
     ]
    }
   ],
   "source": [
    "prob_user_jobs.loc[:,'Submit'] = pd.to_datetime(prob_user_jobs.Submit)"
   ]
  },
  {
   "cell_type": "code",
   "execution_count": 52,
   "metadata": {},
   "outputs": [],
   "source": [
    "pu3=prob_user_jobs.sort_values(['Submit'])"
   ]
  },
  {
   "cell_type": "markdown",
   "metadata": {},
   "source": [
    "### Create syntax to order/group jobs by users and the jobs they produced every 4 hours"
   ]
  },
  {
   "cell_type": "code",
   "execution_count": 53,
   "metadata": {},
   "outputs": [],
   "source": [
    "rollingjobs=pu3.groupby('User').rolling('14400s', on='Submit').JobIDRaw.count()"
   ]
  },
  {
   "cell_type": "markdown",
   "metadata": {},
   "source": [
    "### JobIDRaw now represents the number of jobs submitted within 4 hour period and counts jobs by user within 4 hours"
   ]
  },
  {
   "cell_type": "code",
   "execution_count": 54,
   "metadata": {},
   "outputs": [
    {
     "data": {
      "text/html": [
       "<div>\n",
       "<style scoped>\n",
       "    .dataframe tbody tr th:only-of-type {\n",
       "        vertical-align: middle;\n",
       "    }\n",
       "\n",
       "    .dataframe tbody tr th {\n",
       "        vertical-align: top;\n",
       "    }\n",
       "\n",
       "    .dataframe thead th {\n",
       "        text-align: right;\n",
       "    }\n",
       "</style>\n",
       "<table border=\"1\" class=\"dataframe\">\n",
       "  <thead>\n",
       "    <tr style=\"text-align: right;\">\n",
       "      <th></th>\n",
       "      <th>User</th>\n",
       "      <th>Submit</th>\n",
       "      <th>JobIDRaw</th>\n",
       "    </tr>\n",
       "  </thead>\n",
       "  <tbody>\n",
       "    <tr>\n",
       "      <th>0</th>\n",
       "      <td>abraha1</td>\n",
       "      <td>2017-10-07 19:12:39</td>\n",
       "      <td>1.0</td>\n",
       "    </tr>\n",
       "    <tr>\n",
       "      <th>1</th>\n",
       "      <td>abraha1</td>\n",
       "      <td>2017-10-07 19:21:18</td>\n",
       "      <td>2.0</td>\n",
       "    </tr>\n",
       "    <tr>\n",
       "      <th>2</th>\n",
       "      <td>abraha1</td>\n",
       "      <td>2017-10-07 19:29:20</td>\n",
       "      <td>3.0</td>\n",
       "    </tr>\n",
       "    <tr>\n",
       "      <th>3</th>\n",
       "      <td>abraha1</td>\n",
       "      <td>2017-10-07 19:32:12</td>\n",
       "      <td>4.0</td>\n",
       "    </tr>\n",
       "    <tr>\n",
       "      <th>4</th>\n",
       "      <td>abraha1</td>\n",
       "      <td>2017-10-07 21:28:42</td>\n",
       "      <td>5.0</td>\n",
       "    </tr>\n",
       "  </tbody>\n",
       "</table>\n",
       "</div>"
      ],
      "text/plain": [
       "      User              Submit  JobIDRaw\n",
       "0  abraha1 2017-10-07 19:12:39       1.0\n",
       "1  abraha1 2017-10-07 19:21:18       2.0\n",
       "2  abraha1 2017-10-07 19:29:20       3.0\n",
       "3  abraha1 2017-10-07 19:32:12       4.0\n",
       "4  abraha1 2017-10-07 21:28:42       5.0"
      ]
     },
     "execution_count": 54,
     "metadata": {},
     "output_type": "execute_result"
    }
   ],
   "source": [
    "rolling_df=pd.DataFrame(rollingjobs).reset_index()\n",
    "rolling_df.head()"
   ]
  },
  {
   "cell_type": "markdown",
   "metadata": {},
   "source": [
    "### Evaluate max count per user.  JobIDRaw column now represents the max count for jobs that occur within a 4 hour period and the users that ran them."
   ]
  },
  {
   "cell_type": "code",
   "execution_count": 55,
   "metadata": {},
   "outputs": [
    {
     "data": {
      "text/html": [
       "<div>\n",
       "<style scoped>\n",
       "    .dataframe tbody tr th:only-of-type {\n",
       "        vertical-align: middle;\n",
       "    }\n",
       "\n",
       "    .dataframe tbody tr th {\n",
       "        vertical-align: top;\n",
       "    }\n",
       "\n",
       "    .dataframe thead th {\n",
       "        text-align: right;\n",
       "    }\n",
       "</style>\n",
       "<table border=\"1\" class=\"dataframe\">\n",
       "  <thead>\n",
       "    <tr style=\"text-align: right;\">\n",
       "      <th></th>\n",
       "      <th>User</th>\n",
       "      <th>Submit</th>\n",
       "      <th>JobIDRaw</th>\n",
       "    </tr>\n",
       "  </thead>\n",
       "  <tbody>\n",
       "    <tr>\n",
       "      <th>0</th>\n",
       "      <td>abraha1</td>\n",
       "      <td>2018-06-28 20:17:04</td>\n",
       "      <td>6234.0</td>\n",
       "    </tr>\n",
       "    <tr>\n",
       "      <th>1</th>\n",
       "      <td>autocms</td>\n",
       "      <td>2018-06-30 23:55:01</td>\n",
       "      <td>299.0</td>\n",
       "    </tr>\n",
       "    <tr>\n",
       "      <th>2</th>\n",
       "      <td>badamifs</td>\n",
       "      <td>2017-08-14 13:50:52</td>\n",
       "      <td>1576.0</td>\n",
       "    </tr>\n",
       "    <tr>\n",
       "      <th>3</th>\n",
       "      <td>baoj</td>\n",
       "      <td>2018-01-18 01:05:07</td>\n",
       "      <td>127.0</td>\n",
       "    </tr>\n",
       "    <tr>\n",
       "      <th>4</th>\n",
       "      <td>boydb1</td>\n",
       "      <td>2018-06-30 10:46:17</td>\n",
       "      <td>97.0</td>\n",
       "    </tr>\n",
       "  </tbody>\n",
       "</table>\n",
       "</div>"
      ],
      "text/plain": [
       "       User              Submit  JobIDRaw\n",
       "0   abraha1 2018-06-28 20:17:04    6234.0\n",
       "1   autocms 2018-06-30 23:55:01     299.0\n",
       "2  badamifs 2017-08-14 13:50:52    1576.0\n",
       "3      baoj 2018-01-18 01:05:07     127.0\n",
       "4    boydb1 2018-06-30 10:46:17      97.0"
      ]
     },
     "execution_count": 55,
     "metadata": {},
     "output_type": "execute_result"
    }
   ],
   "source": [
    "rolling_df_max=rolling_df.groupby('User').max().reset_index()\n",
    "rolling_df_max.head()"
   ]
  },
  {
   "cell_type": "code",
   "execution_count": 56,
   "metadata": {},
   "outputs": [
    {
     "data": {
      "text/html": [
       "<div>\n",
       "<style scoped>\n",
       "    .dataframe tbody tr th:only-of-type {\n",
       "        vertical-align: middle;\n",
       "    }\n",
       "\n",
       "    .dataframe tbody tr th {\n",
       "        vertical-align: top;\n",
       "    }\n",
       "\n",
       "    .dataframe thead th {\n",
       "        text-align: right;\n",
       "    }\n",
       "</style>\n",
       "<table border=\"1\" class=\"dataframe\">\n",
       "  <thead>\n",
       "    <tr style=\"text-align: right;\">\n",
       "      <th></th>\n",
       "      <th>User</th>\n",
       "      <th>Submit</th>\n",
       "      <th>JobIDRaw</th>\n",
       "    </tr>\n",
       "  </thead>\n",
       "  <tbody>\n",
       "    <tr>\n",
       "      <th>0</th>\n",
       "      <td>abraha1</td>\n",
       "      <td>2018-06-28 20:17:04</td>\n",
       "      <td>6234.0</td>\n",
       "    </tr>\n",
       "    <tr>\n",
       "      <th>2</th>\n",
       "      <td>badamifs</td>\n",
       "      <td>2017-08-14 13:50:52</td>\n",
       "      <td>1576.0</td>\n",
       "    </tr>\n",
       "    <tr>\n",
       "      <th>5</th>\n",
       "      <td>brancha1</td>\n",
       "      <td>2018-01-12 02:20:35</td>\n",
       "      <td>1192.0</td>\n",
       "    </tr>\n",
       "    <tr>\n",
       "      <th>7</th>\n",
       "      <td>brockc</td>\n",
       "      <td>2018-03-01 00:29:05</td>\n",
       "      <td>8206.0</td>\n",
       "    </tr>\n",
       "    <tr>\n",
       "      <th>8</th>\n",
       "      <td>brownbp1</td>\n",
       "      <td>2018-06-26 20:23:07</td>\n",
       "      <td>6833.0</td>\n",
       "    </tr>\n",
       "    <tr>\n",
       "      <th>9</th>\n",
       "      <td>cakira</td>\n",
       "      <td>2018-06-25 20:16:52</td>\n",
       "      <td>6388.0</td>\n",
       "    </tr>\n",
       "    <tr>\n",
       "      <th>15</th>\n",
       "      <td>chenr6</td>\n",
       "      <td>2018-06-27 22:00:48</td>\n",
       "      <td>1932.0</td>\n",
       "    </tr>\n",
       "    <tr>\n",
       "      <th>16</th>\n",
       "      <td>chipmajj</td>\n",
       "      <td>2018-05-07 15:15:23</td>\n",
       "      <td>10596.0</td>\n",
       "    </tr>\n",
       "    <tr>\n",
       "      <th>17</th>\n",
       "      <td>cmsglidein</td>\n",
       "      <td>2018-05-23 08:01:27</td>\n",
       "      <td>1390.0</td>\n",
       "    </tr>\n",
       "    <tr>\n",
       "      <th>18</th>\n",
       "      <td>dagostle</td>\n",
       "      <td>2017-11-15 17:41:01</td>\n",
       "      <td>1130.0</td>\n",
       "    </tr>\n",
       "    <tr>\n",
       "      <th>20</th>\n",
       "      <td>deik</td>\n",
       "      <td>2018-06-18 20:41:11</td>\n",
       "      <td>6600.0</td>\n",
       "    </tr>\n",
       "    <tr>\n",
       "      <th>21</th>\n",
       "      <td>delaladp</td>\n",
       "      <td>2018-06-22 17:29:48</td>\n",
       "      <td>1151.0</td>\n",
       "    </tr>\n",
       "    <tr>\n",
       "      <th>22</th>\n",
       "      <td>dennisj</td>\n",
       "      <td>2018-05-07 20:20:30</td>\n",
       "      <td>753.0</td>\n",
       "    </tr>\n",
       "    <tr>\n",
       "      <th>23</th>\n",
       "      <td>elyz</td>\n",
       "      <td>2018-06-27 00:08:20</td>\n",
       "      <td>3000.0</td>\n",
       "    </tr>\n",
       "    <tr>\n",
       "      <th>24</th>\n",
       "      <td>fabelab</td>\n",
       "      <td>2018-05-10 06:18:33</td>\n",
       "      <td>1696.0</td>\n",
       "    </tr>\n",
       "    <tr>\n",
       "      <th>25</th>\n",
       "      <td>fletchs2</td>\n",
       "      <td>2017-08-13 07:04:43</td>\n",
       "      <td>750.0</td>\n",
       "    </tr>\n",
       "    <tr>\n",
       "      <th>26</th>\n",
       "      <td>frenchwr</td>\n",
       "      <td>2018-06-26 19:55:24</td>\n",
       "      <td>1730.0</td>\n",
       "    </tr>\n",
       "    <tr>\n",
       "      <th>29</th>\n",
       "      <td>hej4</td>\n",
       "      <td>2018-06-25 17:09:02</td>\n",
       "      <td>904.0</td>\n",
       "    </tr>\n",
       "    <tr>\n",
       "      <th>31</th>\n",
       "      <td>hodgese</td>\n",
       "      <td>2018-06-20 19:18:55</td>\n",
       "      <td>1265.0</td>\n",
       "    </tr>\n",
       "    <tr>\n",
       "      <th>32</th>\n",
       "      <td>jacklisr</td>\n",
       "      <td>2017-10-03 12:59:52</td>\n",
       "      <td>2393.0</td>\n",
       "    </tr>\n",
       "    <tr>\n",
       "      <th>33</th>\n",
       "      <td>janjamrk</td>\n",
       "      <td>2018-06-30 23:54:18</td>\n",
       "      <td>40821.0</td>\n",
       "    </tr>\n",
       "    <tr>\n",
       "      <th>35</th>\n",
       "      <td>jiany17</td>\n",
       "      <td>2018-06-20 17:08:56</td>\n",
       "      <td>15815.0</td>\n",
       "    </tr>\n",
       "    <tr>\n",
       "      <th>36</th>\n",
       "      <td>joshin</td>\n",
       "      <td>2018-06-13 20:28:59</td>\n",
       "      <td>1091.0</td>\n",
       "    </tr>\n",
       "    <tr>\n",
       "      <th>38</th>\n",
       "      <td>khancm</td>\n",
       "      <td>2017-12-31 05:38:48</td>\n",
       "      <td>2996.0</td>\n",
       "    </tr>\n",
       "    <tr>\n",
       "      <th>39</th>\n",
       "      <td>kochenma</td>\n",
       "      <td>2018-06-24 21:26:14</td>\n",
       "      <td>1459.0</td>\n",
       "    </tr>\n",
       "    <tr>\n",
       "      <th>40</th>\n",
       "      <td>kuenzeg</td>\n",
       "      <td>2018-06-28 01:22:24</td>\n",
       "      <td>585.0</td>\n",
       "    </tr>\n",
       "    <tr>\n",
       "      <th>41</th>\n",
       "      <td>labellal</td>\n",
       "      <td>2018-06-29 14:21:06</td>\n",
       "      <td>644.0</td>\n",
       "    </tr>\n",
       "    <tr>\n",
       "      <th>42</th>\n",
       "      <td>lib13</td>\n",
       "      <td>2018-04-25 15:48:18</td>\n",
       "      <td>1097.0</td>\n",
       "    </tr>\n",
       "    <tr>\n",
       "      <th>43</th>\n",
       "      <td>lindal</td>\n",
       "      <td>2018-05-18 17:59:11</td>\n",
       "      <td>749.0</td>\n",
       "    </tr>\n",
       "    <tr>\n",
       "      <th>44</th>\n",
       "      <td>luchieac</td>\n",
       "      <td>2018-06-28 05:56:27</td>\n",
       "      <td>770.0</td>\n",
       "    </tr>\n",
       "    <tr>\n",
       "      <th>...</th>\n",
       "      <td>...</td>\n",
       "      <td>...</td>\n",
       "      <td>...</td>\n",
       "    </tr>\n",
       "    <tr>\n",
       "      <th>46</th>\n",
       "      <td>mangrd1</td>\n",
       "      <td>2018-06-28 03:24:41</td>\n",
       "      <td>961.0</td>\n",
       "    </tr>\n",
       "    <tr>\n",
       "      <th>47</th>\n",
       "      <td>marlowb</td>\n",
       "      <td>2017-07-28 23:50:21</td>\n",
       "      <td>2756.0</td>\n",
       "    </tr>\n",
       "    <tr>\n",
       "      <th>49</th>\n",
       "      <td>meloam</td>\n",
       "      <td>2017-10-12 16:27:59</td>\n",
       "      <td>10549.0</td>\n",
       "    </tr>\n",
       "    <tr>\n",
       "      <th>50</th>\n",
       "      <td>mercalnd</td>\n",
       "      <td>2017-11-29 14:30:14</td>\n",
       "      <td>3589.0</td>\n",
       "    </tr>\n",
       "    <tr>\n",
       "      <th>51</th>\n",
       "      <td>meyerct1</td>\n",
       "      <td>2018-06-25 17:33:27</td>\n",
       "      <td>9710.0</td>\n",
       "    </tr>\n",
       "    <tr>\n",
       "      <th>53</th>\n",
       "      <td>moonj</td>\n",
       "      <td>2018-04-28 05:06:45</td>\n",
       "      <td>7499.0</td>\n",
       "    </tr>\n",
       "    <tr>\n",
       "      <th>54</th>\n",
       "      <td>mothcw</td>\n",
       "      <td>2018-06-28 09:45:12</td>\n",
       "      <td>781.0</td>\n",
       "    </tr>\n",
       "    <tr>\n",
       "      <th>55</th>\n",
       "      <td>msrc</td>\n",
       "      <td>2018-06-29 15:31:07</td>\n",
       "      <td>955.0</td>\n",
       "    </tr>\n",
       "    <tr>\n",
       "      <th>56</th>\n",
       "      <td>nagarr1</td>\n",
       "      <td>2017-11-27 16:40:01</td>\n",
       "      <td>1884.0</td>\n",
       "    </tr>\n",
       "    <tr>\n",
       "      <th>57</th>\n",
       "      <td>ozgunka</td>\n",
       "      <td>2018-06-29 04:34:18</td>\n",
       "      <td>6641.0</td>\n",
       "    </tr>\n",
       "    <tr>\n",
       "      <th>59</th>\n",
       "      <td>ruderfd</td>\n",
       "      <td>2018-05-26 04:35:45</td>\n",
       "      <td>2867.0</td>\n",
       "    </tr>\n",
       "    <tr>\n",
       "      <th>61</th>\n",
       "      <td>schildjs</td>\n",
       "      <td>2018-06-06 13:28:24</td>\n",
       "      <td>1250.0</td>\n",
       "    </tr>\n",
       "    <tr>\n",
       "      <th>62</th>\n",
       "      <td>schluedj</td>\n",
       "      <td>2018-06-07 21:29:54</td>\n",
       "      <td>3454.0</td>\n",
       "    </tr>\n",
       "    <tr>\n",
       "      <th>63</th>\n",
       "      <td>schlunsg</td>\n",
       "      <td>2018-06-21 21:25:00</td>\n",
       "      <td>27556.0</td>\n",
       "    </tr>\n",
       "    <tr>\n",
       "      <th>64</th>\n",
       "      <td>scholzmb</td>\n",
       "      <td>2018-06-29 18:20:58</td>\n",
       "      <td>1147.0</td>\n",
       "    </tr>\n",
       "    <tr>\n",
       "      <th>66</th>\n",
       "      <td>sheehajh</td>\n",
       "      <td>2018-06-25 21:18:56</td>\n",
       "      <td>3176.0</td>\n",
       "    </tr>\n",
       "    <tr>\n",
       "      <th>67</th>\n",
       "      <td>shengq2</td>\n",
       "      <td>2018-06-21 20:53:30</td>\n",
       "      <td>1998.0</td>\n",
       "    </tr>\n",
       "    <tr>\n",
       "      <th>68</th>\n",
       "      <td>shockle</td>\n",
       "      <td>2017-11-01 16:38:01</td>\n",
       "      <td>5000.0</td>\n",
       "    </tr>\n",
       "    <tr>\n",
       "      <th>69</th>\n",
       "      <td>sivleyrm</td>\n",
       "      <td>2017-12-29 17:29:45</td>\n",
       "      <td>4440.0</td>\n",
       "    </tr>\n",
       "    <tr>\n",
       "      <th>70</th>\n",
       "      <td>smithst</td>\n",
       "      <td>2018-06-19 19:43:46</td>\n",
       "      <td>1763.0</td>\n",
       "    </tr>\n",
       "    <tr>\n",
       "      <th>71</th>\n",
       "      <td>sotocs</td>\n",
       "      <td>2018-04-07 00:59:45</td>\n",
       "      <td>260925.0</td>\n",
       "    </tr>\n",
       "    <tr>\n",
       "      <th>74</th>\n",
       "      <td>straubp</td>\n",
       "      <td>2018-06-29 16:27:06</td>\n",
       "      <td>1429.0</td>\n",
       "    </tr>\n",
       "    <tr>\n",
       "      <th>76</th>\n",
       "      <td>teaguedo</td>\n",
       "      <td>2017-07-21 11:01:30</td>\n",
       "      <td>973.0</td>\n",
       "    </tr>\n",
       "    <tr>\n",
       "      <th>77</th>\n",
       "      <td>tierneje</td>\n",
       "      <td>2018-06-29 16:08:51</td>\n",
       "      <td>1989.0</td>\n",
       "    </tr>\n",
       "    <tr>\n",
       "      <th>78</th>\n",
       "      <td>trippej1</td>\n",
       "      <td>2018-02-09 20:44:05</td>\n",
       "      <td>500.0</td>\n",
       "    </tr>\n",
       "    <tr>\n",
       "      <th>81</th>\n",
       "      <td>vuiiscci</td>\n",
       "      <td>2018-06-30 19:13:07</td>\n",
       "      <td>963.0</td>\n",
       "    </tr>\n",
       "    <tr>\n",
       "      <th>83</th>\n",
       "      <td>wangj36</td>\n",
       "      <td>2018-06-23 23:21:05</td>\n",
       "      <td>72063.0</td>\n",
       "    </tr>\n",
       "    <tr>\n",
       "      <th>84</th>\n",
       "      <td>wangy67</td>\n",
       "      <td>2018-06-22 03:08:55</td>\n",
       "      <td>1429.0</td>\n",
       "    </tr>\n",
       "    <tr>\n",
       "      <th>87</th>\n",
       "      <td>zhangdk</td>\n",
       "      <td>2018-04-04 17:42:50</td>\n",
       "      <td>75612.0</td>\n",
       "    </tr>\n",
       "    <tr>\n",
       "      <th>88</th>\n",
       "      <td>zhoud2</td>\n",
       "      <td>2018-06-29 22:40:46</td>\n",
       "      <td>1443.0</td>\n",
       "    </tr>\n",
       "  </tbody>\n",
       "</table>\n",
       "<p>61 rows × 3 columns</p>\n",
       "</div>"
      ],
      "text/plain": [
       "          User              Submit  JobIDRaw\n",
       "0      abraha1 2018-06-28 20:17:04    6234.0\n",
       "2     badamifs 2017-08-14 13:50:52    1576.0\n",
       "5     brancha1 2018-01-12 02:20:35    1192.0\n",
       "7       brockc 2018-03-01 00:29:05    8206.0\n",
       "8     brownbp1 2018-06-26 20:23:07    6833.0\n",
       "9       cakira 2018-06-25 20:16:52    6388.0\n",
       "15      chenr6 2018-06-27 22:00:48    1932.0\n",
       "16    chipmajj 2018-05-07 15:15:23   10596.0\n",
       "17  cmsglidein 2018-05-23 08:01:27    1390.0\n",
       "18    dagostle 2017-11-15 17:41:01    1130.0\n",
       "20        deik 2018-06-18 20:41:11    6600.0\n",
       "21    delaladp 2018-06-22 17:29:48    1151.0\n",
       "22     dennisj 2018-05-07 20:20:30     753.0\n",
       "23        elyz 2018-06-27 00:08:20    3000.0\n",
       "24     fabelab 2018-05-10 06:18:33    1696.0\n",
       "25    fletchs2 2017-08-13 07:04:43     750.0\n",
       "26    frenchwr 2018-06-26 19:55:24    1730.0\n",
       "29        hej4 2018-06-25 17:09:02     904.0\n",
       "31     hodgese 2018-06-20 19:18:55    1265.0\n",
       "32    jacklisr 2017-10-03 12:59:52    2393.0\n",
       "33    janjamrk 2018-06-30 23:54:18   40821.0\n",
       "35     jiany17 2018-06-20 17:08:56   15815.0\n",
       "36      joshin 2018-06-13 20:28:59    1091.0\n",
       "38      khancm 2017-12-31 05:38:48    2996.0\n",
       "39    kochenma 2018-06-24 21:26:14    1459.0\n",
       "40     kuenzeg 2018-06-28 01:22:24     585.0\n",
       "41    labellal 2018-06-29 14:21:06     644.0\n",
       "42       lib13 2018-04-25 15:48:18    1097.0\n",
       "43      lindal 2018-05-18 17:59:11     749.0\n",
       "44    luchieac 2018-06-28 05:56:27     770.0\n",
       "..         ...                 ...       ...\n",
       "46     mangrd1 2018-06-28 03:24:41     961.0\n",
       "47     marlowb 2017-07-28 23:50:21    2756.0\n",
       "49      meloam 2017-10-12 16:27:59   10549.0\n",
       "50    mercalnd 2017-11-29 14:30:14    3589.0\n",
       "51    meyerct1 2018-06-25 17:33:27    9710.0\n",
       "53       moonj 2018-04-28 05:06:45    7499.0\n",
       "54      mothcw 2018-06-28 09:45:12     781.0\n",
       "55        msrc 2018-06-29 15:31:07     955.0\n",
       "56     nagarr1 2017-11-27 16:40:01    1884.0\n",
       "57     ozgunka 2018-06-29 04:34:18    6641.0\n",
       "59     ruderfd 2018-05-26 04:35:45    2867.0\n",
       "61    schildjs 2018-06-06 13:28:24    1250.0\n",
       "62    schluedj 2018-06-07 21:29:54    3454.0\n",
       "63    schlunsg 2018-06-21 21:25:00   27556.0\n",
       "64    scholzmb 2018-06-29 18:20:58    1147.0\n",
       "66    sheehajh 2018-06-25 21:18:56    3176.0\n",
       "67     shengq2 2018-06-21 20:53:30    1998.0\n",
       "68     shockle 2017-11-01 16:38:01    5000.0\n",
       "69    sivleyrm 2017-12-29 17:29:45    4440.0\n",
       "70     smithst 2018-06-19 19:43:46    1763.0\n",
       "71      sotocs 2018-04-07 00:59:45  260925.0\n",
       "74     straubp 2018-06-29 16:27:06    1429.0\n",
       "76    teaguedo 2017-07-21 11:01:30     973.0\n",
       "77    tierneje 2018-06-29 16:08:51    1989.0\n",
       "78    trippej1 2018-02-09 20:44:05     500.0\n",
       "81    vuiiscci 2018-06-30 19:13:07     963.0\n",
       "83     wangj36 2018-06-23 23:21:05   72063.0\n",
       "84     wangy67 2018-06-22 03:08:55    1429.0\n",
       "87     zhangdk 2018-04-04 17:42:50   75612.0\n",
       "88      zhoud2 2018-06-29 22:40:46    1443.0\n",
       "\n",
       "[61 rows x 3 columns]"
      ]
     },
     "execution_count": 56,
     "metadata": {},
     "output_type": "execute_result"
    }
   ],
   "source": [
    "# Find the users who ran more than 500 jobs within a 4 hour window\n",
    "rolling_user_max=rolling_df_max.loc[rolling_df_max['JobIDRaw']>=500]\n",
    "rolling_user_max"
   ]
  },
  {
   "cell_type": "code",
   "execution_count": 57,
   "metadata": {},
   "outputs": [
    {
     "data": {
      "text/plain": [
       "(89, 3)"
      ]
     },
     "execution_count": 57,
     "metadata": {},
     "output_type": "execute_result"
    }
   ],
   "source": [
    "rolling_df_max.shape"
   ]
  },
  {
   "cell_type": "markdown",
   "metadata": {},
   "source": [
    "### Out of the 89 users who fit previous conditions (i.e. users with more than 500 jobs in total data set that were less than 5 min), 61 users have submitted more than 500 jobs within 4 hours"
   ]
  },
  {
   "cell_type": "code",
   "execution_count": 58,
   "metadata": {},
   "outputs": [
    {
     "data": {
      "text/plain": [
       "(61, 3)"
      ]
     },
     "execution_count": 58,
     "metadata": {},
     "output_type": "execute_result"
    }
   ],
   "source": [
    "rolling_user_max.shape"
   ]
  },
  {
   "cell_type": "markdown",
   "metadata": {},
   "source": [
    "### Now we will count the users that reach 500 during a 4 hour time frame.  Note repeat offenders and index value to observe different job"
   ]
  },
  {
   "cell_type": "code",
   "execution_count": 59,
   "metadata": {},
   "outputs": [
    {
     "data": {
      "text/html": [
       "<div>\n",
       "<style scoped>\n",
       "    .dataframe tbody tr th:only-of-type {\n",
       "        vertical-align: middle;\n",
       "    }\n",
       "\n",
       "    .dataframe tbody tr th {\n",
       "        vertical-align: top;\n",
       "    }\n",
       "\n",
       "    .dataframe thead th {\n",
       "        text-align: right;\n",
       "    }\n",
       "</style>\n",
       "<table border=\"1\" class=\"dataframe\">\n",
       "  <thead>\n",
       "    <tr style=\"text-align: right;\">\n",
       "      <th></th>\n",
       "      <th>User</th>\n",
       "      <th>Submit</th>\n",
       "      <th>JobIDRaw</th>\n",
       "    </tr>\n",
       "  </thead>\n",
       "  <tbody>\n",
       "    <tr>\n",
       "      <th>969</th>\n",
       "      <td>abraha1</td>\n",
       "      <td>2018-01-27 23:34:02</td>\n",
       "      <td>500.0</td>\n",
       "    </tr>\n",
       "    <tr>\n",
       "      <th>3122</th>\n",
       "      <td>abraha1</td>\n",
       "      <td>2018-03-25 15:15:21</td>\n",
       "      <td>500.0</td>\n",
       "    </tr>\n",
       "    <tr>\n",
       "      <th>4573</th>\n",
       "      <td>abraha1</td>\n",
       "      <td>2018-06-22 06:05:40</td>\n",
       "      <td>500.0</td>\n",
       "    </tr>\n",
       "    <tr>\n",
       "      <th>5649</th>\n",
       "      <td>abraha1</td>\n",
       "      <td>2018-06-22 20:20:02</td>\n",
       "      <td>500.0</td>\n",
       "    </tr>\n",
       "    <tr>\n",
       "      <th>6458</th>\n",
       "      <td>abraha1</td>\n",
       "      <td>2018-06-24 00:07:11</td>\n",
       "      <td>500.0</td>\n",
       "    </tr>\n",
       "    <tr>\n",
       "      <th>9158</th>\n",
       "      <td>abraha1</td>\n",
       "      <td>2018-06-27 17:51:37</td>\n",
       "      <td>500.0</td>\n",
       "    </tr>\n",
       "    <tr>\n",
       "      <th>432305</th>\n",
       "      <td>badamifs</td>\n",
       "      <td>2017-08-09 22:40:21</td>\n",
       "      <td>500.0</td>\n",
       "    </tr>\n",
       "    <tr>\n",
       "      <th>432894</th>\n",
       "      <td>badamifs</td>\n",
       "      <td>2017-08-11 15:07:06</td>\n",
       "      <td>500.0</td>\n",
       "    </tr>\n",
       "    <tr>\n",
       "      <th>434577</th>\n",
       "      <td>badamifs</td>\n",
       "      <td>2017-08-14 13:45:07</td>\n",
       "      <td>500.0</td>\n",
       "    </tr>\n",
       "    <tr>\n",
       "      <th>439283</th>\n",
       "      <td>brancha1</td>\n",
       "      <td>2017-10-18 03:23:27</td>\n",
       "      <td>500.0</td>\n",
       "    </tr>\n",
       "    <tr>\n",
       "      <th>441302</th>\n",
       "      <td>brancha1</td>\n",
       "      <td>2017-12-19 20:13:55</td>\n",
       "      <td>500.0</td>\n",
       "    </tr>\n",
       "    <tr>\n",
       "      <th>442489</th>\n",
       "      <td>brancha1</td>\n",
       "      <td>2017-12-20 18:40:48</td>\n",
       "      <td>500.0</td>\n",
       "    </tr>\n",
       "    <tr>\n",
       "      <th>443126</th>\n",
       "      <td>brancha1</td>\n",
       "      <td>2017-12-24 11:20:21</td>\n",
       "      <td>500.0</td>\n",
       "    </tr>\n",
       "    <tr>\n",
       "      <th>443922</th>\n",
       "      <td>brancha1</td>\n",
       "      <td>2017-12-27 23:05:00</td>\n",
       "      <td>500.0</td>\n",
       "    </tr>\n",
       "    <tr>\n",
       "      <th>445114</th>\n",
       "      <td>brancha1</td>\n",
       "      <td>2017-12-28 16:47:53</td>\n",
       "      <td>500.0</td>\n",
       "    </tr>\n",
       "    <tr>\n",
       "      <th>446898</th>\n",
       "      <td>brancha1</td>\n",
       "      <td>2018-01-11 22:11:10</td>\n",
       "      <td>500.0</td>\n",
       "    </tr>\n",
       "    <tr>\n",
       "      <th>448391</th>\n",
       "      <td>brockc</td>\n",
       "      <td>2017-07-20 01:46:34</td>\n",
       "      <td>500.0</td>\n",
       "    </tr>\n",
       "    <tr>\n",
       "      <th>449132</th>\n",
       "      <td>brockc</td>\n",
       "      <td>2017-07-20 08:10:27</td>\n",
       "      <td>500.0</td>\n",
       "    </tr>\n",
       "    <tr>\n",
       "      <th>449957</th>\n",
       "      <td>brockc</td>\n",
       "      <td>2017-07-20 13:50:34</td>\n",
       "      <td>500.0</td>\n",
       "    </tr>\n",
       "    <tr>\n",
       "      <th>451041</th>\n",
       "      <td>brockc</td>\n",
       "      <td>2017-07-21 04:52:20</td>\n",
       "      <td>500.0</td>\n",
       "    </tr>\n",
       "    <tr>\n",
       "      <th>451380</th>\n",
       "      <td>brockc</td>\n",
       "      <td>2017-07-21 06:47:24</td>\n",
       "      <td>500.0</td>\n",
       "    </tr>\n",
       "    <tr>\n",
       "      <th>465812</th>\n",
       "      <td>brockc</td>\n",
       "      <td>2017-07-31 09:28:40</td>\n",
       "      <td>500.0</td>\n",
       "    </tr>\n",
       "    <tr>\n",
       "      <th>465814</th>\n",
       "      <td>brockc</td>\n",
       "      <td>2017-07-31 09:29:08</td>\n",
       "      <td>500.0</td>\n",
       "    </tr>\n",
       "    <tr>\n",
       "      <th>465961</th>\n",
       "      <td>brockc</td>\n",
       "      <td>2017-07-31 10:46:48</td>\n",
       "      <td>500.0</td>\n",
       "    </tr>\n",
       "    <tr>\n",
       "      <th>466003</th>\n",
       "      <td>brockc</td>\n",
       "      <td>2017-07-31 10:51:41</td>\n",
       "      <td>500.0</td>\n",
       "    </tr>\n",
       "    <tr>\n",
       "      <th>466156</th>\n",
       "      <td>brockc</td>\n",
       "      <td>2017-07-31 12:10:01</td>\n",
       "      <td>500.0</td>\n",
       "    </tr>\n",
       "    <tr>\n",
       "      <th>466191</th>\n",
       "      <td>brockc</td>\n",
       "      <td>2017-07-31 13:13:42</td>\n",
       "      <td>500.0</td>\n",
       "    </tr>\n",
       "    <tr>\n",
       "      <th>466344</th>\n",
       "      <td>brockc</td>\n",
       "      <td>2017-07-31 14:32:38</td>\n",
       "      <td>500.0</td>\n",
       "    </tr>\n",
       "    <tr>\n",
       "      <th>466374</th>\n",
       "      <td>brockc</td>\n",
       "      <td>2017-07-31 14:36:20</td>\n",
       "      <td>500.0</td>\n",
       "    </tr>\n",
       "    <tr>\n",
       "      <th>466377</th>\n",
       "      <td>brockc</td>\n",
       "      <td>2017-07-31 14:36:42</td>\n",
       "      <td>500.0</td>\n",
       "    </tr>\n",
       "    <tr>\n",
       "      <th>...</th>\n",
       "      <td>...</td>\n",
       "      <td>...</td>\n",
       "      <td>...</td>\n",
       "    </tr>\n",
       "    <tr>\n",
       "      <th>2361821</th>\n",
       "      <td>trippej1</td>\n",
       "      <td>2017-10-20 15:25:11</td>\n",
       "      <td>500.0</td>\n",
       "    </tr>\n",
       "    <tr>\n",
       "      <th>2362321</th>\n",
       "      <td>trippej1</td>\n",
       "      <td>2017-11-01 17:02:03</td>\n",
       "      <td>500.0</td>\n",
       "    </tr>\n",
       "    <tr>\n",
       "      <th>2727463</th>\n",
       "      <td>vuiiscci</td>\n",
       "      <td>2017-08-03 08:02:19</td>\n",
       "      <td>500.0</td>\n",
       "    </tr>\n",
       "    <tr>\n",
       "      <th>2730002</th>\n",
       "      <td>vuiiscci</td>\n",
       "      <td>2017-08-03 23:02:10</td>\n",
       "      <td>500.0</td>\n",
       "    </tr>\n",
       "    <tr>\n",
       "      <th>2730010</th>\n",
       "      <td>vuiiscci</td>\n",
       "      <td>2017-08-03 23:02:11</td>\n",
       "      <td>500.0</td>\n",
       "    </tr>\n",
       "    <tr>\n",
       "      <th>2741429</th>\n",
       "      <td>wangj36</td>\n",
       "      <td>2017-07-16 03:57:31</td>\n",
       "      <td>500.0</td>\n",
       "    </tr>\n",
       "    <tr>\n",
       "      <th>2742618</th>\n",
       "      <td>wangj36</td>\n",
       "      <td>2017-07-16 20:49:31</td>\n",
       "      <td>500.0</td>\n",
       "    </tr>\n",
       "    <tr>\n",
       "      <th>2745555</th>\n",
       "      <td>wangj36</td>\n",
       "      <td>2017-08-01 20:13:35</td>\n",
       "      <td>500.0</td>\n",
       "    </tr>\n",
       "    <tr>\n",
       "      <th>2746351</th>\n",
       "      <td>wangj36</td>\n",
       "      <td>2017-08-08 17:24:00</td>\n",
       "      <td>500.0</td>\n",
       "    </tr>\n",
       "    <tr>\n",
       "      <th>2767060</th>\n",
       "      <td>wangj36</td>\n",
       "      <td>2017-08-11 15:30:06</td>\n",
       "      <td>500.0</td>\n",
       "    </tr>\n",
       "    <tr>\n",
       "      <th>2839123</th>\n",
       "      <td>wangj36</td>\n",
       "      <td>2017-08-11 21:51:29</td>\n",
       "      <td>500.0</td>\n",
       "    </tr>\n",
       "    <tr>\n",
       "      <th>2890932</th>\n",
       "      <td>wangy67</td>\n",
       "      <td>2017-11-24 10:55:50</td>\n",
       "      <td>500.0</td>\n",
       "    </tr>\n",
       "    <tr>\n",
       "      <th>2894892</th>\n",
       "      <td>zhangdk</td>\n",
       "      <td>2017-07-10 04:46:28</td>\n",
       "      <td>500.0</td>\n",
       "    </tr>\n",
       "    <tr>\n",
       "      <th>2906288</th>\n",
       "      <td>zhangdk</td>\n",
       "      <td>2017-07-10 22:48:21</td>\n",
       "      <td>500.0</td>\n",
       "    </tr>\n",
       "    <tr>\n",
       "      <th>2910658</th>\n",
       "      <td>zhangdk</td>\n",
       "      <td>2017-07-11 07:06:29</td>\n",
       "      <td>500.0</td>\n",
       "    </tr>\n",
       "    <tr>\n",
       "      <th>2986271</th>\n",
       "      <td>zhangdk</td>\n",
       "      <td>2017-07-13 02:23:30</td>\n",
       "      <td>500.0</td>\n",
       "    </tr>\n",
       "    <tr>\n",
       "      <th>3005647</th>\n",
       "      <td>zhangdk</td>\n",
       "      <td>2017-07-13 18:46:11</td>\n",
       "      <td>500.0</td>\n",
       "    </tr>\n",
       "    <tr>\n",
       "      <th>3025006</th>\n",
       "      <td>zhangdk</td>\n",
       "      <td>2017-07-14 07:57:57</td>\n",
       "      <td>500.0</td>\n",
       "    </tr>\n",
       "    <tr>\n",
       "      <th>3044568</th>\n",
       "      <td>zhangdk</td>\n",
       "      <td>2017-07-14 19:35:54</td>\n",
       "      <td>500.0</td>\n",
       "    </tr>\n",
       "    <tr>\n",
       "      <th>3050829</th>\n",
       "      <td>zhangdk</td>\n",
       "      <td>2017-07-15 00:53:59</td>\n",
       "      <td>500.0</td>\n",
       "    </tr>\n",
       "    <tr>\n",
       "      <th>3055343</th>\n",
       "      <td>zhangdk</td>\n",
       "      <td>2017-07-17 11:43:07</td>\n",
       "      <td>500.0</td>\n",
       "    </tr>\n",
       "    <tr>\n",
       "      <th>3065716</th>\n",
       "      <td>zhangdk</td>\n",
       "      <td>2017-07-17 22:31:10</td>\n",
       "      <td>500.0</td>\n",
       "    </tr>\n",
       "    <tr>\n",
       "      <th>3073336</th>\n",
       "      <td>zhangdk</td>\n",
       "      <td>2017-07-20 05:44:43</td>\n",
       "      <td>500.0</td>\n",
       "    </tr>\n",
       "    <tr>\n",
       "      <th>3082172</th>\n",
       "      <td>zhangdk</td>\n",
       "      <td>2017-07-21 23:43:53</td>\n",
       "      <td>500.0</td>\n",
       "    </tr>\n",
       "    <tr>\n",
       "      <th>3094572</th>\n",
       "      <td>zhangdk</td>\n",
       "      <td>2017-07-25 08:15:13</td>\n",
       "      <td>500.0</td>\n",
       "    </tr>\n",
       "    <tr>\n",
       "      <th>3100695</th>\n",
       "      <td>zhoud2</td>\n",
       "      <td>2018-04-03 18:05:11</td>\n",
       "      <td>500.0</td>\n",
       "    </tr>\n",
       "    <tr>\n",
       "      <th>3100919</th>\n",
       "      <td>zhoud2</td>\n",
       "      <td>2018-04-03 19:51:12</td>\n",
       "      <td>500.0</td>\n",
       "    </tr>\n",
       "    <tr>\n",
       "      <th>3101178</th>\n",
       "      <td>zhoud2</td>\n",
       "      <td>2018-04-03 20:45:54</td>\n",
       "      <td>500.0</td>\n",
       "    </tr>\n",
       "    <tr>\n",
       "      <th>3102600</th>\n",
       "      <td>zhoud2</td>\n",
       "      <td>2018-04-09 04:34:48</td>\n",
       "      <td>500.0</td>\n",
       "    </tr>\n",
       "    <tr>\n",
       "      <th>3105072</th>\n",
       "      <td>zhoud2</td>\n",
       "      <td>2018-04-13 20:45:21</td>\n",
       "      <td>500.0</td>\n",
       "    </tr>\n",
       "  </tbody>\n",
       "</table>\n",
       "<p>609 rows × 3 columns</p>\n",
       "</div>"
      ],
      "text/plain": [
       "             User              Submit  JobIDRaw\n",
       "969       abraha1 2018-01-27 23:34:02     500.0\n",
       "3122      abraha1 2018-03-25 15:15:21     500.0\n",
       "4573      abraha1 2018-06-22 06:05:40     500.0\n",
       "5649      abraha1 2018-06-22 20:20:02     500.0\n",
       "6458      abraha1 2018-06-24 00:07:11     500.0\n",
       "9158      abraha1 2018-06-27 17:51:37     500.0\n",
       "432305   badamifs 2017-08-09 22:40:21     500.0\n",
       "432894   badamifs 2017-08-11 15:07:06     500.0\n",
       "434577   badamifs 2017-08-14 13:45:07     500.0\n",
       "439283   brancha1 2017-10-18 03:23:27     500.0\n",
       "441302   brancha1 2017-12-19 20:13:55     500.0\n",
       "442489   brancha1 2017-12-20 18:40:48     500.0\n",
       "443126   brancha1 2017-12-24 11:20:21     500.0\n",
       "443922   brancha1 2017-12-27 23:05:00     500.0\n",
       "445114   brancha1 2017-12-28 16:47:53     500.0\n",
       "446898   brancha1 2018-01-11 22:11:10     500.0\n",
       "448391     brockc 2017-07-20 01:46:34     500.0\n",
       "449132     brockc 2017-07-20 08:10:27     500.0\n",
       "449957     brockc 2017-07-20 13:50:34     500.0\n",
       "451041     brockc 2017-07-21 04:52:20     500.0\n",
       "451380     brockc 2017-07-21 06:47:24     500.0\n",
       "465812     brockc 2017-07-31 09:28:40     500.0\n",
       "465814     brockc 2017-07-31 09:29:08     500.0\n",
       "465961     brockc 2017-07-31 10:46:48     500.0\n",
       "466003     brockc 2017-07-31 10:51:41     500.0\n",
       "466156     brockc 2017-07-31 12:10:01     500.0\n",
       "466191     brockc 2017-07-31 13:13:42     500.0\n",
       "466344     brockc 2017-07-31 14:32:38     500.0\n",
       "466374     brockc 2017-07-31 14:36:20     500.0\n",
       "466377     brockc 2017-07-31 14:36:42     500.0\n",
       "...           ...                 ...       ...\n",
       "2361821  trippej1 2017-10-20 15:25:11     500.0\n",
       "2362321  trippej1 2017-11-01 17:02:03     500.0\n",
       "2727463  vuiiscci 2017-08-03 08:02:19     500.0\n",
       "2730002  vuiiscci 2017-08-03 23:02:10     500.0\n",
       "2730010  vuiiscci 2017-08-03 23:02:11     500.0\n",
       "2741429   wangj36 2017-07-16 03:57:31     500.0\n",
       "2742618   wangj36 2017-07-16 20:49:31     500.0\n",
       "2745555   wangj36 2017-08-01 20:13:35     500.0\n",
       "2746351   wangj36 2017-08-08 17:24:00     500.0\n",
       "2767060   wangj36 2017-08-11 15:30:06     500.0\n",
       "2839123   wangj36 2017-08-11 21:51:29     500.0\n",
       "2890932   wangy67 2017-11-24 10:55:50     500.0\n",
       "2894892   zhangdk 2017-07-10 04:46:28     500.0\n",
       "2906288   zhangdk 2017-07-10 22:48:21     500.0\n",
       "2910658   zhangdk 2017-07-11 07:06:29     500.0\n",
       "2986271   zhangdk 2017-07-13 02:23:30     500.0\n",
       "3005647   zhangdk 2017-07-13 18:46:11     500.0\n",
       "3025006   zhangdk 2017-07-14 07:57:57     500.0\n",
       "3044568   zhangdk 2017-07-14 19:35:54     500.0\n",
       "3050829   zhangdk 2017-07-15 00:53:59     500.0\n",
       "3055343   zhangdk 2017-07-17 11:43:07     500.0\n",
       "3065716   zhangdk 2017-07-17 22:31:10     500.0\n",
       "3073336   zhangdk 2017-07-20 05:44:43     500.0\n",
       "3082172   zhangdk 2017-07-21 23:43:53     500.0\n",
       "3094572   zhangdk 2017-07-25 08:15:13     500.0\n",
       "3100695    zhoud2 2018-04-03 18:05:11     500.0\n",
       "3100919    zhoud2 2018-04-03 19:51:12     500.0\n",
       "3101178    zhoud2 2018-04-03 20:45:54     500.0\n",
       "3102600    zhoud2 2018-04-09 04:34:48     500.0\n",
       "3105072    zhoud2 2018-04-13 20:45:21     500.0\n",
       "\n",
       "[609 rows x 3 columns]"
      ]
     },
     "execution_count": 59,
     "metadata": {},
     "output_type": "execute_result"
    }
   ],
   "source": [
    "users500up=rolling_df.loc[rolling_df['JobIDRaw'] == 500]\n",
    "users500up"
   ]
  },
  {
   "cell_type": "markdown",
   "metadata": {},
   "source": [
    "### You can see here that several names appear more than once.  Now we will determine the users with repeat offenses."
   ]
  },
  {
   "cell_type": "code",
   "execution_count": 60,
   "metadata": {},
   "outputs": [
    {
     "data": {
      "text/html": [
       "<div>\n",
       "<style scoped>\n",
       "    .dataframe tbody tr th:only-of-type {\n",
       "        vertical-align: middle;\n",
       "    }\n",
       "\n",
       "    .dataframe tbody tr th {\n",
       "        vertical-align: top;\n",
       "    }\n",
       "\n",
       "    .dataframe thead th {\n",
       "        text-align: right;\n",
       "    }\n",
       "</style>\n",
       "<table border=\"1\" class=\"dataframe\">\n",
       "  <thead>\n",
       "    <tr style=\"text-align: right;\">\n",
       "      <th></th>\n",
       "      <th>User</th>\n",
       "      <th>Offense_Count</th>\n",
       "    </tr>\n",
       "  </thead>\n",
       "  <tbody>\n",
       "    <tr>\n",
       "      <th>0</th>\n",
       "      <td>brockc</td>\n",
       "      <td>115</td>\n",
       "    </tr>\n",
       "    <tr>\n",
       "      <th>1</th>\n",
       "      <td>msrc</td>\n",
       "      <td>82</td>\n",
       "    </tr>\n",
       "    <tr>\n",
       "      <th>2</th>\n",
       "      <td>moonj</td>\n",
       "      <td>50</td>\n",
       "    </tr>\n",
       "    <tr>\n",
       "      <th>3</th>\n",
       "      <td>ozgunka</td>\n",
       "      <td>47</td>\n",
       "    </tr>\n",
       "    <tr>\n",
       "      <th>4</th>\n",
       "      <td>jiany17</td>\n",
       "      <td>21</td>\n",
       "    </tr>\n",
       "  </tbody>\n",
       "</table>\n",
       "</div>"
      ],
      "text/plain": [
       "      User  Offense_Count\n",
       "0   brockc            115\n",
       "1     msrc             82\n",
       "2    moonj             50\n",
       "3  ozgunka             47\n",
       "4  jiany17             21"
      ]
     },
     "execution_count": 60,
     "metadata": {},
     "output_type": "execute_result"
    }
   ],
   "source": [
    "r_o = users500up.User.value_counts()\n",
    "repeated_offender = pd.DataFrame(r_o).reset_index()\n",
    "repeated_offender1=repeated_offender.rename(index=str,columns={'User':'Offense_Count', 'index':'User'})\n",
    "repeated_offender1.head()"
   ]
  },
  {
   "cell_type": "markdown",
   "metadata": {},
   "source": [
    "### Now we will look at users with more than 10 offenses "
   ]
  },
  {
   "cell_type": "code",
   "execution_count": 61,
   "metadata": {},
   "outputs": [],
   "source": [
    "repeated_offender2=repeated_offender1.loc[repeated_offender1['Offense_Count']>=10]"
   ]
  },
  {
   "cell_type": "code",
   "execution_count": 62,
   "metadata": {},
   "outputs": [
    {
     "data": {
      "text/plain": [
       "(array([ 0,  1,  2,  3,  4,  5,  6,  7,  8,  9, 10, 11, 12, 13, 14]),\n",
       " <a list of 15 Text xticklabel objects>)"
      ]
     },
     "execution_count": 62,
     "metadata": {},
     "output_type": "execute_result"
    },
    {
     "data": {
      "text/plain": [
       "<Figure size 1080x576 with 0 Axes>"
      ]
     },
     "metadata": {},
     "output_type": "display_data"
    },
    {
     "data": {
      "image/png": "[encoded data removed]",
      "text/plain": [
       "<Figure size 1080x576 with 1 Axes>"
      ]
     },
     "metadata": {},
     "output_type": "display_data"
    }
   ],
   "source": [
    "plt.figure(figsize=(15,8))\n",
    "repeated_offender2.plot(kind='bar',x='User',title='Top User Offenders to Submit More than 500 Jobs in 4 Hours',figsize=(15,8),fontsize=16)\n",
    "plt.xlabel('User', fontsize=16)\n",
    "plt.ylabel('Offense Count', fontsize=16)\n",
    "plt.xticks(rotation=70)"
   ]
  },
  {
   "cell_type": "code",
   "execution_count": 63,
   "metadata": {},
   "outputs": [
    {
     "data": {
      "image/png": "[encoded data removed]",
      "text/plain": [
       "<Figure size 1080x576 with 1 Axes>"
      ]
     },
     "metadata": {},
     "output_type": "display_data"
    }
   ],
   "source": [
    "plt.figure(figsize=(15,8))\n",
    "repeated_offender1['Offense_Count'].plot.hist(bins=40,title='Distribution of Offense Count Among Users with Greater than 500 Short Jobs that occur within 4 Hours',fontsize=16)\n",
    "plt.xlabel('Number of Offenses per User',fontsize=16)\n",
    "plt.ylabel('Frequency of Occurence', fontsize=16)\n",
    "plt.show()"
   ]
  }
 ],
 "metadata": {
  "kernelspec": {
   "display_name": "Python 3",
   "language": "python",
   "name": "python3"
  },
  "language_info": {
   "codemirror_mode": {
    "name": "ipython",
    "version": 3
   },
   "file_extension": ".py",
   "mimetype": "text/x-python",
   "name": "python",
   "nbconvert_exporter": "python",
   "pygments_lexer": "ipython3",
   "version": "3.6.5"
  }
 },
 "nbformat": 4,
 "nbformat_minor": 2
}
