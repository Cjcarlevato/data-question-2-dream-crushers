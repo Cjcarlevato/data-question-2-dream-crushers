{
 "cells": [
  {
   "cell_type": "code",
   "execution_count": 1,
   "metadata": {},
   "outputs": [],
   "source": [
    "import numpy as np\n",
    "import pandas as pd\n",
    "import matplotlib.pyplot as plt\n",
    "import datetime as dt"
   ]
  },
  {
   "cell_type": "code",
   "execution_count": 2,
   "metadata": {},
   "outputs": [],
   "source": [
    "# Working through Question #4 - UrLeaka"
   ]
  },
  {
   "cell_type": "markdown",
   "metadata": {},
   "source": [
    "### Hi Chris"
   ]
  },
  {
   "cell_type": "code",
   "execution_count": 3,
   "metadata": {
    "scrolled": false
   },
   "outputs": [
    {
     "data": {
      "text/html": [
       "<div>\n",
       "<style scoped>\n",
       "    .dataframe tbody tr th:only-of-type {\n",
       "        vertical-align: middle;\n",
       "    }\n",
       "\n",
       "    .dataframe tbody tr th {\n",
       "        vertical-align: top;\n",
       "    }\n",
       "\n",
       "    .dataframe thead th {\n",
       "        text-align: right;\n",
       "    }\n",
       "</style>\n",
       "<table border=\"1\" class=\"dataframe\">\n",
       "  <thead>\n",
       "    <tr style=\"text-align: right;\">\n",
       "      <th></th>\n",
       "      <th>JobID</th>\n",
       "      <th>JobIDRaw</th>\n",
       "      <th>Cluster</th>\n",
       "      <th>Partition</th>\n",
       "      <th>Account</th>\n",
       "      <th>Group</th>\n",
       "      <th>GID</th>\n",
       "      <th>User</th>\n",
       "      <th>UID</th>\n",
       "      <th>Submit</th>\n",
       "      <th>...</th>\n",
       "      <th>State</th>\n",
       "      <th>NNodes</th>\n",
       "      <th>NCPUS</th>\n",
       "      <th>ReqCPUS</th>\n",
       "      <th>ReqMem</th>\n",
       "      <th>ReqGRES</th>\n",
       "      <th>ReqTRES</th>\n",
       "      <th>Timelimit</th>\n",
       "      <th>NodeList</th>\n",
       "      <th>JobName</th>\n",
       "    </tr>\n",
       "  </thead>\n",
       "  <tbody>\n",
       "    <tr>\n",
       "      <th>0</th>\n",
       "      <td>15806649</td>\n",
       "      <td>15806649</td>\n",
       "      <td>accre</td>\n",
       "      <td>production</td>\n",
       "      <td>h_vuiis</td>\n",
       "      <td>h_vuiis</td>\n",
       "      <td>36052</td>\n",
       "      <td>masispider</td>\n",
       "      <td>NaN</td>\n",
       "      <td>2017-07-02T00:40:58</td>\n",
       "      <td>...</td>\n",
       "      <td>COMPLETED</td>\n",
       "      <td>1</td>\n",
       "      <td>2</td>\n",
       "      <td>2</td>\n",
       "      <td>12Gn</td>\n",
       "      <td>NaN</td>\n",
       "      <td>cpu=2,mem=12G,node=1</td>\n",
       "      <td>9-04:00:00</td>\n",
       "      <td>vmp1085</td>\n",
       "      <td>WOODWARD_TCP-x-228324-x-228324-x-301-x-Multi_A...</td>\n",
       "    </tr>\n",
       "    <tr>\n",
       "      <th>1</th>\n",
       "      <td>15806664</td>\n",
       "      <td>15806664</td>\n",
       "      <td>accre</td>\n",
       "      <td>production</td>\n",
       "      <td>h_vuiis</td>\n",
       "      <td>h_vuiis</td>\n",
       "      <td>36052</td>\n",
       "      <td>masispider</td>\n",
       "      <td>NaN</td>\n",
       "      <td>2017-07-02T00:40:58</td>\n",
       "      <td>...</td>\n",
       "      <td>COMPLETED</td>\n",
       "      <td>1</td>\n",
       "      <td>2</td>\n",
       "      <td>2</td>\n",
       "      <td>12Gn</td>\n",
       "      <td>NaN</td>\n",
       "      <td>cpu=2,mem=12G,node=1</td>\n",
       "      <td>9-04:00:00</td>\n",
       "      <td>vmp1099</td>\n",
       "      <td>WOODWARD_TCP-x-115174-x-115174-x-301-x-Multi_A...</td>\n",
       "    </tr>\n",
       "    <tr>\n",
       "      <th>2</th>\n",
       "      <td>15806670</td>\n",
       "      <td>15806670</td>\n",
       "      <td>accre</td>\n",
       "      <td>production</td>\n",
       "      <td>h_vuiis</td>\n",
       "      <td>h_vuiis</td>\n",
       "      <td>36052</td>\n",
       "      <td>masispider</td>\n",
       "      <td>NaN</td>\n",
       "      <td>2017-07-02T00:40:58</td>\n",
       "      <td>...</td>\n",
       "      <td>COMPLETED</td>\n",
       "      <td>1</td>\n",
       "      <td>2</td>\n",
       "      <td>2</td>\n",
       "      <td>12Gn</td>\n",
       "      <td>NaN</td>\n",
       "      <td>cpu=2,mem=12G,node=1</td>\n",
       "      <td>9-04:00:00</td>\n",
       "      <td>vmp1126</td>\n",
       "      <td>WOODWARD_TCP-x-215607-x-215607-x-301-x-Multi_A...</td>\n",
       "    </tr>\n",
       "    <tr>\n",
       "      <th>3</th>\n",
       "      <td>15806671</td>\n",
       "      <td>15806671</td>\n",
       "      <td>accre</td>\n",
       "      <td>production</td>\n",
       "      <td>h_vuiis</td>\n",
       "      <td>h_vuiis</td>\n",
       "      <td>36052</td>\n",
       "      <td>masispider</td>\n",
       "      <td>NaN</td>\n",
       "      <td>2017-07-02T00:40:58</td>\n",
       "      <td>...</td>\n",
       "      <td>COMPLETED</td>\n",
       "      <td>1</td>\n",
       "      <td>2</td>\n",
       "      <td>2</td>\n",
       "      <td>12Gn</td>\n",
       "      <td>NaN</td>\n",
       "      <td>cpu=2,mem=12G,node=1</td>\n",
       "      <td>9-04:00:00</td>\n",
       "      <td>vmp230</td>\n",
       "      <td>WOODWARD_TCP-x-116214-x-116214-x-1701-x-Multi_...</td>\n",
       "    </tr>\n",
       "    <tr>\n",
       "      <th>4</th>\n",
       "      <td>15811617</td>\n",
       "      <td>15811617</td>\n",
       "      <td>accre</td>\n",
       "      <td>production</td>\n",
       "      <td>cms_samtest</td>\n",
       "      <td>cms_samtest</td>\n",
       "      <td>59297</td>\n",
       "      <td>uscms010</td>\n",
       "      <td>NaN</td>\n",
       "      <td>2017-07-01T05:00:00</td>\n",
       "      <td>...</td>\n",
       "      <td>COMPLETED</td>\n",
       "      <td>1</td>\n",
       "      <td>1</td>\n",
       "      <td>1</td>\n",
       "      <td>4000Mn</td>\n",
       "      <td>NaN</td>\n",
       "      <td>cpu=1,mem=4000M,node=1</td>\n",
       "      <td>2-00:00:00</td>\n",
       "      <td>vmp1242</td>\n",
       "      <td>bl_aa7c22e04f21</td>\n",
       "    </tr>\n",
       "  </tbody>\n",
       "</table>\n",
       "<p>5 rows × 25 columns</p>\n",
       "</div>"
      ],
      "text/plain": [
       "      JobID  JobIDRaw Cluster   Partition      Account        Group    GID  \\\n",
       "0  15806649  15806649   accre  production      h_vuiis      h_vuiis  36052   \n",
       "1  15806664  15806664   accre  production      h_vuiis      h_vuiis  36052   \n",
       "2  15806670  15806670   accre  production      h_vuiis      h_vuiis  36052   \n",
       "3  15806671  15806671   accre  production      h_vuiis      h_vuiis  36052   \n",
       "4  15811617  15811617   accre  production  cms_samtest  cms_samtest  59297   \n",
       "\n",
       "         User  UID               Submit  \\\n",
       "0  masispider  NaN  2017-07-02T00:40:58   \n",
       "1  masispider  NaN  2017-07-02T00:40:58   \n",
       "2  masispider  NaN  2017-07-02T00:40:58   \n",
       "3  masispider  NaN  2017-07-02T00:40:58   \n",
       "4    uscms010  NaN  2017-07-01T05:00:00   \n",
       "\n",
       "                         ...                              State NNodes NCPUS  \\\n",
       "0                        ...                          COMPLETED      1     2   \n",
       "1                        ...                          COMPLETED      1     2   \n",
       "2                        ...                          COMPLETED      1     2   \n",
       "3                        ...                          COMPLETED      1     2   \n",
       "4                        ...                          COMPLETED      1     1   \n",
       "\n",
       "  ReqCPUS  ReqMem ReqGRES                 ReqTRES   Timelimit  NodeList  \\\n",
       "0       2    12Gn     NaN    cpu=2,mem=12G,node=1  9-04:00:00   vmp1085   \n",
       "1       2    12Gn     NaN    cpu=2,mem=12G,node=1  9-04:00:00   vmp1099   \n",
       "2       2    12Gn     NaN    cpu=2,mem=12G,node=1  9-04:00:00   vmp1126   \n",
       "3       2    12Gn     NaN    cpu=2,mem=12G,node=1  9-04:00:00    vmp230   \n",
       "4       1  4000Mn     NaN  cpu=1,mem=4000M,node=1  2-00:00:00   vmp1242   \n",
       "\n",
       "                                             JobName  \n",
       "0  WOODWARD_TCP-x-228324-x-228324-x-301-x-Multi_A...  \n",
       "1  WOODWARD_TCP-x-115174-x-115174-x-301-x-Multi_A...  \n",
       "2  WOODWARD_TCP-x-215607-x-215607-x-301-x-Multi_A...  \n",
       "3  WOODWARD_TCP-x-116214-x-116214-x-1701-x-Multi_...  \n",
       "4                                    bl_aa7c22e04f21  \n",
       "\n",
       "[5 rows x 25 columns]"
      ]
     },
     "execution_count": 3,
     "metadata": {},
     "output_type": "execute_result"
    }
   ],
   "source": [
    "accre_data = pd.read_csv('~/nss_data_science/DataQuestion2/data-question-2-dream-crushers/data/july2017-june2018.txt', delimiter='|', nrows=100)\n",
    "accre_data.head()"
   ]
  },
  {
   "cell_type": "code",
   "execution_count": 4,
   "metadata": {},
   "outputs": [
    {
     "data": {
      "text/plain": [
       "Index(['JobID', 'JobIDRaw', 'Cluster', 'Partition', 'Account', 'Group', 'GID',\n",
       "       'User', 'UID', 'Submit', 'Eligible', 'Start', 'End', 'Elapsed',\n",
       "       'ExitCode', 'State', 'NNodes', 'NCPUS', 'ReqCPUS', 'ReqMem', 'ReqGRES',\n",
       "       'ReqTRES', 'Timelimit', 'NodeList', 'JobName'],\n",
       "      dtype='object')"
      ]
     },
     "execution_count": 4,
     "metadata": {},
     "output_type": "execute_result"
    }
   ],
   "source": [
    "accre_data.columns"
   ]
  },
  {
   "cell_type": "code",
   "execution_count": 5,
   "metadata": {},
   "outputs": [
    {
     "data": {
      "text/plain": [
       "0    2017-07-03T02:13:59\n",
       "1    2017-07-03T02:20:08\n",
       "2    2017-07-03T02:41:13\n",
       "3    2017-07-03T02:51:53\n",
       "4    2017-07-01T05:00:01\n",
       "Name: Start, dtype: object"
      ]
     },
     "execution_count": 5,
     "metadata": {},
     "output_type": "execute_result"
    }
   ],
   "source": [
    "accre_data.Start.head()\n",
    "# accre_data['RunCalc'] = accre_data['End'] - accre_data['Start']"
   ]
  },
  {
   "cell_type": "code",
   "execution_count": 6,
   "metadata": {},
   "outputs": [],
   "source": [
    "accre_data.Start = pd.to_datetime(accre_data.Start)\n",
    "accre_data.End = pd.to_datetime(accre_data.End)"
   ]
  },
  {
   "cell_type": "code",
   "execution_count": 7,
   "metadata": {},
   "outputs": [
    {
     "data": {
      "text/plain": [
       "0    1-01:05:21\n",
       "1      23:51:47\n",
       "2    1-01:59:51\n",
       "3    1-08:02:20\n",
       "4      00:00:10\n",
       "Name: Elapsed, dtype: object"
      ]
     },
     "execution_count": 7,
     "metadata": {},
     "output_type": "execute_result"
    }
   ],
   "source": [
    "accre_data.Elapsed.head()"
   ]
  },
  {
   "cell_type": "code",
   "execution_count": 8,
   "metadata": {},
   "outputs": [],
   "source": [
    "accre_data['RunCalc'] = accre_data.End - accre_data.Start"
   ]
  },
  {
   "cell_type": "code",
   "execution_count": 9,
   "metadata": {},
   "outputs": [
    {
     "name": "stdout",
     "output_type": "stream",
     "text": [
      "<class 'pandas.core.frame.DataFrame'>\n",
      "RangeIndex: 100 entries, 0 to 99\n",
      "Data columns (total 26 columns):\n",
      "JobID        100 non-null object\n",
      "JobIDRaw     100 non-null int64\n",
      "Cluster      100 non-null object\n",
      "Partition    100 non-null object\n",
      "Account      100 non-null object\n",
      "Group        100 non-null object\n",
      "GID          100 non-null int64\n",
      "User         100 non-null object\n",
      "UID          69 non-null float64\n",
      "Submit       100 non-null object\n",
      "Eligible     100 non-null object\n",
      "Start        100 non-null datetime64[ns]\n",
      "End          100 non-null datetime64[ns]\n",
      "Elapsed      100 non-null object\n",
      "ExitCode     100 non-null object\n",
      "State        100 non-null object\n",
      "NNodes       100 non-null int64\n",
      "NCPUS        100 non-null int64\n",
      "ReqCPUS      100 non-null int64\n",
      "ReqMem       100 non-null object\n",
      "ReqGRES      0 non-null float64\n",
      "ReqTRES      100 non-null object\n",
      "Timelimit    100 non-null object\n",
      "NodeList     100 non-null object\n",
      "JobName      100 non-null object\n",
      "RunCalc      100 non-null timedelta64[ns]\n",
      "dtypes: datetime64[ns](2), float64(2), int64(5), object(16), timedelta64[ns](1)\n",
      "memory usage: 20.4+ KB\n"
     ]
    }
   ],
   "source": [
    "accre_data.info()"
   ]
  },
  {
   "cell_type": "code",
   "execution_count": 10,
   "metadata": {
    "scrolled": true
   },
   "outputs": [
    {
     "data": {
      "text/plain": [
       "0   1 days 01:05:21\n",
       "1   0 days 23:51:47\n",
       "2   1 days 01:59:51\n",
       "3   1 days 08:02:20\n",
       "4   0 days 00:00:10\n",
       "Name: RunCalc, dtype: timedelta64[ns]"
      ]
     },
     "execution_count": 10,
     "metadata": {},
     "output_type": "execute_result"
    }
   ],
   "source": [
    "accre_data.RunCalc.head()"
   ]
  },
  {
   "cell_type": "code",
   "execution_count": 11,
   "metadata": {},
   "outputs": [
    {
     "data": {
      "text/plain": [
       "0    1\n",
       "1    0\n",
       "2    1\n",
       "3    1\n",
       "4    0\n",
       "Name: RunCalc, dtype: int64"
      ]
     },
     "execution_count": 11,
     "metadata": {},
     "output_type": "execute_result"
    }
   ],
   "source": [
    "days=accre_data.RunCalc.dt.days\n",
    "days.head()"
   ]
  },
  {
   "cell_type": "code",
   "execution_count": 12,
   "metadata": {},
   "outputs": [
    {
     "name": "stderr",
     "output_type": "stream",
     "text": [
      "C:\\Users\\unews\\Anaconda3\\lib\\site-packages\\ipykernel_launcher.py:2: SettingWithCopyWarning: \n",
      "A value is trying to be set on a copy of a slice from a DataFrame.\n",
      "Try using .loc[row_indexer,col_indexer] = value instead\n",
      "\n",
      "See the caveats in the documentation: http://pandas.pydata.org/pandas-docs/stable/indexing.html#indexing-view-versus-copy\n",
      "  \n"
     ]
    },
    {
     "data": {
      "text/html": [
       "<div>\n",
       "<style scoped>\n",
       "    .dataframe tbody tr th:only-of-type {\n",
       "        vertical-align: middle;\n",
       "    }\n",
       "\n",
       "    .dataframe tbody tr th {\n",
       "        vertical-align: top;\n",
       "    }\n",
       "\n",
       "    .dataframe thead th {\n",
       "        text-align: right;\n",
       "    }\n",
       "</style>\n",
       "<table border=\"1\" class=\"dataframe\">\n",
       "  <thead>\n",
       "    <tr style=\"text-align: right;\">\n",
       "      <th></th>\n",
       "      <th>JobID</th>\n",
       "      <th>JobIDRaw</th>\n",
       "      <th>Cluster</th>\n",
       "      <th>Partition</th>\n",
       "      <th>Account</th>\n",
       "      <th>Group</th>\n",
       "      <th>GID</th>\n",
       "      <th>User</th>\n",
       "      <th>UID</th>\n",
       "      <th>Submit</th>\n",
       "      <th>...</th>\n",
       "      <th>NCPUS</th>\n",
       "      <th>ReqCPUS</th>\n",
       "      <th>ReqMem</th>\n",
       "      <th>ReqGRES</th>\n",
       "      <th>ReqTRES</th>\n",
       "      <th>Timelimit</th>\n",
       "      <th>NodeList</th>\n",
       "      <th>JobName</th>\n",
       "      <th>RunCalc</th>\n",
       "      <th>days</th>\n",
       "    </tr>\n",
       "  </thead>\n",
       "  <tbody>\n",
       "    <tr>\n",
       "      <th>1</th>\n",
       "      <td>15806664</td>\n",
       "      <td>15806664</td>\n",
       "      <td>accre</td>\n",
       "      <td>production</td>\n",
       "      <td>h_vuiis</td>\n",
       "      <td>h_vuiis</td>\n",
       "      <td>36052</td>\n",
       "      <td>masispider</td>\n",
       "      <td>NaN</td>\n",
       "      <td>2017-07-02T00:40:58</td>\n",
       "      <td>...</td>\n",
       "      <td>2</td>\n",
       "      <td>2</td>\n",
       "      <td>12Gn</td>\n",
       "      <td>NaN</td>\n",
       "      <td>cpu=2,mem=12G,node=1</td>\n",
       "      <td>9-04:00:00</td>\n",
       "      <td>vmp1099</td>\n",
       "      <td>WOODWARD_TCP-x-115174-x-115174-x-301-x-Multi_A...</td>\n",
       "      <td>23:51:47</td>\n",
       "      <td>0</td>\n",
       "    </tr>\n",
       "    <tr>\n",
       "      <th>4</th>\n",
       "      <td>15811617</td>\n",
       "      <td>15811617</td>\n",
       "      <td>accre</td>\n",
       "      <td>production</td>\n",
       "      <td>cms_samtest</td>\n",
       "      <td>cms_samtest</td>\n",
       "      <td>59297</td>\n",
       "      <td>uscms010</td>\n",
       "      <td>NaN</td>\n",
       "      <td>2017-07-01T05:00:00</td>\n",
       "      <td>...</td>\n",
       "      <td>1</td>\n",
       "      <td>1</td>\n",
       "      <td>4000Mn</td>\n",
       "      <td>NaN</td>\n",
       "      <td>cpu=1,mem=4000M,node=1</td>\n",
       "      <td>2-00:00:00</td>\n",
       "      <td>vmp1242</td>\n",
       "      <td>bl_aa7c22e04f21</td>\n",
       "      <td>00:00:10</td>\n",
       "      <td>0</td>\n",
       "    </tr>\n",
       "    <tr>\n",
       "      <th>5</th>\n",
       "      <td>15811618</td>\n",
       "      <td>15811618</td>\n",
       "      <td>accre</td>\n",
       "      <td>production</td>\n",
       "      <td>cms_stage2</td>\n",
       "      <td>cms_stage1</td>\n",
       "      <td>59298</td>\n",
       "      <td>autocms</td>\n",
       "      <td>9209.0</td>\n",
       "      <td>2017-07-01T05:00:01</td>\n",
       "      <td>...</td>\n",
       "      <td>1</td>\n",
       "      <td>1</td>\n",
       "      <td>2Gc</td>\n",
       "      <td>NaN</td>\n",
       "      <td>cpu=1,mem=2G,node=1</td>\n",
       "      <td>12:00:00</td>\n",
       "      <td>vmp1063</td>\n",
       "      <td>skim_test</td>\n",
       "      <td>00:03:18</td>\n",
       "      <td>0</td>\n",
       "    </tr>\n",
       "    <tr>\n",
       "      <th>6</th>\n",
       "      <td>15811619</td>\n",
       "      <td>15811619</td>\n",
       "      <td>accre</td>\n",
       "      <td>production</td>\n",
       "      <td>cms_stage2</td>\n",
       "      <td>cms</td>\n",
       "      <td>31000</td>\n",
       "      <td>tuos</td>\n",
       "      <td>126986.0</td>\n",
       "      <td>2017-07-01T05:00:02</td>\n",
       "      <td>...</td>\n",
       "      <td>1</td>\n",
       "      <td>1</td>\n",
       "      <td>2Gc</td>\n",
       "      <td>NaN</td>\n",
       "      <td>cpu=1,mem=2G,node=1</td>\n",
       "      <td>12:00:00</td>\n",
       "      <td>vmp1062</td>\n",
       "      <td>skim_test</td>\n",
       "      <td>00:02:03</td>\n",
       "      <td>0</td>\n",
       "    </tr>\n",
       "    <tr>\n",
       "      <th>7</th>\n",
       "      <td>15811621</td>\n",
       "      <td>15811621</td>\n",
       "      <td>accre</td>\n",
       "      <td>production</td>\n",
       "      <td>cms_samtest</td>\n",
       "      <td>cms_samtest</td>\n",
       "      <td>59297</td>\n",
       "      <td>uscms010</td>\n",
       "      <td>NaN</td>\n",
       "      <td>2017-07-01T05:00:22</td>\n",
       "      <td>...</td>\n",
       "      <td>1</td>\n",
       "      <td>1</td>\n",
       "      <td>4000Mn</td>\n",
       "      <td>NaN</td>\n",
       "      <td>cpu=1,mem=4000M,node=1</td>\n",
       "      <td>2-00:00:00</td>\n",
       "      <td>vmp1242</td>\n",
       "      <td>bl_33ee450ebdc4</td>\n",
       "      <td>00:00:10</td>\n",
       "      <td>0</td>\n",
       "    </tr>\n",
       "  </tbody>\n",
       "</table>\n",
       "<p>5 rows × 27 columns</p>\n",
       "</div>"
      ],
      "text/plain": [
       "      JobID  JobIDRaw Cluster   Partition      Account        Group    GID  \\\n",
       "1  15806664  15806664   accre  production      h_vuiis      h_vuiis  36052   \n",
       "4  15811617  15811617   accre  production  cms_samtest  cms_samtest  59297   \n",
       "5  15811618  15811618   accre  production   cms_stage2   cms_stage1  59298   \n",
       "6  15811619  15811619   accre  production   cms_stage2          cms  31000   \n",
       "7  15811621  15811621   accre  production  cms_samtest  cms_samtest  59297   \n",
       "\n",
       "         User       UID               Submit ...  NCPUS ReqCPUS  ReqMem  \\\n",
       "1  masispider       NaN  2017-07-02T00:40:58 ...      2       2    12Gn   \n",
       "4    uscms010       NaN  2017-07-01T05:00:00 ...      1       1  4000Mn   \n",
       "5     autocms    9209.0  2017-07-01T05:00:01 ...      1       1     2Gc   \n",
       "6        tuos  126986.0  2017-07-01T05:00:02 ...      1       1     2Gc   \n",
       "7    uscms010       NaN  2017-07-01T05:00:22 ...      1       1  4000Mn   \n",
       "\n",
       "  ReqGRES                 ReqTRES   Timelimit  NodeList  \\\n",
       "1     NaN    cpu=2,mem=12G,node=1  9-04:00:00   vmp1099   \n",
       "4     NaN  cpu=1,mem=4000M,node=1  2-00:00:00   vmp1242   \n",
       "5     NaN     cpu=1,mem=2G,node=1    12:00:00   vmp1063   \n",
       "6     NaN     cpu=1,mem=2G,node=1    12:00:00   vmp1062   \n",
       "7     NaN  cpu=1,mem=4000M,node=1  2-00:00:00   vmp1242   \n",
       "\n",
       "                                             JobName  RunCalc days  \n",
       "1  WOODWARD_TCP-x-115174-x-115174-x-301-x-Multi_A... 23:51:47    0  \n",
       "4                                    bl_aa7c22e04f21 00:00:10    0  \n",
       "5                                          skim_test 00:03:18    0  \n",
       "6                                          skim_test 00:02:03    0  \n",
       "7                                    bl_33ee450ebdc4 00:00:10    0  \n",
       "\n",
       "[5 rows x 27 columns]"
      ]
     },
     "execution_count": 12,
     "metadata": {},
     "output_type": "execute_result"
    }
   ],
   "source": [
    "completed=accre_data[accre_data.State == 'COMPLETED']\n",
    "completed['days']=days\n",
    "less24hrs = completed[completed.days< 1]\n",
    "less24hrs.head()"
   ]
  },
  {
   "cell_type": "code",
   "execution_count": 13,
   "metadata": {},
   "outputs": [
    {
     "data": {
      "text/plain": [
       "1    0\n",
       "4    0\n",
       "5    0\n",
       "6    0\n",
       "7    0\n",
       "Name: days, dtype: int64"
      ]
     },
     "execution_count": 13,
     "metadata": {},
     "output_type": "execute_result"
    }
   ],
   "source": [
    "less24hrs.days.head()"
   ]
  },
  {
   "cell_type": "code",
   "execution_count": 14,
   "metadata": {},
   "outputs": [
    {
     "data": {
      "text/plain": [
       "1   23:51:47\n",
       "4   00:00:10\n",
       "5   00:03:18\n",
       "6   00:02:03\n",
       "7   00:00:10\n",
       "Name: RunCalc, dtype: timedelta64[ns]"
      ]
     },
     "execution_count": 14,
     "metadata": {},
     "output_type": "execute_result"
    }
   ],
   "source": [
    "less24hrs.RunCalc.head()"
   ]
  },
  {
   "cell_type": "code",
   "execution_count": 15,
   "metadata": {},
   "outputs": [
    {
     "name": "stderr",
     "output_type": "stream",
     "text": [
      "C:\\Users\\unews\\Anaconda3\\lib\\site-packages\\ipykernel_launcher.py:2: SettingWithCopyWarning: \n",
      "A value is trying to be set on a copy of a slice from a DataFrame.\n",
      "Try using .loc[row_indexer,col_indexer] = value instead\n",
      "\n",
      "See the caveats in the documentation: http://pandas.pydata.org/pandas-docs/stable/indexing.html#indexing-view-versus-copy\n",
      "  \n"
     ]
    }
   ],
   "source": [
    "secs_RunCalc=less24hrs.RunCalc.dt.seconds\n",
    "less24hrs['secs_RunCalc'] = secs_RunCalc\n",
    "#Number of seconds (>= 0 and less than 1 day) for each element."
   ]
  },
  {
   "cell_type": "code",
   "execution_count": 16,
   "metadata": {},
   "outputs": [
    {
     "data": {
      "text/html": [
       "<div>\n",
       "<style scoped>\n",
       "    .dataframe tbody tr th:only-of-type {\n",
       "        vertical-align: middle;\n",
       "    }\n",
       "\n",
       "    .dataframe tbody tr th {\n",
       "        vertical-align: top;\n",
       "    }\n",
       "\n",
       "    .dataframe thead th {\n",
       "        text-align: right;\n",
       "    }\n",
       "</style>\n",
       "<table border=\"1\" class=\"dataframe\">\n",
       "  <thead>\n",
       "    <tr style=\"text-align: right;\">\n",
       "      <th></th>\n",
       "      <th>JobID</th>\n",
       "      <th>JobIDRaw</th>\n",
       "      <th>Cluster</th>\n",
       "      <th>Partition</th>\n",
       "      <th>Account</th>\n",
       "      <th>Group</th>\n",
       "      <th>GID</th>\n",
       "      <th>User</th>\n",
       "      <th>UID</th>\n",
       "      <th>Submit</th>\n",
       "      <th>...</th>\n",
       "      <th>ReqCPUS</th>\n",
       "      <th>ReqMem</th>\n",
       "      <th>ReqGRES</th>\n",
       "      <th>ReqTRES</th>\n",
       "      <th>Timelimit</th>\n",
       "      <th>NodeList</th>\n",
       "      <th>JobName</th>\n",
       "      <th>RunCalc</th>\n",
       "      <th>days</th>\n",
       "      <th>secs_RunCalc</th>\n",
       "    </tr>\n",
       "  </thead>\n",
       "  <tbody>\n",
       "    <tr>\n",
       "      <th>1</th>\n",
       "      <td>15806664</td>\n",
       "      <td>15806664</td>\n",
       "      <td>accre</td>\n",
       "      <td>production</td>\n",
       "      <td>h_vuiis</td>\n",
       "      <td>h_vuiis</td>\n",
       "      <td>36052</td>\n",
       "      <td>masispider</td>\n",
       "      <td>NaN</td>\n",
       "      <td>2017-07-02T00:40:58</td>\n",
       "      <td>...</td>\n",
       "      <td>2</td>\n",
       "      <td>12Gn</td>\n",
       "      <td>NaN</td>\n",
       "      <td>cpu=2,mem=12G,node=1</td>\n",
       "      <td>9-04:00:00</td>\n",
       "      <td>vmp1099</td>\n",
       "      <td>WOODWARD_TCP-x-115174-x-115174-x-301-x-Multi_A...</td>\n",
       "      <td>23:51:47</td>\n",
       "      <td>0</td>\n",
       "      <td>85907</td>\n",
       "    </tr>\n",
       "    <tr>\n",
       "      <th>4</th>\n",
       "      <td>15811617</td>\n",
       "      <td>15811617</td>\n",
       "      <td>accre</td>\n",
       "      <td>production</td>\n",
       "      <td>cms_samtest</td>\n",
       "      <td>cms_samtest</td>\n",
       "      <td>59297</td>\n",
       "      <td>uscms010</td>\n",
       "      <td>NaN</td>\n",
       "      <td>2017-07-01T05:00:00</td>\n",
       "      <td>...</td>\n",
       "      <td>1</td>\n",
       "      <td>4000Mn</td>\n",
       "      <td>NaN</td>\n",
       "      <td>cpu=1,mem=4000M,node=1</td>\n",
       "      <td>2-00:00:00</td>\n",
       "      <td>vmp1242</td>\n",
       "      <td>bl_aa7c22e04f21</td>\n",
       "      <td>00:00:10</td>\n",
       "      <td>0</td>\n",
       "      <td>10</td>\n",
       "    </tr>\n",
       "    <tr>\n",
       "      <th>5</th>\n",
       "      <td>15811618</td>\n",
       "      <td>15811618</td>\n",
       "      <td>accre</td>\n",
       "      <td>production</td>\n",
       "      <td>cms_stage2</td>\n",
       "      <td>cms_stage1</td>\n",
       "      <td>59298</td>\n",
       "      <td>autocms</td>\n",
       "      <td>9209.0</td>\n",
       "      <td>2017-07-01T05:00:01</td>\n",
       "      <td>...</td>\n",
       "      <td>1</td>\n",
       "      <td>2Gc</td>\n",
       "      <td>NaN</td>\n",
       "      <td>cpu=1,mem=2G,node=1</td>\n",
       "      <td>12:00:00</td>\n",
       "      <td>vmp1063</td>\n",
       "      <td>skim_test</td>\n",
       "      <td>00:03:18</td>\n",
       "      <td>0</td>\n",
       "      <td>198</td>\n",
       "    </tr>\n",
       "    <tr>\n",
       "      <th>6</th>\n",
       "      <td>15811619</td>\n",
       "      <td>15811619</td>\n",
       "      <td>accre</td>\n",
       "      <td>production</td>\n",
       "      <td>cms_stage2</td>\n",
       "      <td>cms</td>\n",
       "      <td>31000</td>\n",
       "      <td>tuos</td>\n",
       "      <td>126986.0</td>\n",
       "      <td>2017-07-01T05:00:02</td>\n",
       "      <td>...</td>\n",
       "      <td>1</td>\n",
       "      <td>2Gc</td>\n",
       "      <td>NaN</td>\n",
       "      <td>cpu=1,mem=2G,node=1</td>\n",
       "      <td>12:00:00</td>\n",
       "      <td>vmp1062</td>\n",
       "      <td>skim_test</td>\n",
       "      <td>00:02:03</td>\n",
       "      <td>0</td>\n",
       "      <td>123</td>\n",
       "    </tr>\n",
       "    <tr>\n",
       "      <th>7</th>\n",
       "      <td>15811621</td>\n",
       "      <td>15811621</td>\n",
       "      <td>accre</td>\n",
       "      <td>production</td>\n",
       "      <td>cms_samtest</td>\n",
       "      <td>cms_samtest</td>\n",
       "      <td>59297</td>\n",
       "      <td>uscms010</td>\n",
       "      <td>NaN</td>\n",
       "      <td>2017-07-01T05:00:22</td>\n",
       "      <td>...</td>\n",
       "      <td>1</td>\n",
       "      <td>4000Mn</td>\n",
       "      <td>NaN</td>\n",
       "      <td>cpu=1,mem=4000M,node=1</td>\n",
       "      <td>2-00:00:00</td>\n",
       "      <td>vmp1242</td>\n",
       "      <td>bl_33ee450ebdc4</td>\n",
       "      <td>00:00:10</td>\n",
       "      <td>0</td>\n",
       "      <td>10</td>\n",
       "    </tr>\n",
       "  </tbody>\n",
       "</table>\n",
       "<p>5 rows × 28 columns</p>\n",
       "</div>"
      ],
      "text/plain": [
       "      JobID  JobIDRaw Cluster   Partition      Account        Group    GID  \\\n",
       "1  15806664  15806664   accre  production      h_vuiis      h_vuiis  36052   \n",
       "4  15811617  15811617   accre  production  cms_samtest  cms_samtest  59297   \n",
       "5  15811618  15811618   accre  production   cms_stage2   cms_stage1  59298   \n",
       "6  15811619  15811619   accre  production   cms_stage2          cms  31000   \n",
       "7  15811621  15811621   accre  production  cms_samtest  cms_samtest  59297   \n",
       "\n",
       "         User       UID               Submit     ...      ReqCPUS  ReqMem  \\\n",
       "1  masispider       NaN  2017-07-02T00:40:58     ...            2    12Gn   \n",
       "4    uscms010       NaN  2017-07-01T05:00:00     ...            1  4000Mn   \n",
       "5     autocms    9209.0  2017-07-01T05:00:01     ...            1     2Gc   \n",
       "6        tuos  126986.0  2017-07-01T05:00:02     ...            1     2Gc   \n",
       "7    uscms010       NaN  2017-07-01T05:00:22     ...            1  4000Mn   \n",
       "\n",
       "  ReqGRES                 ReqTRES   Timelimit NodeList  \\\n",
       "1     NaN    cpu=2,mem=12G,node=1  9-04:00:00  vmp1099   \n",
       "4     NaN  cpu=1,mem=4000M,node=1  2-00:00:00  vmp1242   \n",
       "5     NaN     cpu=1,mem=2G,node=1    12:00:00  vmp1063   \n",
       "6     NaN     cpu=1,mem=2G,node=1    12:00:00  vmp1062   \n",
       "7     NaN  cpu=1,mem=4000M,node=1  2-00:00:00  vmp1242   \n",
       "\n",
       "                                             JobName  RunCalc  days  \\\n",
       "1  WOODWARD_TCP-x-115174-x-115174-x-301-x-Multi_A... 23:51:47     0   \n",
       "4                                    bl_aa7c22e04f21 00:00:10     0   \n",
       "5                                          skim_test 00:03:18     0   \n",
       "6                                          skim_test 00:02:03     0   \n",
       "7                                    bl_33ee450ebdc4 00:00:10     0   \n",
       "\n",
       "  secs_RunCalc  \n",
       "1        85907  \n",
       "4           10  \n",
       "5          198  \n",
       "6          123  \n",
       "7           10  \n",
       "\n",
       "[5 rows x 28 columns]"
      ]
     },
     "execution_count": 16,
     "metadata": {},
     "output_type": "execute_result"
    }
   ],
   "source": [
    "less24hrs.head()"
   ]
  },
  {
   "cell_type": "code",
   "execution_count": 17,
   "metadata": {},
   "outputs": [
    {
     "data": {
      "text/plain": [
       "JobID                      15811617\n",
       "JobIDRaw                   15811617\n",
       "Cluster                       accre\n",
       "Partition                production\n",
       "Account                 cms_samtest\n",
       "Group                   cms_samtest\n",
       "GID                           59297\n",
       "User                       uscms010\n",
       "UID                             NaN\n",
       "Submit          2017-07-01T05:00:00\n",
       "Eligible        2017-07-01T05:00:00\n",
       "Start           2017-07-01 05:00:01\n",
       "End             2017-07-01 05:00:11\n",
       "Elapsed                    00:00:10\n",
       "ExitCode                        0:0\n",
       "State                     COMPLETED\n",
       "NNodes                            1\n",
       "NCPUS                             1\n",
       "ReqCPUS                           1\n",
       "ReqMem                       4000Mn\n",
       "ReqGRES                         NaN\n",
       "ReqTRES      cpu=1,mem=4000M,node=1\n",
       "Timelimit                2-00:00:00\n",
       "NodeList                    vmp1242\n",
       "JobName             bl_aa7c22e04f21\n",
       "RunCalc             0 days 00:00:10\n",
       "Name: 4, dtype: object"
      ]
     },
     "execution_count": 17,
     "metadata": {},
     "output_type": "execute_result"
    }
   ],
   "source": [
    "accre_data.loc[4]"
   ]
  },
  {
   "cell_type": "code",
   "execution_count": 18,
   "metadata": {},
   "outputs": [
    {
     "data": {
      "text/html": [
       "<div>\n",
       "<style scoped>\n",
       "    .dataframe tbody tr th:only-of-type {\n",
       "        vertical-align: middle;\n",
       "    }\n",
       "\n",
       "    .dataframe tbody tr th {\n",
       "        vertical-align: top;\n",
       "    }\n",
       "\n",
       "    .dataframe thead th {\n",
       "        text-align: right;\n",
       "    }\n",
       "</style>\n",
       "<table border=\"1\" class=\"dataframe\">\n",
       "  <thead>\n",
       "    <tr style=\"text-align: right;\">\n",
       "      <th></th>\n",
       "      <th>JobID</th>\n",
       "      <th>JobIDRaw</th>\n",
       "      <th>Cluster</th>\n",
       "      <th>Partition</th>\n",
       "      <th>Account</th>\n",
       "      <th>Group</th>\n",
       "      <th>GID</th>\n",
       "      <th>User</th>\n",
       "      <th>UID</th>\n",
       "      <th>Submit</th>\n",
       "      <th>...</th>\n",
       "      <th>ReqCPUS</th>\n",
       "      <th>ReqMem</th>\n",
       "      <th>ReqGRES</th>\n",
       "      <th>ReqTRES</th>\n",
       "      <th>Timelimit</th>\n",
       "      <th>NodeList</th>\n",
       "      <th>JobName</th>\n",
       "      <th>RunCalc</th>\n",
       "      <th>days</th>\n",
       "      <th>secs_RunCalc</th>\n",
       "    </tr>\n",
       "  </thead>\n",
       "  <tbody>\n",
       "    <tr>\n",
       "      <th>4</th>\n",
       "      <td>15811617</td>\n",
       "      <td>15811617</td>\n",
       "      <td>accre</td>\n",
       "      <td>production</td>\n",
       "      <td>cms_samtest</td>\n",
       "      <td>cms_samtest</td>\n",
       "      <td>59297</td>\n",
       "      <td>uscms010</td>\n",
       "      <td>NaN</td>\n",
       "      <td>2017-07-01T05:00:00</td>\n",
       "      <td>...</td>\n",
       "      <td>1</td>\n",
       "      <td>4000Mn</td>\n",
       "      <td>NaN</td>\n",
       "      <td>cpu=1,mem=4000M,node=1</td>\n",
       "      <td>2-00:00:00</td>\n",
       "      <td>vmp1242</td>\n",
       "      <td>bl_aa7c22e04f21</td>\n",
       "      <td>00:00:10</td>\n",
       "      <td>0</td>\n",
       "      <td>10</td>\n",
       "    </tr>\n",
       "    <tr>\n",
       "      <th>5</th>\n",
       "      <td>15811618</td>\n",
       "      <td>15811618</td>\n",
       "      <td>accre</td>\n",
       "      <td>production</td>\n",
       "      <td>cms_stage2</td>\n",
       "      <td>cms_stage1</td>\n",
       "      <td>59298</td>\n",
       "      <td>autocms</td>\n",
       "      <td>9209.0</td>\n",
       "      <td>2017-07-01T05:00:01</td>\n",
       "      <td>...</td>\n",
       "      <td>1</td>\n",
       "      <td>2Gc</td>\n",
       "      <td>NaN</td>\n",
       "      <td>cpu=1,mem=2G,node=1</td>\n",
       "      <td>12:00:00</td>\n",
       "      <td>vmp1063</td>\n",
       "      <td>skim_test</td>\n",
       "      <td>00:03:18</td>\n",
       "      <td>0</td>\n",
       "      <td>198</td>\n",
       "    </tr>\n",
       "    <tr>\n",
       "      <th>6</th>\n",
       "      <td>15811619</td>\n",
       "      <td>15811619</td>\n",
       "      <td>accre</td>\n",
       "      <td>production</td>\n",
       "      <td>cms_stage2</td>\n",
       "      <td>cms</td>\n",
       "      <td>31000</td>\n",
       "      <td>tuos</td>\n",
       "      <td>126986.0</td>\n",
       "      <td>2017-07-01T05:00:02</td>\n",
       "      <td>...</td>\n",
       "      <td>1</td>\n",
       "      <td>2Gc</td>\n",
       "      <td>NaN</td>\n",
       "      <td>cpu=1,mem=2G,node=1</td>\n",
       "      <td>12:00:00</td>\n",
       "      <td>vmp1062</td>\n",
       "      <td>skim_test</td>\n",
       "      <td>00:02:03</td>\n",
       "      <td>0</td>\n",
       "      <td>123</td>\n",
       "    </tr>\n",
       "    <tr>\n",
       "      <th>7</th>\n",
       "      <td>15811621</td>\n",
       "      <td>15811621</td>\n",
       "      <td>accre</td>\n",
       "      <td>production</td>\n",
       "      <td>cms_samtest</td>\n",
       "      <td>cms_samtest</td>\n",
       "      <td>59297</td>\n",
       "      <td>uscms010</td>\n",
       "      <td>NaN</td>\n",
       "      <td>2017-07-01T05:00:22</td>\n",
       "      <td>...</td>\n",
       "      <td>1</td>\n",
       "      <td>4000Mn</td>\n",
       "      <td>NaN</td>\n",
       "      <td>cpu=1,mem=4000M,node=1</td>\n",
       "      <td>2-00:00:00</td>\n",
       "      <td>vmp1242</td>\n",
       "      <td>bl_33ee450ebdc4</td>\n",
       "      <td>00:00:10</td>\n",
       "      <td>0</td>\n",
       "      <td>10</td>\n",
       "    </tr>\n",
       "    <tr>\n",
       "      <th>8</th>\n",
       "      <td>15811624</td>\n",
       "      <td>15811624</td>\n",
       "      <td>accre</td>\n",
       "      <td>production</td>\n",
       "      <td>cms_stage2</td>\n",
       "      <td>cms_stage1</td>\n",
       "      <td>59298</td>\n",
       "      <td>autocms</td>\n",
       "      <td>9209.0</td>\n",
       "      <td>2017-07-01T05:01:01</td>\n",
       "      <td>...</td>\n",
       "      <td>1</td>\n",
       "      <td>2Gc</td>\n",
       "      <td>NaN</td>\n",
       "      <td>cpu=1,mem=2G,node=1</td>\n",
       "      <td>12:00:00</td>\n",
       "      <td>vmp670</td>\n",
       "      <td>skim_test</td>\n",
       "      <td>00:04:47</td>\n",
       "      <td>0</td>\n",
       "      <td>287</td>\n",
       "    </tr>\n",
       "  </tbody>\n",
       "</table>\n",
       "<p>5 rows × 28 columns</p>\n",
       "</div>"
      ],
      "text/plain": [
       "      JobID  JobIDRaw Cluster   Partition      Account        Group    GID  \\\n",
       "4  15811617  15811617   accre  production  cms_samtest  cms_samtest  59297   \n",
       "5  15811618  15811618   accre  production   cms_stage2   cms_stage1  59298   \n",
       "6  15811619  15811619   accre  production   cms_stage2          cms  31000   \n",
       "7  15811621  15811621   accre  production  cms_samtest  cms_samtest  59297   \n",
       "8  15811624  15811624   accre  production   cms_stage2   cms_stage1  59298   \n",
       "\n",
       "       User       UID               Submit     ...      ReqCPUS  ReqMem  \\\n",
       "4  uscms010       NaN  2017-07-01T05:00:00     ...            1  4000Mn   \n",
       "5   autocms    9209.0  2017-07-01T05:00:01     ...            1     2Gc   \n",
       "6      tuos  126986.0  2017-07-01T05:00:02     ...            1     2Gc   \n",
       "7  uscms010       NaN  2017-07-01T05:00:22     ...            1  4000Mn   \n",
       "8   autocms    9209.0  2017-07-01T05:01:01     ...            1     2Gc   \n",
       "\n",
       "  ReqGRES                 ReqTRES   Timelimit NodeList          JobName  \\\n",
       "4     NaN  cpu=1,mem=4000M,node=1  2-00:00:00  vmp1242  bl_aa7c22e04f21   \n",
       "5     NaN     cpu=1,mem=2G,node=1    12:00:00  vmp1063        skim_test   \n",
       "6     NaN     cpu=1,mem=2G,node=1    12:00:00  vmp1062        skim_test   \n",
       "7     NaN  cpu=1,mem=4000M,node=1  2-00:00:00  vmp1242  bl_33ee450ebdc4   \n",
       "8     NaN     cpu=1,mem=2G,node=1    12:00:00   vmp670        skim_test   \n",
       "\n",
       "   RunCalc  days secs_RunCalc  \n",
       "4 00:00:10     0           10  \n",
       "5 00:03:18     0          198  \n",
       "6 00:02:03     0          123  \n",
       "7 00:00:10     0           10  \n",
       "8 00:04:47     0          287  \n",
       "\n",
       "[5 rows x 28 columns]"
      ]
     },
     "execution_count": 18,
     "metadata": {},
     "output_type": "execute_result"
    }
   ],
   "source": [
    "secs_RunCalc300s = less24hrs[less24hrs.secs_RunCalc<=300]\n",
    "secs_RunCalc300s.head()"
   ]
  },
  {
   "cell_type": "code",
   "execution_count": 19,
   "metadata": {},
   "outputs": [
    {
     "data": {
      "text/plain": [
       "4    00:00:10\n",
       "5    00:03:18\n",
       "6    00:02:03\n",
       "7    00:00:10\n",
       "8    00:04:47\n",
       "Name: Elapsed, dtype: object"
      ]
     },
     "execution_count": 19,
     "metadata": {},
     "output_type": "execute_result"
    }
   ],
   "source": [
    "secs_RunCalc300s.Elapsed.head()"
   ]
  },
  {
   "cell_type": "code",
   "execution_count": 20,
   "metadata": {},
   "outputs": [],
   "source": [
    "#Name Change\n",
    "prob_jobs=secs_RunCalc300s"
   ]
  },
  {
   "cell_type": "code",
   "execution_count": 21,
   "metadata": {},
   "outputs": [
    {
     "data": {
      "text/plain": [
       "(74, 28)"
      ]
     },
     "execution_count": 21,
     "metadata": {},
     "output_type": "execute_result"
    }
   ],
   "source": [
    "prob_jobs.shape"
   ]
  },
  {
   "cell_type": "code",
   "execution_count": 22,
   "metadata": {},
   "outputs": [],
   "source": [
    "#Out of 100 cases selected in intial download, 74 cases may be problematic due to short run time.  Narrow down jobs within 4 hours later..."
   ]
  },
  {
   "cell_type": "code",
   "execution_count": 23,
   "metadata": {},
   "outputs": [
    {
     "name": "stdout",
     "output_type": "stream",
     "text": [
      "nagarr1     63\n",
      "tuos         3\n",
      "uscms010     3\n",
      "autocms      3\n",
      "vuiiscci     2\n",
      "Name: User, dtype: int64\n"
     ]
    }
   ],
   "source": [
    "prob_users=prob_jobs.User.value_counts()\n",
    "print(prob_users)"
   ]
  },
  {
   "cell_type": "code",
   "execution_count": 24,
   "metadata": {},
   "outputs": [],
   "source": [
    "# prob_user_df=prob_jobs.loc[prob_jobs['User'].isin(prob_users)] -- did not work when setting prob users >20 or 50"
   ]
  },
  {
   "cell_type": "code",
   "execution_count": 25,
   "metadata": {},
   "outputs": [
    {
     "data": {
      "text/plain": [
       "nagarr1      True\n",
       "tuos        False\n",
       "uscms010    False\n",
       "autocms     False\n",
       "vuiiscci    False\n",
       "Name: User, dtype: bool"
      ]
     },
     "execution_count": 25,
     "metadata": {},
     "output_type": "execute_result"
    }
   ],
   "source": [
    "pu1=prob_users>50\n",
    "pu1.head()"
   ]
  },
  {
   "cell_type": "code",
   "execution_count": 26,
   "metadata": {},
   "outputs": [
    {
     "data": {
      "text/plain": [
       "dict"
      ]
     },
     "execution_count": 26,
     "metadata": {},
     "output_type": "execute_result"
    }
   ],
   "source": [
    "pu2=pu1.to_dict()#changes series to dictionary where each user is associated with a boolean factor\n",
    "type(pu2)"
   ]
  },
  {
   "cell_type": "code",
   "execution_count": 27,
   "metadata": {},
   "outputs": [
    {
     "name": "stderr",
     "output_type": "stream",
     "text": [
      "C:\\Users\\unews\\Anaconda3\\lib\\site-packages\\ipykernel_launcher.py:1: SettingWithCopyWarning: \n",
      "A value is trying to be set on a copy of a slice from a DataFrame.\n",
      "Try using .loc[row_indexer,col_indexer] = value instead\n",
      "\n",
      "See the caveats in the documentation: http://pandas.pydata.org/pandas-docs/stable/indexing.html#indexing-view-versus-copy\n",
      "  \"\"\"Entry point for launching an IPython kernel.\n"
     ]
    }
   ],
   "source": [
    "prob_jobs['greater500']=prob_jobs['User'].map(pu2)#code \"Pandas’ map function lets you add a new column \n",
    "# with values from a dictionary if the data frame has a column matching the keys in the dictionary.\"\n",
    "# http://cmdlinetips.com/2018/01/how-to-add-a-new-column-to-using-a-dictionary-in-pandas-data-frame/"
   ]
  },
  {
   "cell_type": "code",
   "execution_count": 37,
   "metadata": {},
   "outputs": [
    {
     "data": {
      "text/plain": [
       "(74, 29)"
      ]
     },
     "execution_count": 37,
     "metadata": {},
     "output_type": "execute_result"
    }
   ],
   "source": [
    "prob_jobs.shape"
   ]
  },
  {
   "cell_type": "code",
   "execution_count": 33,
   "metadata": {},
   "outputs": [
    {
     "data": {
      "text/plain": [
       "4     False\n",
       "5     False\n",
       "6     False\n",
       "7     False\n",
       "8     False\n",
       "9     False\n",
       "31    False\n",
       "33    False\n",
       "34    False\n",
       "35    False\n",
       "36    False\n",
       "37     True\n",
       "38     True\n",
       "39     True\n",
       "40     True\n",
       "41     True\n",
       "42     True\n",
       "43     True\n",
       "44     True\n",
       "45     True\n",
       "46     True\n",
       "47     True\n",
       "48     True\n",
       "49     True\n",
       "50     True\n",
       "51     True\n",
       "52     True\n",
       "53     True\n",
       "54     True\n",
       "55     True\n",
       "      ...  \n",
       "70     True\n",
       "71     True\n",
       "72     True\n",
       "73     True\n",
       "74     True\n",
       "75     True\n",
       "76     True\n",
       "77     True\n",
       "78     True\n",
       "79     True\n",
       "80     True\n",
       "81     True\n",
       "82     True\n",
       "83     True\n",
       "84     True\n",
       "85     True\n",
       "86     True\n",
       "87     True\n",
       "88     True\n",
       "89     True\n",
       "90     True\n",
       "91     True\n",
       "92     True\n",
       "93     True\n",
       "94     True\n",
       "95     True\n",
       "96     True\n",
       "97     True\n",
       "98     True\n",
       "99     True\n",
       "Name: greater500, Length: 74, dtype: bool"
      ]
     },
     "execution_count": 33,
     "metadata": {},
     "output_type": "execute_result"
    }
   ],
   "source": [
    "prob_jobs['greater500']"
   ]
  },
  {
   "cell_type": "code",
   "execution_count": 30,
   "metadata": {},
   "outputs": [
    {
     "data": {
      "text/plain": [
       "pandas.core.series.Series"
      ]
     },
     "execution_count": 30,
     "metadata": {},
     "output_type": "execute_result"
    }
   ],
   "source": [
    "# prob_users1=prob_jobs[prob_jobs.greater500 =='True'] - will not filter columns because column is not string but bool\n",
    "type(prob_jobs.greater500)"
   ]
  },
  {
   "cell_type": "code",
   "execution_count": 36,
   "metadata": {},
   "outputs": [
    {
     "data": {
      "text/plain": [
       "numpy.bool_"
      ]
     },
     "execution_count": 36,
     "metadata": {},
     "output_type": "execute_result"
    }
   ],
   "source": [
    "type(prob_jobs.iloc[3,28])"
   ]
  },
  {
   "cell_type": "code",
   "execution_count": 38,
   "metadata": {},
   "outputs": [
    {
     "data": {
      "text/plain": [
       "dtype('bool')"
      ]
     },
     "execution_count": 38,
     "metadata": {},
     "output_type": "execute_result"
    }
   ],
   "source": [
    "np.dtype(prob_jobs.greater500)"
   ]
  },
  {
   "cell_type": "code",
   "execution_count": 39,
   "metadata": {},
   "outputs": [
    {
     "name": "stderr",
     "output_type": "stream",
     "text": [
      "C:\\Users\\unews\\Anaconda3\\lib\\site-packages\\ipykernel_launcher.py:1: SettingWithCopyWarning: \n",
      "A value is trying to be set on a copy of a slice from a DataFrame.\n",
      "Try using .loc[row_indexer,col_indexer] = value instead\n",
      "\n",
      "See the caveats in the documentation: http://pandas.pydata.org/pandas-docs/stable/indexing.html#indexing-view-versus-copy\n",
      "  \"\"\"Entry point for launching an IPython kernel.\n"
     ]
    }
   ],
   "source": [
    "prob_jobs['greater500'] = prob_jobs['greater500'].astype(str)"
   ]
  },
  {
   "cell_type": "code",
   "execution_count": 40,
   "metadata": {},
   "outputs": [
    {
     "data": {
      "text/plain": [
       "dtype('O')"
      ]
     },
     "execution_count": 40,
     "metadata": {},
     "output_type": "execute_result"
    }
   ],
   "source": [
    "np.dtype(prob_jobs.greater500) #converted column to str in order to select for true"
   ]
  },
  {
   "cell_type": "code",
   "execution_count": 41,
   "metadata": {},
   "outputs": [
    {
     "data": {
      "text/plain": [
       "4    False\n",
       "5    False\n",
       "6    False\n",
       "7    False\n",
       "8    False\n",
       "Name: greater500, dtype: object"
      ]
     },
     "execution_count": 41,
     "metadata": {},
     "output_type": "execute_result"
    }
   ],
   "source": [
    "prob_jobs.greater500.head()"
   ]
  },
  {
   "cell_type": "code",
   "execution_count": 42,
   "metadata": {},
   "outputs": [],
   "source": [
    "prob_users1=prob_jobs[prob_jobs.greater500 =='True']"
   ]
  },
  {
   "cell_type": "code",
   "execution_count": 43,
   "metadata": {},
   "outputs": [
    {
     "data": {
      "text/html": [
       "<div>\n",
       "<style scoped>\n",
       "    .dataframe tbody tr th:only-of-type {\n",
       "        vertical-align: middle;\n",
       "    }\n",
       "\n",
       "    .dataframe tbody tr th {\n",
       "        vertical-align: top;\n",
       "    }\n",
       "\n",
       "    .dataframe thead th {\n",
       "        text-align: right;\n",
       "    }\n",
       "</style>\n",
       "<table border=\"1\" class=\"dataframe\">\n",
       "  <thead>\n",
       "    <tr style=\"text-align: right;\">\n",
       "      <th></th>\n",
       "      <th>JobID</th>\n",
       "      <th>JobIDRaw</th>\n",
       "      <th>Cluster</th>\n",
       "      <th>Partition</th>\n",
       "      <th>Account</th>\n",
       "      <th>Group</th>\n",
       "      <th>GID</th>\n",
       "      <th>User</th>\n",
       "      <th>UID</th>\n",
       "      <th>Submit</th>\n",
       "      <th>...</th>\n",
       "      <th>ReqMem</th>\n",
       "      <th>ReqGRES</th>\n",
       "      <th>ReqTRES</th>\n",
       "      <th>Timelimit</th>\n",
       "      <th>NodeList</th>\n",
       "      <th>JobName</th>\n",
       "      <th>RunCalc</th>\n",
       "      <th>days</th>\n",
       "      <th>secs_RunCalc</th>\n",
       "      <th>greater500</th>\n",
       "    </tr>\n",
       "  </thead>\n",
       "  <tbody>\n",
       "    <tr>\n",
       "      <th>37</th>\n",
       "      <td>15811657_261</td>\n",
       "      <td>15811657</td>\n",
       "      <td>accre</td>\n",
       "      <td>production</td>\n",
       "      <td>p_iglab_csb</td>\n",
       "      <td>p_iglab</td>\n",
       "      <td>20440</td>\n",
       "      <td>nagarr1</td>\n",
       "      <td>497968.0</td>\n",
       "      <td>2017-07-01T05:02:05</td>\n",
       "      <td>...</td>\n",
       "      <td>15Gn</td>\n",
       "      <td>NaN</td>\n",
       "      <td>cpu=1,mem=15G,node=1</td>\n",
       "      <td>1-00:00:00</td>\n",
       "      <td>vmp1331</td>\n",
       "      <td>fp_single.slurm</td>\n",
       "      <td>00:00:09</td>\n",
       "      <td>0</td>\n",
       "      <td>9</td>\n",
       "      <td>True</td>\n",
       "    </tr>\n",
       "    <tr>\n",
       "      <th>38</th>\n",
       "      <td>15811657_1</td>\n",
       "      <td>15811659</td>\n",
       "      <td>accre</td>\n",
       "      <td>production</td>\n",
       "      <td>p_iglab_csb</td>\n",
       "      <td>p_iglab</td>\n",
       "      <td>20440</td>\n",
       "      <td>nagarr1</td>\n",
       "      <td>497968.0</td>\n",
       "      <td>2017-07-01T05:02:05</td>\n",
       "      <td>...</td>\n",
       "      <td>15Gn</td>\n",
       "      <td>NaN</td>\n",
       "      <td>cpu=1,mem=15G,node=1</td>\n",
       "      <td>1-00:00:00</td>\n",
       "      <td>vmp202</td>\n",
       "      <td>fp_single.slurm</td>\n",
       "      <td>00:00:08</td>\n",
       "      <td>0</td>\n",
       "      <td>8</td>\n",
       "      <td>True</td>\n",
       "    </tr>\n",
       "    <tr>\n",
       "      <th>39</th>\n",
       "      <td>15811657_2</td>\n",
       "      <td>15811660</td>\n",
       "      <td>accre</td>\n",
       "      <td>production</td>\n",
       "      <td>p_iglab_csb</td>\n",
       "      <td>p_iglab</td>\n",
       "      <td>20440</td>\n",
       "      <td>nagarr1</td>\n",
       "      <td>497968.0</td>\n",
       "      <td>2017-07-01T05:02:05</td>\n",
       "      <td>...</td>\n",
       "      <td>15Gn</td>\n",
       "      <td>NaN</td>\n",
       "      <td>cpu=1,mem=15G,node=1</td>\n",
       "      <td>1-00:00:00</td>\n",
       "      <td>vmp203</td>\n",
       "      <td>fp_single.slurm</td>\n",
       "      <td>00:00:19</td>\n",
       "      <td>0</td>\n",
       "      <td>19</td>\n",
       "      <td>True</td>\n",
       "    </tr>\n",
       "    <tr>\n",
       "      <th>40</th>\n",
       "      <td>15811657_3</td>\n",
       "      <td>15811661</td>\n",
       "      <td>accre</td>\n",
       "      <td>production</td>\n",
       "      <td>p_iglab_csb</td>\n",
       "      <td>p_iglab</td>\n",
       "      <td>20440</td>\n",
       "      <td>nagarr1</td>\n",
       "      <td>497968.0</td>\n",
       "      <td>2017-07-01T05:02:05</td>\n",
       "      <td>...</td>\n",
       "      <td>15Gn</td>\n",
       "      <td>NaN</td>\n",
       "      <td>cpu=1,mem=15G,node=1</td>\n",
       "      <td>1-00:00:00</td>\n",
       "      <td>vmp203</td>\n",
       "      <td>fp_single.slurm</td>\n",
       "      <td>00:00:17</td>\n",
       "      <td>0</td>\n",
       "      <td>17</td>\n",
       "      <td>True</td>\n",
       "    </tr>\n",
       "    <tr>\n",
       "      <th>41</th>\n",
       "      <td>15811657_4</td>\n",
       "      <td>15811662</td>\n",
       "      <td>accre</td>\n",
       "      <td>production</td>\n",
       "      <td>p_iglab_csb</td>\n",
       "      <td>p_iglab</td>\n",
       "      <td>20440</td>\n",
       "      <td>nagarr1</td>\n",
       "      <td>497968.0</td>\n",
       "      <td>2017-07-01T05:02:05</td>\n",
       "      <td>...</td>\n",
       "      <td>15Gn</td>\n",
       "      <td>NaN</td>\n",
       "      <td>cpu=1,mem=15G,node=1</td>\n",
       "      <td>1-00:00:00</td>\n",
       "      <td>vmp1091</td>\n",
       "      <td>fp_single.slurm</td>\n",
       "      <td>00:00:20</td>\n",
       "      <td>0</td>\n",
       "      <td>20</td>\n",
       "      <td>True</td>\n",
       "    </tr>\n",
       "  </tbody>\n",
       "</table>\n",
       "<p>5 rows × 29 columns</p>\n",
       "</div>"
      ],
      "text/plain": [
       "           JobID  JobIDRaw Cluster   Partition      Account    Group    GID  \\\n",
       "37  15811657_261  15811657   accre  production  p_iglab_csb  p_iglab  20440   \n",
       "38    15811657_1  15811659   accre  production  p_iglab_csb  p_iglab  20440   \n",
       "39    15811657_2  15811660   accre  production  p_iglab_csb  p_iglab  20440   \n",
       "40    15811657_3  15811661   accre  production  p_iglab_csb  p_iglab  20440   \n",
       "41    15811657_4  15811662   accre  production  p_iglab_csb  p_iglab  20440   \n",
       "\n",
       "       User       UID               Submit    ...     ReqMem ReqGRES  \\\n",
       "37  nagarr1  497968.0  2017-07-01T05:02:05    ...       15Gn     NaN   \n",
       "38  nagarr1  497968.0  2017-07-01T05:02:05    ...       15Gn     NaN   \n",
       "39  nagarr1  497968.0  2017-07-01T05:02:05    ...       15Gn     NaN   \n",
       "40  nagarr1  497968.0  2017-07-01T05:02:05    ...       15Gn     NaN   \n",
       "41  nagarr1  497968.0  2017-07-01T05:02:05    ...       15Gn     NaN   \n",
       "\n",
       "                 ReqTRES   Timelimit NodeList          JobName  RunCalc  days  \\\n",
       "37  cpu=1,mem=15G,node=1  1-00:00:00  vmp1331  fp_single.slurm 00:00:09     0   \n",
       "38  cpu=1,mem=15G,node=1  1-00:00:00   vmp202  fp_single.slurm 00:00:08     0   \n",
       "39  cpu=1,mem=15G,node=1  1-00:00:00   vmp203  fp_single.slurm 00:00:19     0   \n",
       "40  cpu=1,mem=15G,node=1  1-00:00:00   vmp203  fp_single.slurm 00:00:17     0   \n",
       "41  cpu=1,mem=15G,node=1  1-00:00:00  vmp1091  fp_single.slurm 00:00:20     0   \n",
       "\n",
       "    secs_RunCalc greater500  \n",
       "37             9       True  \n",
       "38             8       True  \n",
       "39            19       True  \n",
       "40            17       True  \n",
       "41            20       True  \n",
       "\n",
       "[5 rows x 29 columns]"
      ]
     },
     "execution_count": 43,
     "metadata": {},
     "output_type": "execute_result"
    }
   ],
   "source": [
    "prob_users1.head()"
   ]
  },
  {
   "cell_type": "code",
   "execution_count": 44,
   "metadata": {},
   "outputs": [
    {
     "name": "stderr",
     "output_type": "stream",
     "text": [
      "C:\\Users\\unews\\Anaconda3\\lib\\site-packages\\pandas\\core\\generic.py:4401: SettingWithCopyWarning: \n",
      "A value is trying to be set on a copy of a slice from a DataFrame.\n",
      "Try using .loc[row_indexer,col_indexer] = value instead\n",
      "\n",
      "See the caveats in the documentation: http://pandas.pydata.org/pandas-docs/stable/indexing.html#indexing-view-versus-copy\n",
      "  self[name] = value\n"
     ]
    }
   ],
   "source": [
    "# accre_data.Start = pd.to_datetime(accre_data.Start)\n",
    "prob_users1.Submit = pd.to_datetime(prob_users1.Submit)"
   ]
  },
  {
   "cell_type": "code",
   "execution_count": 45,
   "metadata": {},
   "outputs": [
    {
     "data": {
      "text/plain": [
       "37   2017-07-01 05:02:05\n",
       "38   2017-07-01 05:02:05\n",
       "39   2017-07-01 05:02:05\n",
       "40   2017-07-01 05:02:05\n",
       "41   2017-07-01 05:02:05\n",
       "Name: Submit, dtype: datetime64[ns]"
      ]
     },
     "execution_count": 45,
     "metadata": {},
     "output_type": "execute_result"
    }
   ],
   "source": [
    "prob_users1.Submit.head()"
   ]
  },
  {
   "cell_type": "code",
   "execution_count": 46,
   "metadata": {},
   "outputs": [],
   "source": [
    "prob_users2=prob_users1.sort_values(['User','Submit'],ascending=[1,1])"
   ]
  },
  {
   "cell_type": "code",
   "execution_count": 48,
   "metadata": {},
   "outputs": [],
   "source": [
    "prob_users2['count_num']=prob_users2.rolling('14400s', on='Submit').JobID.count()"
   ]
  },
  {
   "cell_type": "code",
   "execution_count": 49,
   "metadata": {},
   "outputs": [
    {
     "name": "stdout",
     "output_type": "stream",
     "text": [
      "37     1.0\n",
      "38     2.0\n",
      "39     3.0\n",
      "40     4.0\n",
      "41     5.0\n",
      "42     6.0\n",
      "43     7.0\n",
      "44     8.0\n",
      "45     9.0\n",
      "46    10.0\n",
      "47    11.0\n",
      "48    12.0\n",
      "49    13.0\n",
      "50    14.0\n",
      "51    15.0\n",
      "52    16.0\n",
      "53    17.0\n",
      "54    18.0\n",
      "55    19.0\n",
      "56    20.0\n",
      "57    21.0\n",
      "58    22.0\n",
      "59    23.0\n",
      "60    24.0\n",
      "61    25.0\n",
      "62    26.0\n",
      "63    27.0\n",
      "64    28.0\n",
      "65    29.0\n",
      "66    30.0\n",
      "      ... \n",
      "70    34.0\n",
      "71    35.0\n",
      "72    36.0\n",
      "73    37.0\n",
      "74    38.0\n",
      "75    39.0\n",
      "76    40.0\n",
      "77    41.0\n",
      "78    42.0\n",
      "79    43.0\n",
      "80    44.0\n",
      "81    45.0\n",
      "82    46.0\n",
      "83    47.0\n",
      "84    48.0\n",
      "85    49.0\n",
      "86    50.0\n",
      "87    51.0\n",
      "88    52.0\n",
      "89    53.0\n",
      "90    54.0\n",
      "91    55.0\n",
      "92    56.0\n",
      "93    57.0\n",
      "94    58.0\n",
      "95    59.0\n",
      "96    60.0\n",
      "97    61.0\n",
      "98    62.0\n",
      "99    63.0\n",
      "Name: count_num, Length: 63, dtype: float64\n"
     ]
    }
   ],
   "source": [
    "print(prob_users2.count_num)"
   ]
  },
  {
   "cell_type": "code",
   "execution_count": 50,
   "metadata": {},
   "outputs": [],
   "source": [
    "# secs_RunCalc300s = less24hrs[less24hrs.secs_RunCalc<=300]\n",
    "prob_users3=prob_users2[prob_users2.count_num>50]#change later -- looking for counts greater than 500.... then select for users."
   ]
  },
  {
   "cell_type": "code",
   "execution_count": 51,
   "metadata": {},
   "outputs": [
    {
     "data": {
      "text/html": [
       "<div>\n",
       "<style scoped>\n",
       "    .dataframe tbody tr th:only-of-type {\n",
       "        vertical-align: middle;\n",
       "    }\n",
       "\n",
       "    .dataframe tbody tr th {\n",
       "        vertical-align: top;\n",
       "    }\n",
       "\n",
       "    .dataframe thead th {\n",
       "        text-align: right;\n",
       "    }\n",
       "</style>\n",
       "<table border=\"1\" class=\"dataframe\">\n",
       "  <thead>\n",
       "    <tr style=\"text-align: right;\">\n",
       "      <th></th>\n",
       "      <th>JobID</th>\n",
       "      <th>JobIDRaw</th>\n",
       "      <th>Cluster</th>\n",
       "      <th>Partition</th>\n",
       "      <th>Account</th>\n",
       "      <th>Group</th>\n",
       "      <th>GID</th>\n",
       "      <th>User</th>\n",
       "      <th>UID</th>\n",
       "      <th>Submit</th>\n",
       "      <th>...</th>\n",
       "      <th>ReqGRES</th>\n",
       "      <th>ReqTRES</th>\n",
       "      <th>Timelimit</th>\n",
       "      <th>NodeList</th>\n",
       "      <th>JobName</th>\n",
       "      <th>RunCalc</th>\n",
       "      <th>days</th>\n",
       "      <th>secs_RunCalc</th>\n",
       "      <th>greater500</th>\n",
       "      <th>count_num</th>\n",
       "    </tr>\n",
       "  </thead>\n",
       "  <tbody>\n",
       "    <tr>\n",
       "      <th>87</th>\n",
       "      <td>15811657_50</td>\n",
       "      <td>15811708</td>\n",
       "      <td>accre</td>\n",
       "      <td>production</td>\n",
       "      <td>p_iglab_csb</td>\n",
       "      <td>p_iglab</td>\n",
       "      <td>20440</td>\n",
       "      <td>nagarr1</td>\n",
       "      <td>497968.0</td>\n",
       "      <td>2017-07-01 05:02:05</td>\n",
       "      <td>...</td>\n",
       "      <td>NaN</td>\n",
       "      <td>cpu=1,mem=15G,node=1</td>\n",
       "      <td>1-00:00:00</td>\n",
       "      <td>vmp375</td>\n",
       "      <td>fp_single.slurm</td>\n",
       "      <td>00:00:18</td>\n",
       "      <td>0</td>\n",
       "      <td>18</td>\n",
       "      <td>True</td>\n",
       "      <td>51.0</td>\n",
       "    </tr>\n",
       "    <tr>\n",
       "      <th>88</th>\n",
       "      <td>15811657_51</td>\n",
       "      <td>15811709</td>\n",
       "      <td>accre</td>\n",
       "      <td>production</td>\n",
       "      <td>p_iglab_csb</td>\n",
       "      <td>p_iglab</td>\n",
       "      <td>20440</td>\n",
       "      <td>nagarr1</td>\n",
       "      <td>497968.0</td>\n",
       "      <td>2017-07-01 05:02:05</td>\n",
       "      <td>...</td>\n",
       "      <td>NaN</td>\n",
       "      <td>cpu=1,mem=15G,node=1</td>\n",
       "      <td>1-00:00:00</td>\n",
       "      <td>vmp401</td>\n",
       "      <td>fp_single.slurm</td>\n",
       "      <td>00:00:08</td>\n",
       "      <td>0</td>\n",
       "      <td>8</td>\n",
       "      <td>True</td>\n",
       "      <td>52.0</td>\n",
       "    </tr>\n",
       "    <tr>\n",
       "      <th>89</th>\n",
       "      <td>15811657_52</td>\n",
       "      <td>15811710</td>\n",
       "      <td>accre</td>\n",
       "      <td>production</td>\n",
       "      <td>p_iglab_csb</td>\n",
       "      <td>p_iglab</td>\n",
       "      <td>20440</td>\n",
       "      <td>nagarr1</td>\n",
       "      <td>497968.0</td>\n",
       "      <td>2017-07-01 05:02:05</td>\n",
       "      <td>...</td>\n",
       "      <td>NaN</td>\n",
       "      <td>cpu=1,mem=15G,node=1</td>\n",
       "      <td>1-00:00:00</td>\n",
       "      <td>vmp399</td>\n",
       "      <td>fp_single.slurm</td>\n",
       "      <td>00:00:10</td>\n",
       "      <td>0</td>\n",
       "      <td>10</td>\n",
       "      <td>True</td>\n",
       "      <td>53.0</td>\n",
       "    </tr>\n",
       "    <tr>\n",
       "      <th>90</th>\n",
       "      <td>15811657_53</td>\n",
       "      <td>15811711</td>\n",
       "      <td>accre</td>\n",
       "      <td>production</td>\n",
       "      <td>p_iglab_csb</td>\n",
       "      <td>p_iglab</td>\n",
       "      <td>20440</td>\n",
       "      <td>nagarr1</td>\n",
       "      <td>497968.0</td>\n",
       "      <td>2017-07-01 05:02:05</td>\n",
       "      <td>...</td>\n",
       "      <td>NaN</td>\n",
       "      <td>cpu=1,mem=15G,node=1</td>\n",
       "      <td>1-00:00:00</td>\n",
       "      <td>vmp400</td>\n",
       "      <td>fp_single.slurm</td>\n",
       "      <td>00:00:10</td>\n",
       "      <td>0</td>\n",
       "      <td>10</td>\n",
       "      <td>True</td>\n",
       "      <td>54.0</td>\n",
       "    </tr>\n",
       "    <tr>\n",
       "      <th>91</th>\n",
       "      <td>15811657_54</td>\n",
       "      <td>15811712</td>\n",
       "      <td>accre</td>\n",
       "      <td>production</td>\n",
       "      <td>p_iglab_csb</td>\n",
       "      <td>p_iglab</td>\n",
       "      <td>20440</td>\n",
       "      <td>nagarr1</td>\n",
       "      <td>497968.0</td>\n",
       "      <td>2017-07-01 05:02:05</td>\n",
       "      <td>...</td>\n",
       "      <td>NaN</td>\n",
       "      <td>cpu=1,mem=15G,node=1</td>\n",
       "      <td>1-00:00:00</td>\n",
       "      <td>vmp445</td>\n",
       "      <td>fp_single.slurm</td>\n",
       "      <td>00:00:11</td>\n",
       "      <td>0</td>\n",
       "      <td>11</td>\n",
       "      <td>True</td>\n",
       "      <td>55.0</td>\n",
       "    </tr>\n",
       "  </tbody>\n",
       "</table>\n",
       "<p>5 rows × 30 columns</p>\n",
       "</div>"
      ],
      "text/plain": [
       "          JobID  JobIDRaw Cluster   Partition      Account    Group    GID  \\\n",
       "87  15811657_50  15811708   accre  production  p_iglab_csb  p_iglab  20440   \n",
       "88  15811657_51  15811709   accre  production  p_iglab_csb  p_iglab  20440   \n",
       "89  15811657_52  15811710   accre  production  p_iglab_csb  p_iglab  20440   \n",
       "90  15811657_53  15811711   accre  production  p_iglab_csb  p_iglab  20440   \n",
       "91  15811657_54  15811712   accre  production  p_iglab_csb  p_iglab  20440   \n",
       "\n",
       "       User       UID              Submit    ...    ReqGRES  \\\n",
       "87  nagarr1  497968.0 2017-07-01 05:02:05    ...        NaN   \n",
       "88  nagarr1  497968.0 2017-07-01 05:02:05    ...        NaN   \n",
       "89  nagarr1  497968.0 2017-07-01 05:02:05    ...        NaN   \n",
       "90  nagarr1  497968.0 2017-07-01 05:02:05    ...        NaN   \n",
       "91  nagarr1  497968.0 2017-07-01 05:02:05    ...        NaN   \n",
       "\n",
       "                 ReqTRES   Timelimit NodeList          JobName  RunCalc  days  \\\n",
       "87  cpu=1,mem=15G,node=1  1-00:00:00   vmp375  fp_single.slurm 00:00:18     0   \n",
       "88  cpu=1,mem=15G,node=1  1-00:00:00   vmp401  fp_single.slurm 00:00:08     0   \n",
       "89  cpu=1,mem=15G,node=1  1-00:00:00   vmp399  fp_single.slurm 00:00:10     0   \n",
       "90  cpu=1,mem=15G,node=1  1-00:00:00   vmp400  fp_single.slurm 00:00:10     0   \n",
       "91  cpu=1,mem=15G,node=1  1-00:00:00   vmp445  fp_single.slurm 00:00:11     0   \n",
       "\n",
       "    secs_RunCalc  greater500 count_num  \n",
       "87            18        True      51.0  \n",
       "88             8        True      52.0  \n",
       "89            10        True      53.0  \n",
       "90            10        True      54.0  \n",
       "91            11        True      55.0  \n",
       "\n",
       "[5 rows x 30 columns]"
      ]
     },
     "execution_count": 51,
     "metadata": {},
     "output_type": "execute_result"
    }
   ],
   "source": [
    "prob_users3.head()"
   ]
  },
  {
   "cell_type": "code",
   "execution_count": 53,
   "metadata": {},
   "outputs": [
    {
     "name": "stdout",
     "output_type": "stream",
     "text": [
      "['nagarr1']\n"
     ]
    }
   ],
   "source": [
    "print(prob_users3.User.unique())"
   ]
  },
  {
   "cell_type": "code",
   "execution_count": 55,
   "metadata": {},
   "outputs": [
    {
     "name": "stdout",
     "output_type": "stream",
     "text": [
      "nagarr1    13\n",
      "Name: User, dtype: int64\n"
     ]
    }
   ],
   "source": [
    "print(prob_users3.User.value_counts())#determines repeat offenders"
   ]
  },
  {
   "cell_type": "code",
   "execution_count": null,
   "metadata": {},
   "outputs": [],
   "source": []
  }
 ],
 "metadata": {
  "kernelspec": {
   "display_name": "Python 3",
   "language": "python",
   "name": "python3"
  },
  "language_info": {
   "codemirror_mode": {
    "name": "ipython",
    "version": 3
   },
   "file_extension": ".py",
   "mimetype": "text/x-python",
   "name": "python",
   "nbconvert_exporter": "python",
   "pygments_lexer": "ipython3",
   "version": "3.6.5"
  }
 },
 "nbformat": 4,
 "nbformat_minor": 2
}
