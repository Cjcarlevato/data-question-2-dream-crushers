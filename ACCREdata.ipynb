{
 "cells": [
  {
   "cell_type": "code",
   "execution_count": 127,
   "metadata": {},
   "outputs": [],
   "source": [
    "import numpy as np\n",
    "import pandas as pd\n",
    "import matplotlib.pyplot as plt"
   ]
  },
  {
   "cell_type": "code",
   "execution_count": 128,
   "metadata": {},
   "outputs": [
    {
     "name": "stderr",
     "output_type": "stream",
     "text": [
      "C:\\Users\\chris\\Anaconda3\\lib\\site-packages\\IPython\\core\\interactiveshell.py:2785: DtypeWarning: Columns (0,20) have mixed types. Specify dtype option on import or set low_memory=False.\n",
      "  interactivity=interactivity, compiler=compiler, result=result)\n"
     ]
    }
   ],
   "source": [
    "accre_data = pd.read_csv(r'C:\\Users\\chris\\data_science_projects\\data-question-2-dream-crushers\\july-2017-thru-june-2018.txt', delimiter='|')"
   ]
  },
  {
   "cell_type": "markdown",
   "metadata": {},
   "source": [
    "# Central Question: Are failures coming from a disproportionate number of particular nodes?"
   ]
  },
  {
   "cell_type": "markdown",
   "metadata": {},
   "source": [
    "# Before we answer that question, we will only consider jobs that used 1 node (which is about 91% of all jobs). "
   ]
  },
  {
   "cell_type": "code",
   "execution_count": 129,
   "metadata": {},
   "outputs": [
    {
     "data": {
      "text/plain": [
       "1      12370952\n",
       "0        108668\n",
       "2          9344\n",
       "3          2746\n",
       "4          2357\n",
       "5           811\n",
       "100         741\n",
       "6           497\n",
       "8           488\n",
       "36          273\n",
       "50          237\n",
       "7           202\n",
       "10          157\n",
       "82          144\n",
       "16          131\n",
       "25          122\n",
       "64          112\n",
       "12          102\n",
       "32           82\n",
       "9            73\n",
       "20           62\n",
       "13           61\n",
       "11           60\n",
       "15           56\n",
       "14           52\n",
       "17           45\n",
       "19           45\n",
       "18           42\n",
       "30           37\n",
       "128          32\n",
       "         ...   \n",
       "96            2\n",
       "61            2\n",
       "76            2\n",
       "98            2\n",
       "83            2\n",
       "77            1\n",
       "89            1\n",
       "188           1\n",
       "136           1\n",
       "132           1\n",
       "131           1\n",
       "125           1\n",
       "124           1\n",
       "118           1\n",
       "117           1\n",
       "116           1\n",
       "115           1\n",
       "114           1\n",
       "111           1\n",
       "109           1\n",
       "84            1\n",
       "85            1\n",
       "104           1\n",
       "86            1\n",
       "97            1\n",
       "200           1\n",
       "95            1\n",
       "88            1\n",
       "93            1\n",
       "94            1\n",
       "Name: NNodes, Length: 122, dtype: int64"
      ]
     },
     "execution_count": 129,
     "metadata": {},
     "output_type": "execute_result"
    }
   ],
   "source": [
    "accre_data['NNodes'].value_counts()"
   ]
  },
  {
   "cell_type": "code",
   "execution_count": 130,
   "metadata": {},
   "outputs": [],
   "source": [
    "One_Node= accre_data[accre_data['NNodes'] == 1]"
   ]
  },
  {
   "cell_type": "markdown",
   "metadata": {},
   "source": [
    "# Let's look @ at the failure rate of the most used node--vmp1409--before we look at all nodes. "
   ]
  },
  {
   "cell_type": "code",
   "execution_count": 132,
   "metadata": {
    "scrolled": false
   },
   "outputs": [
    {
     "data": {
      "text/html": [
       "<div>\n",
       "<style scoped>\n",
       "    .dataframe tbody tr th:only-of-type {\n",
       "        vertical-align: middle;\n",
       "    }\n",
       "\n",
       "    .dataframe tbody tr th {\n",
       "        vertical-align: top;\n",
       "    }\n",
       "\n",
       "    .dataframe thead th {\n",
       "        text-align: right;\n",
       "    }\n",
       "</style>\n",
       "<table border=\"1\" class=\"dataframe\">\n",
       "  <thead>\n",
       "    <tr style=\"text-align: right;\">\n",
       "      <th></th>\n",
       "      <th>JobID</th>\n",
       "      <th>JobIDRaw</th>\n",
       "      <th>Cluster</th>\n",
       "      <th>Partition</th>\n",
       "      <th>Account</th>\n",
       "      <th>Group</th>\n",
       "      <th>GID</th>\n",
       "      <th>User</th>\n",
       "      <th>UID</th>\n",
       "      <th>Submit</th>\n",
       "      <th>...</th>\n",
       "      <th>State</th>\n",
       "      <th>NNodes</th>\n",
       "      <th>NCPUS</th>\n",
       "      <th>ReqCPUS</th>\n",
       "      <th>ReqMem</th>\n",
       "      <th>ReqGRES</th>\n",
       "      <th>ReqTRES</th>\n",
       "      <th>Timelimit</th>\n",
       "      <th>NodeList</th>\n",
       "      <th>JobName</th>\n",
       "    </tr>\n",
       "  </thead>\n",
       "  <tbody>\n",
       "    <tr>\n",
       "      <th>4586468</th>\n",
       "      <td>20415282</td>\n",
       "      <td>20415282</td>\n",
       "      <td>accre</td>\n",
       "      <td>production</td>\n",
       "      <td>root</td>\n",
       "      <td>root</td>\n",
       "      <td>0</td>\n",
       "      <td>root</td>\n",
       "      <td>0.0</td>\n",
       "      <td>2017-10-28T14:20:08</td>\n",
       "      <td>...</td>\n",
       "      <td>NODE_FAIL</td>\n",
       "      <td>1</td>\n",
       "      <td>16</td>\n",
       "      <td>1</td>\n",
       "      <td>5Gn</td>\n",
       "      <td>NaN</td>\n",
       "      <td>cpu=1,mem=5G,node=1</td>\n",
       "      <td>01:30:00</td>\n",
       "      <td>vmp1409</td>\n",
       "      <td>gpfs-upgrade.slurm</td>\n",
       "    </tr>\n",
       "  </tbody>\n",
       "</table>\n",
       "<p>1 rows × 25 columns</p>\n",
       "</div>"
      ],
      "text/plain": [
       "            JobID  JobIDRaw Cluster   Partition Account Group  GID  User  UID  \\\n",
       "4586468  20415282  20415282   accre  production    root  root    0  root  0.0   \n",
       "\n",
       "                      Submit         ...              State NNodes NCPUS  \\\n",
       "4586468  2017-10-28T14:20:08         ...          NODE_FAIL      1    16   \n",
       "\n",
       "        ReqCPUS ReqMem ReqGRES              ReqTRES  Timelimit  NodeList  \\\n",
       "4586468       1    5Gn     NaN  cpu=1,mem=5G,node=1   01:30:00   vmp1409   \n",
       "\n",
       "                    JobName  \n",
       "4586468  gpfs-upgrade.slurm  \n",
       "\n",
       "[1 rows x 25 columns]"
      ]
     },
     "execution_count": 132,
     "metadata": {},
     "output_type": "execute_result"
    }
   ],
   "source": [
    "accre_data[(accre_data['State'] == \"NODE_FAIL\") & (accre_data[\"NodeList\"] == \"vmp1409\")]"
   ]
  },
  {
   "cell_type": "code",
   "execution_count": 13,
   "metadata": {},
   "outputs": [
    {
     "name": "stdout",
     "output_type": "stream",
     "text": [
      "92419\n"
     ]
    }
   ],
   "source": [
    "print(len(accre_data[accre_data[\"NodeList\"]==\"vmp1409\"]))\n"
   ]
  },
  {
   "cell_type": "code",
   "execution_count": 133,
   "metadata": {},
   "outputs": [
    {
     "data": {
      "text/plain": [
       "1"
      ]
     },
     "execution_count": 133,
     "metadata": {},
     "output_type": "execute_result"
    }
   ],
   "source": [
    "len(accre_data[(accre_data['State'] == \"NODE_FAIL\") & (accre_data[\"NodeList\"] == \"vmp1409\")])"
   ]
  },
  {
   "cell_type": "code",
   "execution_count": 134,
   "metadata": {},
   "outputs": [
    {
     "data": {
      "text/plain": [
       "1.0820285871952737e-05"
      ]
     },
     "execution_count": 134,
     "metadata": {},
     "output_type": "execute_result"
    }
   ],
   "source": [
    "len(accre_data[(accre_data['State'] == \"NODE_FAIL\") & (accre_data[\"NodeList\"] == \"vmp1409\")])/len(accre_data[accre_data[\"NodeList\"]==\"vmp1409\"])"
   ]
  },
  {
   "cell_type": "markdown",
   "metadata": {},
   "source": [
    "# Node vmp1409 was used to execute 92,419 jobs. It had 1 node failure. The frequency of failure was basically 0% (YAY!)."
   ]
  },
  {
   "cell_type": "markdown",
   "metadata": {},
   "source": [
    "# Let's create a separate dataframe that calculates node failure for each node. "
   ]
  },
  {
   "cell_type": "code",
   "execution_count": 135,
   "metadata": {},
   "outputs": [],
   "source": [
    "bad_nodes = accre_data.loc[(accre_data['State']=='NODE_FAIL') & (accre_data['NNodes']==1)]"
   ]
  },
  {
   "cell_type": "code",
   "execution_count": 140,
   "metadata": {},
   "outputs": [],
   "source": [
    "node_df= pd.DataFrame(accre_data.NodeList.value_counts(ascending=False)).reset_index()\n",
    "node_df = node_df.rename(index = str, columns = {'index': 'Node Code', 'NodeList': 'Total Jobs'})"
   ]
  },
  {
   "cell_type": "code",
   "execution_count": 141,
   "metadata": {},
   "outputs": [],
   "source": [
    "node_failure_df = pd.DataFrame(bad_nodes.NodeList.value_counts(ascending=False)).reset_index()\n",
    "node_failure_df = node_failure_df.rename(index = str, columns = {'index' : 'Node Code', 'NodeList': 'Failed Jobs'})"
   ]
  },
  {
   "cell_type": "code",
   "execution_count": 142,
   "metadata": {},
   "outputs": [],
   "source": [
    "combined_df = pd.merge(node_df, node_failure_df, on =\"Node Code\", how = \"inner\")"
   ]
  },
  {
   "cell_type": "code",
   "execution_count": 144,
   "metadata": {},
   "outputs": [],
   "source": [
    "combined_df['Frequency'] = combined_df['Failed Jobs']/combined_df['Total Jobs']"
   ]
  },
  {
   "cell_type": "code",
   "execution_count": 145,
   "metadata": {},
   "outputs": [
    {
     "data": {
      "text/html": [
       "<div>\n",
       "<style scoped>\n",
       "    .dataframe tbody tr th:only-of-type {\n",
       "        vertical-align: middle;\n",
       "    }\n",
       "\n",
       "    .dataframe tbody tr th {\n",
       "        vertical-align: top;\n",
       "    }\n",
       "\n",
       "    .dataframe thead th {\n",
       "        text-align: right;\n",
       "    }\n",
       "</style>\n",
       "<table border=\"1\" class=\"dataframe\">\n",
       "  <thead>\n",
       "    <tr style=\"text-align: right;\">\n",
       "      <th></th>\n",
       "      <th>Node Code</th>\n",
       "      <th>Total Jobs</th>\n",
       "      <th>Failed Jobs</th>\n",
       "      <th>Frequency</th>\n",
       "    </tr>\n",
       "  </thead>\n",
       "  <tbody>\n",
       "    <tr>\n",
       "      <th>592</th>\n",
       "      <td>vm-qa-node004</td>\n",
       "      <td>6</td>\n",
       "      <td>1</td>\n",
       "      <td>0.166667</td>\n",
       "    </tr>\n",
       "    <tr>\n",
       "      <th>588</th>\n",
       "      <td>vmp595</td>\n",
       "      <td>1018</td>\n",
       "      <td>8</td>\n",
       "      <td>0.007859</td>\n",
       "    </tr>\n",
       "    <tr>\n",
       "      <th>586</th>\n",
       "      <td>vmp598</td>\n",
       "      <td>1042</td>\n",
       "      <td>7</td>\n",
       "      <td>0.006718</td>\n",
       "    </tr>\n",
       "    <tr>\n",
       "      <th>584</th>\n",
       "      <td>vmp592</td>\n",
       "      <td>1084</td>\n",
       "      <td>7</td>\n",
       "      <td>0.006458</td>\n",
       "    </tr>\n",
       "    <tr>\n",
       "      <th>579</th>\n",
       "      <td>vmp692</td>\n",
       "      <td>1117</td>\n",
       "      <td>7</td>\n",
       "      <td>0.006267</td>\n",
       "    </tr>\n",
       "    <tr>\n",
       "      <th>578</th>\n",
       "      <td>vmp696</td>\n",
       "      <td>1118</td>\n",
       "      <td>7</td>\n",
       "      <td>0.006261</td>\n",
       "    </tr>\n",
       "    <tr>\n",
       "      <th>590</th>\n",
       "      <td>gpu0022</td>\n",
       "      <td>505</td>\n",
       "      <td>3</td>\n",
       "      <td>0.005941</td>\n",
       "    </tr>\n",
       "    <tr>\n",
       "      <th>582</th>\n",
       "      <td>gpu0010</td>\n",
       "      <td>1097</td>\n",
       "      <td>5</td>\n",
       "      <td>0.004558</td>\n",
       "    </tr>\n",
       "    <tr>\n",
       "      <th>581</th>\n",
       "      <td>vmp695</td>\n",
       "      <td>1097</td>\n",
       "      <td>5</td>\n",
       "      <td>0.004558</td>\n",
       "    </tr>\n",
       "    <tr>\n",
       "      <th>580</th>\n",
       "      <td>vmp597</td>\n",
       "      <td>1099</td>\n",
       "      <td>5</td>\n",
       "      <td>0.004550</td>\n",
       "    </tr>\n",
       "    <tr>\n",
       "      <th>577</th>\n",
       "      <td>vmp698</td>\n",
       "      <td>1147</td>\n",
       "      <td>5</td>\n",
       "      <td>0.004359</td>\n",
       "    </tr>\n",
       "    <tr>\n",
       "      <th>576</th>\n",
       "      <td>gpu0007</td>\n",
       "      <td>1198</td>\n",
       "      <td>5</td>\n",
       "      <td>0.004174</td>\n",
       "    </tr>\n",
       "    <tr>\n",
       "      <th>587</th>\n",
       "      <td>vmp594</td>\n",
       "      <td>1023</td>\n",
       "      <td>4</td>\n",
       "      <td>0.003910</td>\n",
       "    </tr>\n",
       "    <tr>\n",
       "      <th>585</th>\n",
       "      <td>vmp697</td>\n",
       "      <td>1078</td>\n",
       "      <td>4</td>\n",
       "      <td>0.003711</td>\n",
       "    </tr>\n",
       "    <tr>\n",
       "      <th>591</th>\n",
       "      <td>gpu0028</td>\n",
       "      <td>275</td>\n",
       "      <td>1</td>\n",
       "      <td>0.003636</td>\n",
       "    </tr>\n",
       "    <tr>\n",
       "      <th>571</th>\n",
       "      <td>gpu0008</td>\n",
       "      <td>1621</td>\n",
       "      <td>5</td>\n",
       "      <td>0.003085</td>\n",
       "    </tr>\n",
       "    <tr>\n",
       "      <th>541</th>\n",
       "      <td>vmp425</td>\n",
       "      <td>5442</td>\n",
       "      <td>13</td>\n",
       "      <td>0.002389</td>\n",
       "    </tr>\n",
       "    <tr>\n",
       "      <th>564</th>\n",
       "      <td>gpu0017</td>\n",
       "      <td>2926</td>\n",
       "      <td>5</td>\n",
       "      <td>0.001709</td>\n",
       "    </tr>\n",
       "    <tr>\n",
       "      <th>487</th>\n",
       "      <td>vmp1223</td>\n",
       "      <td>7203</td>\n",
       "      <td>11</td>\n",
       "      <td>0.001527</td>\n",
       "    </tr>\n",
       "    <tr>\n",
       "      <th>572</th>\n",
       "      <td>gpu0012</td>\n",
       "      <td>1529</td>\n",
       "      <td>2</td>\n",
       "      <td>0.001308</td>\n",
       "    </tr>\n",
       "    <tr>\n",
       "      <th>68</th>\n",
       "      <td>vmp1354</td>\n",
       "      <td>24104</td>\n",
       "      <td>31</td>\n",
       "      <td>0.001286</td>\n",
       "    </tr>\n",
       "    <tr>\n",
       "      <th>554</th>\n",
       "      <td>vmp422</td>\n",
       "      <td>3957</td>\n",
       "      <td>5</td>\n",
       "      <td>0.001264</td>\n",
       "    </tr>\n",
       "    <tr>\n",
       "      <th>405</th>\n",
       "      <td>vmp1218</td>\n",
       "      <td>7930</td>\n",
       "      <td>10</td>\n",
       "      <td>0.001261</td>\n",
       "    </tr>\n",
       "    <tr>\n",
       "      <th>317</th>\n",
       "      <td>vmp301</td>\n",
       "      <td>9193</td>\n",
       "      <td>11</td>\n",
       "      <td>0.001197</td>\n",
       "    </tr>\n",
       "    <tr>\n",
       "      <th>361</th>\n",
       "      <td>vmp441</td>\n",
       "      <td>8380</td>\n",
       "      <td>10</td>\n",
       "      <td>0.001193</td>\n",
       "    </tr>\n",
       "    <tr>\n",
       "      <th>442</th>\n",
       "      <td>vmp443</td>\n",
       "      <td>7602</td>\n",
       "      <td>9</td>\n",
       "      <td>0.001184</td>\n",
       "    </tr>\n",
       "    <tr>\n",
       "      <th>351</th>\n",
       "      <td>vmp1225</td>\n",
       "      <td>8504</td>\n",
       "      <td>10</td>\n",
       "      <td>0.001176</td>\n",
       "    </tr>\n",
       "    <tr>\n",
       "      <th>403</th>\n",
       "      <td>vmp401</td>\n",
       "      <td>7938</td>\n",
       "      <td>9</td>\n",
       "      <td>0.001134</td>\n",
       "    </tr>\n",
       "    <tr>\n",
       "      <th>132</th>\n",
       "      <td>vmp1350</td>\n",
       "      <td>21316</td>\n",
       "      <td>24</td>\n",
       "      <td>0.001126</td>\n",
       "    </tr>\n",
       "    <tr>\n",
       "      <th>327</th>\n",
       "      <td>vmp409</td>\n",
       "      <td>8952</td>\n",
       "      <td>10</td>\n",
       "      <td>0.001117</td>\n",
       "    </tr>\n",
       "    <tr>\n",
       "      <th>...</th>\n",
       "      <td>...</td>\n",
       "      <td>...</td>\n",
       "      <td>...</td>\n",
       "      <td>...</td>\n",
       "    </tr>\n",
       "    <tr>\n",
       "      <th>78</th>\n",
       "      <td>vmp1371</td>\n",
       "      <td>23793</td>\n",
       "      <td>1</td>\n",
       "      <td>0.000042</td>\n",
       "    </tr>\n",
       "    <tr>\n",
       "      <th>72</th>\n",
       "      <td>vmp1091</td>\n",
       "      <td>24034</td>\n",
       "      <td>1</td>\n",
       "      <td>0.000042</td>\n",
       "    </tr>\n",
       "    <tr>\n",
       "      <th>64</th>\n",
       "      <td>vmp1311</td>\n",
       "      <td>24366</td>\n",
       "      <td>1</td>\n",
       "      <td>0.000041</td>\n",
       "    </tr>\n",
       "    <tr>\n",
       "      <th>63</th>\n",
       "      <td>vmp1037</td>\n",
       "      <td>24507</td>\n",
       "      <td>1</td>\n",
       "      <td>0.000041</td>\n",
       "    </tr>\n",
       "    <tr>\n",
       "      <th>62</th>\n",
       "      <td>vmp1383</td>\n",
       "      <td>24517</td>\n",
       "      <td>1</td>\n",
       "      <td>0.000041</td>\n",
       "    </tr>\n",
       "    <tr>\n",
       "      <th>57</th>\n",
       "      <td>vmp1021</td>\n",
       "      <td>24964</td>\n",
       "      <td>1</td>\n",
       "      <td>0.000040</td>\n",
       "    </tr>\n",
       "    <tr>\n",
       "      <th>48</th>\n",
       "      <td>vmp1368</td>\n",
       "      <td>25506</td>\n",
       "      <td>1</td>\n",
       "      <td>0.000039</td>\n",
       "    </tr>\n",
       "    <tr>\n",
       "      <th>44</th>\n",
       "      <td>vmp1381</td>\n",
       "      <td>26287</td>\n",
       "      <td>1</td>\n",
       "      <td>0.000038</td>\n",
       "    </tr>\n",
       "    <tr>\n",
       "      <th>39</th>\n",
       "      <td>vmp1026</td>\n",
       "      <td>27184</td>\n",
       "      <td>1</td>\n",
       "      <td>0.000037</td>\n",
       "    </tr>\n",
       "    <tr>\n",
       "      <th>38</th>\n",
       "      <td>vmp1384</td>\n",
       "      <td>27216</td>\n",
       "      <td>1</td>\n",
       "      <td>0.000037</td>\n",
       "    </tr>\n",
       "    <tr>\n",
       "      <th>37</th>\n",
       "      <td>vmp1387</td>\n",
       "      <td>27752</td>\n",
       "      <td>1</td>\n",
       "      <td>0.000036</td>\n",
       "    </tr>\n",
       "    <tr>\n",
       "      <th>36</th>\n",
       "      <td>vmp1019</td>\n",
       "      <td>27847</td>\n",
       "      <td>1</td>\n",
       "      <td>0.000036</td>\n",
       "    </tr>\n",
       "    <tr>\n",
       "      <th>34</th>\n",
       "      <td>vmp1027</td>\n",
       "      <td>28219</td>\n",
       "      <td>1</td>\n",
       "      <td>0.000035</td>\n",
       "    </tr>\n",
       "    <tr>\n",
       "      <th>33</th>\n",
       "      <td>vmp1014</td>\n",
       "      <td>28458</td>\n",
       "      <td>1</td>\n",
       "      <td>0.000035</td>\n",
       "    </tr>\n",
       "    <tr>\n",
       "      <th>31</th>\n",
       "      <td>vmp1030</td>\n",
       "      <td>28709</td>\n",
       "      <td>1</td>\n",
       "      <td>0.000035</td>\n",
       "    </tr>\n",
       "    <tr>\n",
       "      <th>29</th>\n",
       "      <td>vmp1025</td>\n",
       "      <td>29206</td>\n",
       "      <td>1</td>\n",
       "      <td>0.000034</td>\n",
       "    </tr>\n",
       "    <tr>\n",
       "      <th>28</th>\n",
       "      <td>vmp1028</td>\n",
       "      <td>29465</td>\n",
       "      <td>1</td>\n",
       "      <td>0.000034</td>\n",
       "    </tr>\n",
       "    <tr>\n",
       "      <th>27</th>\n",
       "      <td>vmp1012</td>\n",
       "      <td>29471</td>\n",
       "      <td>1</td>\n",
       "      <td>0.000034</td>\n",
       "    </tr>\n",
       "    <tr>\n",
       "      <th>26</th>\n",
       "      <td>vmp1039</td>\n",
       "      <td>29480</td>\n",
       "      <td>1</td>\n",
       "      <td>0.000034</td>\n",
       "    </tr>\n",
       "    <tr>\n",
       "      <th>18</th>\n",
       "      <td>vmp1040</td>\n",
       "      <td>31954</td>\n",
       "      <td>1</td>\n",
       "      <td>0.000031</td>\n",
       "    </tr>\n",
       "    <tr>\n",
       "      <th>16</th>\n",
       "      <td>vmp1024</td>\n",
       "      <td>32465</td>\n",
       "      <td>1</td>\n",
       "      <td>0.000031</td>\n",
       "    </tr>\n",
       "    <tr>\n",
       "      <th>14</th>\n",
       "      <td>vmp1302</td>\n",
       "      <td>33143</td>\n",
       "      <td>1</td>\n",
       "      <td>0.000030</td>\n",
       "    </tr>\n",
       "    <tr>\n",
       "      <th>12</th>\n",
       "      <td>vmp1007</td>\n",
       "      <td>33786</td>\n",
       "      <td>1</td>\n",
       "      <td>0.000030</td>\n",
       "    </tr>\n",
       "    <tr>\n",
       "      <th>9</th>\n",
       "      <td>vmp1015</td>\n",
       "      <td>34384</td>\n",
       "      <td>1</td>\n",
       "      <td>0.000029</td>\n",
       "    </tr>\n",
       "    <tr>\n",
       "      <th>7</th>\n",
       "      <td>vmp1002</td>\n",
       "      <td>36047</td>\n",
       "      <td>1</td>\n",
       "      <td>0.000028</td>\n",
       "    </tr>\n",
       "    <tr>\n",
       "      <th>5</th>\n",
       "      <td>vmp1010</td>\n",
       "      <td>36912</td>\n",
       "      <td>1</td>\n",
       "      <td>0.000027</td>\n",
       "    </tr>\n",
       "    <tr>\n",
       "      <th>4</th>\n",
       "      <td>vmp1003</td>\n",
       "      <td>38681</td>\n",
       "      <td>1</td>\n",
       "      <td>0.000026</td>\n",
       "    </tr>\n",
       "    <tr>\n",
       "      <th>3</th>\n",
       "      <td>vmp1298</td>\n",
       "      <td>47568</td>\n",
       "      <td>1</td>\n",
       "      <td>0.000021</td>\n",
       "    </tr>\n",
       "    <tr>\n",
       "      <th>2</th>\n",
       "      <td>vmp1001</td>\n",
       "      <td>66221</td>\n",
       "      <td>1</td>\n",
       "      <td>0.000015</td>\n",
       "    </tr>\n",
       "    <tr>\n",
       "      <th>0</th>\n",
       "      <td>vmp1409</td>\n",
       "      <td>92419</td>\n",
       "      <td>1</td>\n",
       "      <td>0.000011</td>\n",
       "    </tr>\n",
       "  </tbody>\n",
       "</table>\n",
       "<p>593 rows × 4 columns</p>\n",
       "</div>"
      ],
      "text/plain": [
       "         Node Code  Total Jobs  Failed Jobs  Frequency\n",
       "592  vm-qa-node004           6            1   0.166667\n",
       "588         vmp595        1018            8   0.007859\n",
       "586         vmp598        1042            7   0.006718\n",
       "584         vmp592        1084            7   0.006458\n",
       "579         vmp692        1117            7   0.006267\n",
       "578         vmp696        1118            7   0.006261\n",
       "590        gpu0022         505            3   0.005941\n",
       "582        gpu0010        1097            5   0.004558\n",
       "581         vmp695        1097            5   0.004558\n",
       "580         vmp597        1099            5   0.004550\n",
       "577         vmp698        1147            5   0.004359\n",
       "576        gpu0007        1198            5   0.004174\n",
       "587         vmp594        1023            4   0.003910\n",
       "585         vmp697        1078            4   0.003711\n",
       "591        gpu0028         275            1   0.003636\n",
       "571        gpu0008        1621            5   0.003085\n",
       "541         vmp425        5442           13   0.002389\n",
       "564        gpu0017        2926            5   0.001709\n",
       "487        vmp1223        7203           11   0.001527\n",
       "572        gpu0012        1529            2   0.001308\n",
       "68         vmp1354       24104           31   0.001286\n",
       "554         vmp422        3957            5   0.001264\n",
       "405        vmp1218        7930           10   0.001261\n",
       "317         vmp301        9193           11   0.001197\n",
       "361         vmp441        8380           10   0.001193\n",
       "442         vmp443        7602            9   0.001184\n",
       "351        vmp1225        8504           10   0.001176\n",
       "403         vmp401        7938            9   0.001134\n",
       "132        vmp1350       21316           24   0.001126\n",
       "327         vmp409        8952           10   0.001117\n",
       "..             ...         ...          ...        ...\n",
       "78         vmp1371       23793            1   0.000042\n",
       "72         vmp1091       24034            1   0.000042\n",
       "64         vmp1311       24366            1   0.000041\n",
       "63         vmp1037       24507            1   0.000041\n",
       "62         vmp1383       24517            1   0.000041\n",
       "57         vmp1021       24964            1   0.000040\n",
       "48         vmp1368       25506            1   0.000039\n",
       "44         vmp1381       26287            1   0.000038\n",
       "39         vmp1026       27184            1   0.000037\n",
       "38         vmp1384       27216            1   0.000037\n",
       "37         vmp1387       27752            1   0.000036\n",
       "36         vmp1019       27847            1   0.000036\n",
       "34         vmp1027       28219            1   0.000035\n",
       "33         vmp1014       28458            1   0.000035\n",
       "31         vmp1030       28709            1   0.000035\n",
       "29         vmp1025       29206            1   0.000034\n",
       "28         vmp1028       29465            1   0.000034\n",
       "27         vmp1012       29471            1   0.000034\n",
       "26         vmp1039       29480            1   0.000034\n",
       "18         vmp1040       31954            1   0.000031\n",
       "16         vmp1024       32465            1   0.000031\n",
       "14         vmp1302       33143            1   0.000030\n",
       "12         vmp1007       33786            1   0.000030\n",
       "9          vmp1015       34384            1   0.000029\n",
       "7          vmp1002       36047            1   0.000028\n",
       "5          vmp1010       36912            1   0.000027\n",
       "4          vmp1003       38681            1   0.000026\n",
       "3          vmp1298       47568            1   0.000021\n",
       "2          vmp1001       66221            1   0.000015\n",
       "0          vmp1409       92419            1   0.000011\n",
       "\n",
       "[593 rows x 4 columns]"
      ]
     },
     "execution_count": 145,
     "metadata": {},
     "output_type": "execute_result"
    }
   ],
   "source": [
    "combined_df.sort_values(by=['Frequency'], ascending=False)"
   ]
  },
  {
   "cell_type": "markdown",
   "metadata": {},
   "source": [
    "# Forunately, the most commonly used node (vmp 1409) had the lowest failure rate."
   ]
  },
  {
   "cell_type": "code",
   "execution_count": 146,
   "metadata": {},
   "outputs": [
    {
     "data": {
      "text/plain": [
       "0.0007285941178738537"
      ]
     },
     "execution_count": 146,
     "metadata": {},
     "output_type": "execute_result"
    }
   ],
   "source": [
    "combined_df['Frequency'].mean()"
   ]
  },
  {
   "cell_type": "markdown",
   "metadata": {},
   "source": [
    "# The mean node failure rate is about .07%."
   ]
  },
  {
   "cell_type": "code",
   "execution_count": 147,
   "metadata": {},
   "outputs": [
    {
     "data": {
      "text/plain": [
       "0.0002610966057441253"
      ]
     },
     "execution_count": 147,
     "metadata": {},
     "output_type": "execute_result"
    }
   ],
   "source": [
    "combined_df['Frequency'].median()"
   ]
  },
  {
   "cell_type": "markdown",
   "metadata": {},
   "source": [
    "# The median failure rate is about 0.03%."
   ]
  },
  {
   "cell_type": "code",
   "execution_count": 148,
   "metadata": {},
   "outputs": [
    {
     "data": {
      "text/plain": [
       "0.0068755232336971"
      ]
     },
     "execution_count": 148,
     "metadata": {},
     "output_type": "execute_result"
    }
   ],
   "source": [
    "combined_df[\"Frequency\"].std()"
   ]
  },
  {
   "cell_type": "markdown",
   "metadata": {},
   "source": [
    "# One standard deviation is about 0.7%."
   ]
  },
  {
   "cell_type": "markdown",
   "metadata": {},
   "source": [
    "# Let's look at the distribution of failure rates with a histogram."
   ]
  },
  {
   "cell_type": "code",
   "execution_count": 149,
   "metadata": {},
   "outputs": [
    {
     "data": {
      "text/plain": [
       "Text(0,0.5,'Frequency of Failure')"
      ]
     },
     "execution_count": 149,
     "metadata": {},
     "output_type": "execute_result"
    },
    {
     "data": {
      "image/png": "[encoded data removed]",
      "text/plain": [
       "<Figure size 1152x864 with 1 Axes>"
      ]
     },
     "metadata": {},
     "output_type": "display_data"
    }
   ],
   "source": [
    "combined_df.hist(column='Frequency', bins=100, grid=False, figsize=(16,12), color='#86bf91', zorder=2, rwidth=0.5,)\n",
    "plt.xlabel(\"Rate of Failure 0.1 = 10%\", fontsize=16)\n",
    "plt.semilogx()\n",
    "plt.semilogy()\n",
    "plt.title(\"Failure Rate Histogram\",fontsize=16)\n",
    "plt.ylabel(\"Frequency of Failure\",fontsize=16)"
   ]
  },
  {
   "cell_type": "code",
   "execution_count": 150,
   "metadata": {},
   "outputs": [
    {
     "data": {
      "text/plain": [
       "Text(0.5,0,'Frequency of Failure')"
      ]
     },
     "execution_count": 150,
     "metadata": {},
     "output_type": "execute_result"
    },
    {
     "data": {
      "image/png": "[encoded data removed]",
      "text/plain": [
       "<Figure size 432x720 with 1 Axes>"
      ]
     },
     "metadata": {},
     "output_type": "display_data"
    }
   ],
   "source": [
    "combined_df[\"Frequency\"].plot(kind='box', figsize=(6,10))\n",
    "plt.semilogy()\n",
    "plt.xlabel(\"Frequency of Failure\",fontsize=16)"
   ]
  },
  {
   "cell_type": "markdown",
   "metadata": {},
   "source": [
    "# The boxplot and histogram shows the data is skewed right b/c of some high frequency node failure outliers. Let's figure out exactly which nodes have these high failure rates, and determine how they compare to the median."
   ]
  },
  {
   "cell_type": "code",
   "execution_count": 28,
   "metadata": {},
   "outputs": [],
   "source": [
    "q = [0.25, 0.75]"
   ]
  },
  {
   "cell_type": "code",
   "execution_count": 151,
   "metadata": {},
   "outputs": [
    {
     "data": {
      "text/plain": [
       "0.25    0.000108\n",
       "0.75    0.000499\n",
       "Name: Frequency, dtype: float64"
      ]
     },
     "execution_count": 151,
     "metadata": {},
     "output_type": "execute_result"
    }
   ],
   "source": [
    "combined_df[\"Frequency\"].quantile(q)"
   ]
  },
  {
   "cell_type": "markdown",
   "metadata": {},
   "source": [
    "# Depending on how we define an \"outlier,\" any node with a failure rate above the 75% percentile (0.05% fail rate) we may consider to have a disproportionately high fail rate."
   ]
  },
  {
   "cell_type": "code",
   "execution_count": 152,
   "metadata": {},
   "outputs": [
    {
     "data": {
      "text/html": [
       "<div>\n",
       "<style scoped>\n",
       "    .dataframe tbody tr th:only-of-type {\n",
       "        vertical-align: middle;\n",
       "    }\n",
       "\n",
       "    .dataframe tbody tr th {\n",
       "        vertical-align: top;\n",
       "    }\n",
       "\n",
       "    .dataframe thead th {\n",
       "        text-align: right;\n",
       "    }\n",
       "</style>\n",
       "<table border=\"1\" class=\"dataframe\">\n",
       "  <thead>\n",
       "    <tr style=\"text-align: right;\">\n",
       "      <th></th>\n",
       "      <th>Node Code</th>\n",
       "      <th>Total Jobs</th>\n",
       "      <th>Failed Jobs</th>\n",
       "      <th>Frequency</th>\n",
       "    </tr>\n",
       "  </thead>\n",
       "  <tbody>\n",
       "    <tr>\n",
       "      <th>592</th>\n",
       "      <td>vm-qa-node004</td>\n",
       "      <td>6</td>\n",
       "      <td>1</td>\n",
       "      <td>0.166667</td>\n",
       "    </tr>\n",
       "    <tr>\n",
       "      <th>588</th>\n",
       "      <td>vmp595</td>\n",
       "      <td>1018</td>\n",
       "      <td>8</td>\n",
       "      <td>0.007859</td>\n",
       "    </tr>\n",
       "    <tr>\n",
       "      <th>586</th>\n",
       "      <td>vmp598</td>\n",
       "      <td>1042</td>\n",
       "      <td>7</td>\n",
       "      <td>0.006718</td>\n",
       "    </tr>\n",
       "    <tr>\n",
       "      <th>584</th>\n",
       "      <td>vmp592</td>\n",
       "      <td>1084</td>\n",
       "      <td>7</td>\n",
       "      <td>0.006458</td>\n",
       "    </tr>\n",
       "    <tr>\n",
       "      <th>579</th>\n",
       "      <td>vmp692</td>\n",
       "      <td>1117</td>\n",
       "      <td>7</td>\n",
       "      <td>0.006267</td>\n",
       "    </tr>\n",
       "  </tbody>\n",
       "</table>\n",
       "</div>"
      ],
      "text/plain": [
       "         Node Code  Total Jobs  Failed Jobs  Frequency\n",
       "592  vm-qa-node004           6            1   0.166667\n",
       "588         vmp595        1018            8   0.007859\n",
       "586         vmp598        1042            7   0.006718\n",
       "584         vmp592        1084            7   0.006458\n",
       "579         vmp692        1117            7   0.006267"
      ]
     },
     "execution_count": 152,
     "metadata": {},
     "output_type": "execute_result"
    }
   ],
   "source": [
    "combined_df.nlargest(5, \"Frequency\")"
   ]
  },
  {
   "cell_type": "markdown",
   "metadata": {},
   "source": [
    "# Node vm-qa-node004  has the highest failure rate, about 17%. This is more than 24 standard deviations from the mean. We can safely say that this a \"bad node\" because it is such an extreme outlier. It should be pointed out that it was only used for 6 total jobs--so this high fail rate may not necessarily be relevant.\n",
    "\n",
    "\n",
    "# The next highest frequency of failures were as follows: Node vmp595 has a 0.79% failure rate, node vmp598 has a 0.67% failure rate, node vmp592 has a 0.65% failure rate, and node vmp692 has a 0.62% failure rate. We can safely consider the top 5 node failure rates outliers because they well outside the inner-quartile range--which has about an 0.05% failure rate cut at the 75th percentile. "
   ]
  },
  {
   "cell_type": "markdown",
   "metadata": {},
   "source": [
    "# Let's focus in on the top quartile (149 nodes) to see if the distribution of failure rates looks different from the general dataset. "
   ]
  },
  {
   "cell_type": "code",
   "execution_count": 153,
   "metadata": {},
   "outputs": [],
   "source": [
    "import seaborn as sns"
   ]
  },
  {
   "cell_type": "code",
   "execution_count": 154,
   "metadata": {},
   "outputs": [],
   "source": [
    "subset_filter = combined_df.loc[combined_df['Frequency']>= combined_df[\"Frequency\"].quantile(0.75)]"
   ]
  },
  {
   "cell_type": "code",
   "execution_count": 157,
   "metadata": {},
   "outputs": [
    {
     "data": {
      "text/html": [
       "<div>\n",
       "<style scoped>\n",
       "    .dataframe tbody tr th:only-of-type {\n",
       "        vertical-align: middle;\n",
       "    }\n",
       "\n",
       "    .dataframe tbody tr th {\n",
       "        vertical-align: top;\n",
       "    }\n",
       "\n",
       "    .dataframe thead th {\n",
       "        text-align: right;\n",
       "    }\n",
       "</style>\n",
       "<table border=\"1\" class=\"dataframe\">\n",
       "  <thead>\n",
       "    <tr style=\"text-align: right;\">\n",
       "      <th></th>\n",
       "      <th>Node Code</th>\n",
       "      <th>Total Jobs</th>\n",
       "      <th>Failed Jobs</th>\n",
       "      <th>Frequency</th>\n",
       "    </tr>\n",
       "  </thead>\n",
       "  <tbody>\n",
       "    <tr>\n",
       "      <th>592</th>\n",
       "      <td>vm-qa-node004</td>\n",
       "      <td>6</td>\n",
       "      <td>1</td>\n",
       "      <td>0.166667</td>\n",
       "    </tr>\n",
       "    <tr>\n",
       "      <th>588</th>\n",
       "      <td>vmp595</td>\n",
       "      <td>1018</td>\n",
       "      <td>8</td>\n",
       "      <td>0.007859</td>\n",
       "    </tr>\n",
       "    <tr>\n",
       "      <th>586</th>\n",
       "      <td>vmp598</td>\n",
       "      <td>1042</td>\n",
       "      <td>7</td>\n",
       "      <td>0.006718</td>\n",
       "    </tr>\n",
       "    <tr>\n",
       "      <th>584</th>\n",
       "      <td>vmp592</td>\n",
       "      <td>1084</td>\n",
       "      <td>7</td>\n",
       "      <td>0.006458</td>\n",
       "    </tr>\n",
       "    <tr>\n",
       "      <th>579</th>\n",
       "      <td>vmp692</td>\n",
       "      <td>1117</td>\n",
       "      <td>7</td>\n",
       "      <td>0.006267</td>\n",
       "    </tr>\n",
       "  </tbody>\n",
       "</table>\n",
       "</div>"
      ],
      "text/plain": [
       "         Node Code  Total Jobs  Failed Jobs  Frequency\n",
       "592  vm-qa-node004           6            1   0.166667\n",
       "588         vmp595        1018            8   0.007859\n",
       "586         vmp598        1042            7   0.006718\n",
       "584         vmp592        1084            7   0.006458\n",
       "579         vmp692        1117            7   0.006267"
      ]
     },
     "execution_count": 157,
     "metadata": {},
     "output_type": "execute_result"
    }
   ],
   "source": [
    "subset_filter.nlargest(5, \"Frequency\")"
   ]
  },
  {
   "cell_type": "code",
   "execution_count": 158,
   "metadata": {
    "scrolled": true
   },
   "outputs": [
    {
     "data": {
      "text/plain": [
       "Text(0.5,0,'Top Quartile Failure Relative Comparison')"
      ]
     },
     "execution_count": 158,
     "metadata": {},
     "output_type": "execute_result"
    },
    {
     "data": {
      "image/png": "[encoded data removed]",
      "text/plain": [
       "<Figure size 432x576 with 1 Axes>"
      ]
     },
     "metadata": {},
     "output_type": "display_data"
    }
   ],
   "source": [
    "subset_filter[\"Frequency\"].plot(kind='box',figsize=(6,8))\n",
    "plt.semilogy()\n",
    "plt.xlabel('Top Quartile Failure Relative Comparison', fontsize=16)"
   ]
  },
  {
   "cell_type": "code",
   "execution_count": 159,
   "metadata": {},
   "outputs": [
    {
     "data": {
      "text/plain": [
       "Text(0.5,1,'Frequency of Failure Histogram for the Top Quartile')"
      ]
     },
     "execution_count": 159,
     "metadata": {},
     "output_type": "execute_result"
    },
    {
     "data": {
      "image/png": "[encoded data removed]",
      "text/plain": [
       "<Figure size 1152x864 with 1 Axes>"
      ]
     },
     "metadata": {},
     "output_type": "display_data"
    }
   ],
   "source": [
    "subset_filter.hist(column='Frequency', bins=100, grid=False, figsize=(16,12), color='#86bf91', zorder=2, rwidth=0.5,)\n",
    "plt.xlabel(\"Rate of Failure 0.1 = 10%\", fontsize=16)\n",
    "plt.semilogx()\n",
    "plt.semilogy()\n",
    "plt.ylabel(\"Frequency of Failure\", fontsize=16)\n",
    "plt.title(\"Frequency of Failure Histogram for the Top Quartile\", fontsize=16)"
   ]
  },
  {
   "cell_type": "code",
   "execution_count": 160,
   "metadata": {},
   "outputs": [
    {
     "data": {
      "text/plain": [
       "Text(0,0.5,'Top Quartile Failed Jobs')"
      ]
     },
     "execution_count": 160,
     "metadata": {},
     "output_type": "execute_result"
    },
    {
     "data": {
      "image/png": "[encoded data removed]",
      "text/plain": [
       "<Figure size 1080x576 with 1 Axes>"
      ]
     },
     "metadata": {},
     "output_type": "display_data"
    }
   ],
   "source": [
    "plt.figure(figsize=(15,8))\n",
    "ax = sns.regplot(x= \"Total Jobs\", y = \"Failed Jobs\", data=subset_filter)\n",
    "plt.xlabel('Top Quartile Total Jobs', fontsize=16)\n",
    "plt.ylabel('Top Quartile Failed Jobs', fontsize=16)"
   ]
  },
  {
   "cell_type": "code",
   "execution_count": 161,
   "metadata": {},
   "outputs": [
    {
     "data": {
      "text/plain": [
       "0.0006782419967444384"
      ]
     },
     "execution_count": 161,
     "metadata": {},
     "output_type": "execute_result"
    }
   ],
   "source": [
    "subset_filter['Frequency'].median()"
   ]
  },
  {
   "cell_type": "markdown",
   "metadata": {},
   "source": [
    "# This boxplot and the historgram tell us that most data in the top quartile has a failure rate of around 0.07% (less than a tenth of a percent). This explains why the histogram is unimodal. AKA the spread is relatively tight, even among the top quartile. There are handful of nodes outside of the 75th percentile within the top quartile that buck this trend (aks above the 94th percentile). Thus, we will safely consider any node above the 94th percentile a \"bad node,\" as opposed to all nodes in the top quartile. "
   ]
  }
 ],
 "metadata": {
  "kernelspec": {
   "display_name": "Python 3",
   "language": "python",
   "name": "python3"
  },
  "language_info": {
   "codemirror_mode": {
    "name": "ipython",
    "version": 3
   },
   "file_extension": ".py",
   "mimetype": "text/x-python",
   "name": "python",
   "nbconvert_exporter": "python",
   "pygments_lexer": "ipython3",
   "version": "3.6.5"
  }
 },
 "nbformat": 4,
 "nbformat_minor": 2
}
